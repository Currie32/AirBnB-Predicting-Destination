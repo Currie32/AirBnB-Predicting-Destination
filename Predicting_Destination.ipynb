{
 "cells": [
  {
   "cell_type": "markdown",
   "metadata": {},
   "source": [
    "# Predicting Destination - AirBnB Customers"
   ]
  },
  {
   "cell_type": "markdown",
   "metadata": {},
   "source": [
    "The goal for this analysis is to build a neural network, using Tensorflow, that can predict which country a new user of AirBnB will make his/her first trip to. More information about the data can be found at: https://www.kaggle.com/c/airbnb-recruiting-new-user-bookings. This data was originally from a 2016 Kaggle competition, sponsored by AirBnB. I believe that it is still an excellent learning reasource because of the opportunity to clean data, engineering features, and build a model, which will all significantly impact the quality of the predictions."
   ]
  },
  {
   "cell_type": "code",
   "execution_count": null,
   "metadata": {
    "collapsed": false
   },
   "outputs": [
    {
     "name": "stderr",
     "output_type": "stream",
     "text": [
      "//anaconda/lib/python3.5/site-packages/sklearn/cross_validation.py:44: DeprecationWarning: This module was deprecated in version 0.18 in favor of the model_selection module into which all the refactored classes and functions are moved. Also note that the interface of the new CV iterators are different from that of this module. This module will be removed in 0.20.\n",
      "  \"This module will be removed in 0.20.\", DeprecationWarning)\n"
     ]
    }
   ],
   "source": [
    "import pandas as pd\n",
    "import numpy as np\n",
    "import tensorflow as tf\n",
    "import matplotlib.pyplot as plt\n",
    "from sklearn.cross_validation import train_test_split\n",
    "from scipy import stats\n",
    "pd.set_option(\"display.max_columns\", 1000)\n",
    "import math\n",
    "from pandas.tseries.holiday import USFederalHolidayCalendar\n",
    "from pandas.tseries.offsets import CustomBusinessDay\n",
    "from sklearn.cross_validation import train_test_split\n",
    "import tensorflow as tf\n",
    "from tqdm import tqdm\n",
    "from sklearn.preprocessing import LabelEncoder\n",
    "from sklearn import preprocessing\n",
    "from sklearn.metrics import classification_report"
   ]
  },
  {
   "cell_type": "code",
   "execution_count": null,
   "metadata": {
    "collapsed": true
   },
   "outputs": [],
   "source": [
    "# Load the data\n",
    "countries = pd.read_csv(\"countries.csv\")\n",
    "test = pd.read_csv(\"test_users.csv\")\n",
    "train = pd.read_csv(\"train_users_2.csv\")\n",
    "sessions = pd.read_csv(\"sessions.csv\")"
   ]
  },
  {
   "cell_type": "markdown",
   "metadata": {},
   "source": [
    "First, let's have a look at the data we are working with."
   ]
  },
  {
   "cell_type": "code",
   "execution_count": null,
   "metadata": {
    "collapsed": false
   },
   "outputs": [
    {
     "data": {
      "text/html": [
       "<div>\n",
       "<table border=\"1\" class=\"dataframe\">\n",
       "  <thead>\n",
       "    <tr style=\"text-align: right;\">\n",
       "      <th></th>\n",
       "      <th>id</th>\n",
       "      <th>date_account_created</th>\n",
       "      <th>timestamp_first_active</th>\n",
       "      <th>date_first_booking</th>\n",
       "      <th>gender</th>\n",
       "      <th>age</th>\n",
       "      <th>signup_method</th>\n",
       "      <th>signup_flow</th>\n",
       "      <th>language</th>\n",
       "      <th>affiliate_channel</th>\n",
       "      <th>affiliate_provider</th>\n",
       "      <th>first_affiliate_tracked</th>\n",
       "      <th>signup_app</th>\n",
       "      <th>first_device_type</th>\n",
       "      <th>first_browser</th>\n",
       "    </tr>\n",
       "  </thead>\n",
       "  <tbody>\n",
       "    <tr>\n",
       "      <th>0</th>\n",
       "      <td>5uwns89zht</td>\n",
       "      <td>2014-07-01</td>\n",
       "      <td>20140701000006</td>\n",
       "      <td>NaN</td>\n",
       "      <td>FEMALE</td>\n",
       "      <td>35.0</td>\n",
       "      <td>facebook</td>\n",
       "      <td>0</td>\n",
       "      <td>en</td>\n",
       "      <td>direct</td>\n",
       "      <td>direct</td>\n",
       "      <td>untracked</td>\n",
       "      <td>Moweb</td>\n",
       "      <td>iPhone</td>\n",
       "      <td>Mobile Safari</td>\n",
       "    </tr>\n",
       "    <tr>\n",
       "      <th>1</th>\n",
       "      <td>jtl0dijy2j</td>\n",
       "      <td>2014-07-01</td>\n",
       "      <td>20140701000051</td>\n",
       "      <td>NaN</td>\n",
       "      <td>-unknown-</td>\n",
       "      <td>NaN</td>\n",
       "      <td>basic</td>\n",
       "      <td>0</td>\n",
       "      <td>en</td>\n",
       "      <td>direct</td>\n",
       "      <td>direct</td>\n",
       "      <td>untracked</td>\n",
       "      <td>Moweb</td>\n",
       "      <td>iPhone</td>\n",
       "      <td>Mobile Safari</td>\n",
       "    </tr>\n",
       "    <tr>\n",
       "      <th>2</th>\n",
       "      <td>xx0ulgorjt</td>\n",
       "      <td>2014-07-01</td>\n",
       "      <td>20140701000148</td>\n",
       "      <td>NaN</td>\n",
       "      <td>-unknown-</td>\n",
       "      <td>NaN</td>\n",
       "      <td>basic</td>\n",
       "      <td>0</td>\n",
       "      <td>en</td>\n",
       "      <td>direct</td>\n",
       "      <td>direct</td>\n",
       "      <td>linked</td>\n",
       "      <td>Web</td>\n",
       "      <td>Windows Desktop</td>\n",
       "      <td>Chrome</td>\n",
       "    </tr>\n",
       "    <tr>\n",
       "      <th>3</th>\n",
       "      <td>6c6puo6ix0</td>\n",
       "      <td>2014-07-01</td>\n",
       "      <td>20140701000215</td>\n",
       "      <td>NaN</td>\n",
       "      <td>-unknown-</td>\n",
       "      <td>NaN</td>\n",
       "      <td>basic</td>\n",
       "      <td>0</td>\n",
       "      <td>en</td>\n",
       "      <td>direct</td>\n",
       "      <td>direct</td>\n",
       "      <td>linked</td>\n",
       "      <td>Web</td>\n",
       "      <td>Windows Desktop</td>\n",
       "      <td>IE</td>\n",
       "    </tr>\n",
       "    <tr>\n",
       "      <th>4</th>\n",
       "      <td>czqhjk3yfe</td>\n",
       "      <td>2014-07-01</td>\n",
       "      <td>20140701000305</td>\n",
       "      <td>NaN</td>\n",
       "      <td>-unknown-</td>\n",
       "      <td>NaN</td>\n",
       "      <td>basic</td>\n",
       "      <td>0</td>\n",
       "      <td>en</td>\n",
       "      <td>direct</td>\n",
       "      <td>direct</td>\n",
       "      <td>untracked</td>\n",
       "      <td>Web</td>\n",
       "      <td>Mac Desktop</td>\n",
       "      <td>Safari</td>\n",
       "    </tr>\n",
       "  </tbody>\n",
       "</table>\n",
       "</div>"
      ],
      "text/plain": [
       "           id date_account_created  timestamp_first_active  \\\n",
       "0  5uwns89zht           2014-07-01          20140701000006   \n",
       "1  jtl0dijy2j           2014-07-01          20140701000051   \n",
       "2  xx0ulgorjt           2014-07-01          20140701000148   \n",
       "3  6c6puo6ix0           2014-07-01          20140701000215   \n",
       "4  czqhjk3yfe           2014-07-01          20140701000305   \n",
       "\n",
       "   date_first_booking     gender   age signup_method  signup_flow language  \\\n",
       "0                 NaN     FEMALE  35.0      facebook            0       en   \n",
       "1                 NaN  -unknown-   NaN         basic            0       en   \n",
       "2                 NaN  -unknown-   NaN         basic            0       en   \n",
       "3                 NaN  -unknown-   NaN         basic            0       en   \n",
       "4                 NaN  -unknown-   NaN         basic            0       en   \n",
       "\n",
       "  affiliate_channel affiliate_provider first_affiliate_tracked signup_app  \\\n",
       "0            direct             direct               untracked      Moweb   \n",
       "1            direct             direct               untracked      Moweb   \n",
       "2            direct             direct                  linked        Web   \n",
       "3            direct             direct                  linked        Web   \n",
       "4            direct             direct               untracked        Web   \n",
       "\n",
       "  first_device_type  first_browser  \n",
       "0            iPhone  Mobile Safari  \n",
       "1            iPhone  Mobile Safari  \n",
       "2   Windows Desktop         Chrome  \n",
       "3   Windows Desktop             IE  \n",
       "4       Mac Desktop         Safari  "
      ]
     },
     "execution_count": 3,
     "metadata": {},
     "output_type": "execute_result"
    }
   ],
   "source": [
    "test.head()"
   ]
  },
  {
   "cell_type": "code",
   "execution_count": null,
   "metadata": {
    "collapsed": false
   },
   "outputs": [
    {
     "data": {
      "text/html": [
       "<div>\n",
       "<table border=\"1\" class=\"dataframe\">\n",
       "  <thead>\n",
       "    <tr style=\"text-align: right;\">\n",
       "      <th></th>\n",
       "      <th>id</th>\n",
       "      <th>date_account_created</th>\n",
       "      <th>timestamp_first_active</th>\n",
       "      <th>date_first_booking</th>\n",
       "      <th>gender</th>\n",
       "      <th>age</th>\n",
       "      <th>signup_method</th>\n",
       "      <th>signup_flow</th>\n",
       "      <th>language</th>\n",
       "      <th>affiliate_channel</th>\n",
       "      <th>affiliate_provider</th>\n",
       "      <th>first_affiliate_tracked</th>\n",
       "      <th>signup_app</th>\n",
       "      <th>first_device_type</th>\n",
       "      <th>first_browser</th>\n",
       "      <th>country_destination</th>\n",
       "    </tr>\n",
       "  </thead>\n",
       "  <tbody>\n",
       "    <tr>\n",
       "      <th>0</th>\n",
       "      <td>gxn3p5htnn</td>\n",
       "      <td>2010-06-28</td>\n",
       "      <td>20090319043255</td>\n",
       "      <td>NaN</td>\n",
       "      <td>-unknown-</td>\n",
       "      <td>NaN</td>\n",
       "      <td>facebook</td>\n",
       "      <td>0</td>\n",
       "      <td>en</td>\n",
       "      <td>direct</td>\n",
       "      <td>direct</td>\n",
       "      <td>untracked</td>\n",
       "      <td>Web</td>\n",
       "      <td>Mac Desktop</td>\n",
       "      <td>Chrome</td>\n",
       "      <td>NDF</td>\n",
       "    </tr>\n",
       "    <tr>\n",
       "      <th>1</th>\n",
       "      <td>820tgsjxq7</td>\n",
       "      <td>2011-05-25</td>\n",
       "      <td>20090523174809</td>\n",
       "      <td>NaN</td>\n",
       "      <td>MALE</td>\n",
       "      <td>38.0</td>\n",
       "      <td>facebook</td>\n",
       "      <td>0</td>\n",
       "      <td>en</td>\n",
       "      <td>seo</td>\n",
       "      <td>google</td>\n",
       "      <td>untracked</td>\n",
       "      <td>Web</td>\n",
       "      <td>Mac Desktop</td>\n",
       "      <td>Chrome</td>\n",
       "      <td>NDF</td>\n",
       "    </tr>\n",
       "    <tr>\n",
       "      <th>2</th>\n",
       "      <td>4ft3gnwmtx</td>\n",
       "      <td>2010-09-28</td>\n",
       "      <td>20090609231247</td>\n",
       "      <td>2010-08-02</td>\n",
       "      <td>FEMALE</td>\n",
       "      <td>56.0</td>\n",
       "      <td>basic</td>\n",
       "      <td>3</td>\n",
       "      <td>en</td>\n",
       "      <td>direct</td>\n",
       "      <td>direct</td>\n",
       "      <td>untracked</td>\n",
       "      <td>Web</td>\n",
       "      <td>Windows Desktop</td>\n",
       "      <td>IE</td>\n",
       "      <td>US</td>\n",
       "    </tr>\n",
       "    <tr>\n",
       "      <th>3</th>\n",
       "      <td>bjjt8pjhuk</td>\n",
       "      <td>2011-12-05</td>\n",
       "      <td>20091031060129</td>\n",
       "      <td>2012-09-08</td>\n",
       "      <td>FEMALE</td>\n",
       "      <td>42.0</td>\n",
       "      <td>facebook</td>\n",
       "      <td>0</td>\n",
       "      <td>en</td>\n",
       "      <td>direct</td>\n",
       "      <td>direct</td>\n",
       "      <td>untracked</td>\n",
       "      <td>Web</td>\n",
       "      <td>Mac Desktop</td>\n",
       "      <td>Firefox</td>\n",
       "      <td>other</td>\n",
       "    </tr>\n",
       "    <tr>\n",
       "      <th>4</th>\n",
       "      <td>87mebub9p4</td>\n",
       "      <td>2010-09-14</td>\n",
       "      <td>20091208061105</td>\n",
       "      <td>2010-02-18</td>\n",
       "      <td>-unknown-</td>\n",
       "      <td>41.0</td>\n",
       "      <td>basic</td>\n",
       "      <td>0</td>\n",
       "      <td>en</td>\n",
       "      <td>direct</td>\n",
       "      <td>direct</td>\n",
       "      <td>untracked</td>\n",
       "      <td>Web</td>\n",
       "      <td>Mac Desktop</td>\n",
       "      <td>Chrome</td>\n",
       "      <td>US</td>\n",
       "    </tr>\n",
       "  </tbody>\n",
       "</table>\n",
       "</div>"
      ],
      "text/plain": [
       "           id date_account_created  timestamp_first_active date_first_booking  \\\n",
       "0  gxn3p5htnn           2010-06-28          20090319043255                NaN   \n",
       "1  820tgsjxq7           2011-05-25          20090523174809                NaN   \n",
       "2  4ft3gnwmtx           2010-09-28          20090609231247         2010-08-02   \n",
       "3  bjjt8pjhuk           2011-12-05          20091031060129         2012-09-08   \n",
       "4  87mebub9p4           2010-09-14          20091208061105         2010-02-18   \n",
       "\n",
       "      gender   age signup_method  signup_flow language affiliate_channel  \\\n",
       "0  -unknown-   NaN      facebook            0       en            direct   \n",
       "1       MALE  38.0      facebook            0       en               seo   \n",
       "2     FEMALE  56.0         basic            3       en            direct   \n",
       "3     FEMALE  42.0      facebook            0       en            direct   \n",
       "4  -unknown-  41.0         basic            0       en            direct   \n",
       "\n",
       "  affiliate_provider first_affiliate_tracked signup_app first_device_type  \\\n",
       "0             direct               untracked        Web       Mac Desktop   \n",
       "1             google               untracked        Web       Mac Desktop   \n",
       "2             direct               untracked        Web   Windows Desktop   \n",
       "3             direct               untracked        Web       Mac Desktop   \n",
       "4             direct               untracked        Web       Mac Desktop   \n",
       "\n",
       "  first_browser country_destination  \n",
       "0        Chrome                 NDF  \n",
       "1        Chrome                 NDF  \n",
       "2            IE                  US  \n",
       "3       Firefox               other  \n",
       "4        Chrome                  US  "
      ]
     },
     "execution_count": 4,
     "metadata": {},
     "output_type": "execute_result"
    }
   ],
   "source": [
    "train.head()"
   ]
  },
  {
   "cell_type": "code",
   "execution_count": null,
   "metadata": {
    "collapsed": false
   },
   "outputs": [
    {
     "data": {
      "text/html": [
       "<div>\n",
       "<table border=\"1\" class=\"dataframe\">\n",
       "  <thead>\n",
       "    <tr style=\"text-align: right;\">\n",
       "      <th></th>\n",
       "      <th>user_id</th>\n",
       "      <th>action</th>\n",
       "      <th>action_type</th>\n",
       "      <th>action_detail</th>\n",
       "      <th>device_type</th>\n",
       "      <th>secs_elapsed</th>\n",
       "    </tr>\n",
       "  </thead>\n",
       "  <tbody>\n",
       "    <tr>\n",
       "      <th>0</th>\n",
       "      <td>d1mm9tcy42</td>\n",
       "      <td>lookup</td>\n",
       "      <td>NaN</td>\n",
       "      <td>NaN</td>\n",
       "      <td>Windows Desktop</td>\n",
       "      <td>319.0</td>\n",
       "    </tr>\n",
       "    <tr>\n",
       "      <th>1</th>\n",
       "      <td>d1mm9tcy42</td>\n",
       "      <td>search_results</td>\n",
       "      <td>click</td>\n",
       "      <td>view_search_results</td>\n",
       "      <td>Windows Desktop</td>\n",
       "      <td>67753.0</td>\n",
       "    </tr>\n",
       "    <tr>\n",
       "      <th>2</th>\n",
       "      <td>d1mm9tcy42</td>\n",
       "      <td>lookup</td>\n",
       "      <td>NaN</td>\n",
       "      <td>NaN</td>\n",
       "      <td>Windows Desktop</td>\n",
       "      <td>301.0</td>\n",
       "    </tr>\n",
       "    <tr>\n",
       "      <th>3</th>\n",
       "      <td>d1mm9tcy42</td>\n",
       "      <td>search_results</td>\n",
       "      <td>click</td>\n",
       "      <td>view_search_results</td>\n",
       "      <td>Windows Desktop</td>\n",
       "      <td>22141.0</td>\n",
       "    </tr>\n",
       "    <tr>\n",
       "      <th>4</th>\n",
       "      <td>d1mm9tcy42</td>\n",
       "      <td>lookup</td>\n",
       "      <td>NaN</td>\n",
       "      <td>NaN</td>\n",
       "      <td>Windows Desktop</td>\n",
       "      <td>435.0</td>\n",
       "    </tr>\n",
       "    <tr>\n",
       "      <th>5</th>\n",
       "      <td>d1mm9tcy42</td>\n",
       "      <td>search_results</td>\n",
       "      <td>click</td>\n",
       "      <td>view_search_results</td>\n",
       "      <td>Windows Desktop</td>\n",
       "      <td>7703.0</td>\n",
       "    </tr>\n",
       "    <tr>\n",
       "      <th>6</th>\n",
       "      <td>d1mm9tcy42</td>\n",
       "      <td>lookup</td>\n",
       "      <td>NaN</td>\n",
       "      <td>NaN</td>\n",
       "      <td>Windows Desktop</td>\n",
       "      <td>115.0</td>\n",
       "    </tr>\n",
       "    <tr>\n",
       "      <th>7</th>\n",
       "      <td>d1mm9tcy42</td>\n",
       "      <td>personalize</td>\n",
       "      <td>data</td>\n",
       "      <td>wishlist_content_update</td>\n",
       "      <td>Windows Desktop</td>\n",
       "      <td>831.0</td>\n",
       "    </tr>\n",
       "    <tr>\n",
       "      <th>8</th>\n",
       "      <td>d1mm9tcy42</td>\n",
       "      <td>index</td>\n",
       "      <td>view</td>\n",
       "      <td>view_search_results</td>\n",
       "      <td>Windows Desktop</td>\n",
       "      <td>20842.0</td>\n",
       "    </tr>\n",
       "    <tr>\n",
       "      <th>9</th>\n",
       "      <td>d1mm9tcy42</td>\n",
       "      <td>lookup</td>\n",
       "      <td>NaN</td>\n",
       "      <td>NaN</td>\n",
       "      <td>Windows Desktop</td>\n",
       "      <td>683.0</td>\n",
       "    </tr>\n",
       "  </tbody>\n",
       "</table>\n",
       "</div>"
      ],
      "text/plain": [
       "      user_id          action action_type            action_detail  \\\n",
       "0  d1mm9tcy42          lookup         NaN                      NaN   \n",
       "1  d1mm9tcy42  search_results       click      view_search_results   \n",
       "2  d1mm9tcy42          lookup         NaN                      NaN   \n",
       "3  d1mm9tcy42  search_results       click      view_search_results   \n",
       "4  d1mm9tcy42          lookup         NaN                      NaN   \n",
       "5  d1mm9tcy42  search_results       click      view_search_results   \n",
       "6  d1mm9tcy42          lookup         NaN                      NaN   \n",
       "7  d1mm9tcy42     personalize        data  wishlist_content_update   \n",
       "8  d1mm9tcy42           index        view      view_search_results   \n",
       "9  d1mm9tcy42          lookup         NaN                      NaN   \n",
       "\n",
       "       device_type  secs_elapsed  \n",
       "0  Windows Desktop         319.0  \n",
       "1  Windows Desktop       67753.0  \n",
       "2  Windows Desktop         301.0  \n",
       "3  Windows Desktop       22141.0  \n",
       "4  Windows Desktop         435.0  \n",
       "5  Windows Desktop        7703.0  \n",
       "6  Windows Desktop         115.0  \n",
       "7  Windows Desktop         831.0  \n",
       "8  Windows Desktop       20842.0  \n",
       "9  Windows Desktop         683.0  "
      ]
     },
     "execution_count": 5,
     "metadata": {},
     "output_type": "execute_result"
    }
   ],
   "source": [
    "sessions.head(10)"
   ]
  },
  {
   "cell_type": "code",
   "execution_count": null,
   "metadata": {
    "collapsed": false
   },
   "outputs": [
    {
     "name": "stdout",
     "output_type": "stream",
     "text": [
      "(62096, 15)\n",
      "(213451, 16)\n",
      "(10567737, 6)\n"
     ]
    }
   ],
   "source": [
    "print(test.shape)\n",
    "print(train.shape)\n",
    "print(sessions.shape)"
   ]
  },
  {
   "cell_type": "markdown",
   "metadata": {},
   "source": [
    "Our target feature is 'country_destination,' which can be found in the 'train' dataframe. Given this, let's first explore the sessions data, then merge it with the train dataframe (on 'user_id'), after we are done transforming it."
   ]
  },
  {
   "cell_type": "markdown",
   "metadata": {},
   "source": [
    "## Sessions"
   ]
  },
  {
   "cell_type": "code",
   "execution_count": null,
   "metadata": {
    "collapsed": false
   },
   "outputs": [
    {
     "data": {
      "text/plain": [
       "user_id            34496\n",
       "action             79626\n",
       "action_type      1126204\n",
       "action_detail    1126204\n",
       "device_type            0\n",
       "secs_elapsed      136031\n",
       "dtype: int64"
      ]
     },
     "execution_count": 7,
     "metadata": {},
     "output_type": "execute_result"
    }
   ],
   "source": [
    "sessions.isnull().sum()"
   ]
  },
  {
   "cell_type": "code",
   "execution_count": null,
   "metadata": {
    "collapsed": true
   },
   "outputs": [],
   "source": [
    "#Drop rows where user_id is null because we want to tie everything back to a user.\n",
    "sessions = sessions[sessions.user_id.notnull()]"
   ]
  },
  {
   "cell_type": "code",
   "execution_count": null,
   "metadata": {
    "collapsed": false
   },
   "outputs": [
    {
     "data": {
      "text/plain": [
       "user_id                0\n",
       "action             79480\n",
       "action_type      1122957\n",
       "action_detail    1122957\n",
       "device_type            0\n",
       "secs_elapsed      135483\n",
       "dtype: int64"
      ]
     },
     "execution_count": 9,
     "metadata": {},
     "output_type": "execute_result"
    }
   ],
   "source": [
    "sessions.isnull().sum()"
   ]
  },
  {
   "cell_type": "code",
   "execution_count": null,
   "metadata": {
    "collapsed": false
   },
   "outputs": [
    {
     "data": {
      "text/plain": [
       "message_post    79480\n",
       "Name: action_type, dtype: int64"
      ]
     },
     "execution_count": 10,
     "metadata": {},
     "output_type": "execute_result"
    }
   ],
   "source": [
    "# How do nulls in action relate to action_type\n",
    "sessions[sessions.action.isnull()].action_type.value_counts()"
   ]
  },
  {
   "cell_type": "code",
   "execution_count": null,
   "metadata": {
    "collapsed": false
   },
   "outputs": [],
   "source": [
    "# Every action with a null value, has action_type equal to 'message_post'.\n",
    "# Let's change all the null values to 'message'\n",
    "sessions.loc[sessions.action.isnull(), 'action'] = 'message'"
   ]
  },
  {
   "cell_type": "code",
   "execution_count": null,
   "metadata": {
    "collapsed": false
   },
   "outputs": [
    {
     "data": {
      "text/plain": [
       "user_id                0\n",
       "action                 0\n",
       "action_type      1122957\n",
       "action_detail    1122957\n",
       "device_type            0\n",
       "secs_elapsed      135483\n",
       "dtype: int64"
      ]
     },
     "execution_count": 12,
     "metadata": {},
     "output_type": "execute_result"
    }
   ],
   "source": [
    "sessions.isnull().sum()"
   ]
  },
  {
   "cell_type": "code",
   "execution_count": null,
   "metadata": {
    "collapsed": false,
    "scrolled": true
   },
   "outputs": [
    {
     "name": "stdout",
     "output_type": "stream",
     "text": [
      "show                      580485\n",
      "similar_listings_v2       168457\n",
      "lookup                    161422\n",
      "campaigns                 104331\n",
      "track_page_view            80949\n",
      "index                      16682\n",
      "localization_settings       5380\n",
      "uptodate                    3329\n",
      "signed_out_modal            1054\n",
      "currencies                   292\n",
      "update                       225\n",
      "braintree_client_token       120\n",
      "check                        119\n",
      "widget                        75\n",
      "phone_verification            16\n",
      "satisfy                        9\n",
      "disaster_action                6\n",
      "track_activity                 6\n",
      "Name: action, dtype: int64\n",
      "\n",
      "show                      580485\n",
      "similar_listings_v2       168457\n",
      "lookup                    161422\n",
      "campaigns                 104331\n",
      "track_page_view            80949\n",
      "index                      16682\n",
      "localization_settings       5380\n",
      "uptodate                    3329\n",
      "signed_out_modal            1054\n",
      "currencies                   292\n",
      "update                       225\n",
      "braintree_client_token       120\n",
      "check                        119\n",
      "widget                        75\n",
      "phone_verification            16\n",
      "satisfy                        9\n",
      "disaster_action                6\n",
      "track_activity                 6\n",
      "Name: action, dtype: int64\n"
     ]
    }
   ],
   "source": [
    "# action_type and action_detail are missing values in the same rows, this simplifies things a little.\n",
    "print(sessions[sessions.action_type.isnull()].action.value_counts())\n",
    "print()\n",
    "print(sessions[sessions.action_detail.isnull()].action.value_counts())"
   ]
  },
  {
   "cell_type": "markdown",
   "metadata": {},
   "source": [
    "To fill in the null values for action_type and action_detail, we will perform these steps:\n",
    "\n",
    "1. Use the most common value relative to each user and action\n",
    "2. Use the most common value relative to each action\n",
    "3. Use the value 'missing'"
   ]
  },
  {
   "cell_type": "code",
   "execution_count": null,
   "metadata": {
    "collapsed": true
   },
   "outputs": [],
   "source": [
    "# function that finds the most common value of a feature, specific to each user and action.\n",
    "def most_common_value_by_user(merge_df, feature): \n",
    "    # Find the value counts for a feature, for each user and action.\n",
    "    new_df = pd.DataFrame(merge_df.groupby(['user_id','action'])[feature].value_counts())\n",
    "    # Set the index to a new feature so that it can be transformed.\n",
    "    new_df['index_tuple'] = new_df.index \n",
    "    # Change the feature name to count, since it is the value count of the feature.\n",
    "    new_df['count'] = new_df[feature]\n",
    "    \n",
    "    new_columns = ['user_id','action',feature]\n",
    "    # separate the features of index_tuple (a list), into their own columns\n",
    "    for n,col in enumerate(new_columns):\n",
    "        new_df[col] = new_df.index_tuple.apply(lambda index_tuple: index_tuple[n])\n",
    "    \n",
    "    # reset index and drop index_tuple\n",
    "    new_df = new_df.reset_index(drop = True)\n",
    "    new_df = new_df.drop(['index_tuple'], axis = 1) \n",
    "    \n",
    "    # Create a new dataframe for each user, action, and the count of the most common feature\n",
    "    new_df_max = pd.DataFrame(new_df.groupby(['user_id','action'], as_index = False)['count'].max())\n",
    "    # Merge dataframes to include the name of the most common feature\n",
    "    new_df_max = new_df_max.merge(new_df, on = ['user_id','action','count'])\n",
    "    # Drop count as it is not needed for the next step\n",
    "    new_df_max = new_df_max.drop('count', axis = 1)\n",
    "    \n",
    "    # Merge with main dataframe (sessions)\n",
    "    merge_df = merge_df.merge(new_df_max, left_on = ['user_id','action'], right_on = ['user_id','action'], how = 'left')\n",
    "    \n",
    "    return merge_df"
   ]
  },
  {
   "cell_type": "code",
   "execution_count": null,
   "metadata": {
    "collapsed": false,
    "scrolled": true
   },
   "outputs": [
    {
     "name": "stdout",
     "output_type": "stream",
     "text": [
      "action_type is complete.\n",
      "action_detail is complete.\n"
     ]
    }
   ],
   "source": [
    "sessions = most_common_value_by_user(sessions, 'action_type')\n",
    "print(\"action_type is complete.\")\n",
    "\n",
    "sessions = most_common_value_by_user(sessions, 'action_detail')\n",
    "print(\"action_detail is complete.\")"
   ]
  },
  {
   "cell_type": "code",
   "execution_count": null,
   "metadata": {
    "collapsed": false
   },
   "outputs": [],
   "source": [
    "# Replace the nulls with the values from the features created by 'most_common_value_by_user' function.\n",
    "sessions.loc[sessions.action_type_x.isnull(), 'action_type_x'] = sessions.action_type_y\n",
    "sessions.loc[sessions.action_detail_x.isnull(), 'action_detail_x'] = sessions.action_detail_y\n",
    "\n",
    "# Change the features' names to their originals and drop unnecessary features.\n",
    "sessions['action_type'] = sessions.action_type_x\n",
    "sessions['action_detail'] = sessions.action_detail_x\n",
    "sessions = sessions.drop(['action_type_x','action_type_y','action_detail_x','action_detail_y'], axis = 1)"
   ]
  },
  {
   "cell_type": "markdown",
   "metadata": {},
   "source": [
    "That helped to remove some of the nulls values. Now let's try the more general function."
   ]
  },
  {
   "cell_type": "code",
   "execution_count": null,
   "metadata": {
    "collapsed": false
   },
   "outputs": [
    {
     "data": {
      "text/plain": [
       "user_id               0\n",
       "action                0\n",
       "device_type           0\n",
       "secs_elapsed     167233\n",
       "action_type      531386\n",
       "action_detail    531386\n",
       "dtype: int64"
      ]
     },
     "execution_count": 17,
     "metadata": {},
     "output_type": "execute_result"
    }
   ],
   "source": [
    "sessions.isnull().sum()"
   ]
  },
  {
   "cell_type": "code",
   "execution_count": null,
   "metadata": {
    "collapsed": false,
    "scrolled": true
   },
   "outputs": [],
   "source": [
    "# function that finds the most common value of a feature, specific to each action.\n",
    "def most_common_value_by_all_users(merge_df, feature):\n",
    "    # Group by action, then find the value counts of the feature\n",
    "    new_df = pd.DataFrame(merge_df.groupby('action')[feature].value_counts())\n",
    "    # Set the index to a new feature so that it can be transformed.\n",
    "    new_df['index_tuple'] = new_df.index \n",
    "    # Change the feature name to count, since it is the value count of the feature.\n",
    "    new_df['count'] = new_df[feature]\n",
    "    \n",
    "    new_columns = ['action',feature]\n",
    "    # separate the features of index_tuple (a list), into their own columns\n",
    "    for n,col in enumerate(new_columns):\n",
    "        new_df[col] = new_df.index_tuple.apply(lambda index_tuple: index_tuple[n])\n",
    "    \n",
    "    # reset index and drop index_tuple\n",
    "    new_df = new_df.reset_index(drop = True)\n",
    "    new_df = new_df.drop(['index_tuple'], axis = 1) \n",
    "    \n",
    "    # Create a new dataframe for each action, and the count of the most common feature\n",
    "    new_df_max = pd.DataFrame(new_df.groupby('action', as_index = False)['count'].max())\n",
    "    # Merge dataframes to include the name of the most common feature\n",
    "    new_df_max = new_df_max.merge(new_df, on = ['action','count'])\n",
    "    # Drop count as it is not needed for next step\n",
    "    new_df_max = new_df_max.drop('count', axis = 1)\n",
    "    \n",
    "    # Merge dataframe with main dataframe (sessions)\n",
    "    merge_df = merge_df.merge(new_df_max, left_on = 'action', right_on = 'action', how = 'left')\n",
    "    \n",
    "    return merge_df"
   ]
  },
  {
   "cell_type": "code",
   "execution_count": null,
   "metadata": {
    "collapsed": false
   },
   "outputs": [
    {
     "name": "stdout",
     "output_type": "stream",
     "text": [
      "action_type is complete.\n",
      "action_detail is complete.\n"
     ]
    }
   ],
   "source": [
    "sessions = most_common_value_by_all_users(sessions, 'action_type')\n",
    "print(\"action_type is complete.\")\n",
    "sessions = most_common_value_by_all_users(sessions, 'action_detail')\n",
    "print(\"action_detail is complete.\")"
   ]
  },
  {
   "cell_type": "code",
   "execution_count": null,
   "metadata": {
    "collapsed": true
   },
   "outputs": [],
   "source": [
    "# Replace the nulls with the values from the features created by 'most_common_value_by_all_users' function.\n",
    "sessions.loc[sessions.action_type_x.isnull(), 'action_type_x'] = sessions.action_type_y\n",
    "sessions.loc[sessions.action_detail_x.isnull(), 'action_detail_x'] = sessions.action_detail_y\n",
    "\n",
    "# Change the features' names to their originals and drop the unnecessary features.\n",
    "sessions['action_type'] = sessions.action_type_x\n",
    "sessions['action_detail'] = sessions.action_detail_x\n",
    "sessions = sessions.drop(['action_type_x','action_type_y','action_detail_x','action_detail_y'], axis = 1)"
   ]
  },
  {
   "cell_type": "markdown",
   "metadata": {},
   "source": [
    "There are still some null values remaining. Let's take a look at what actions these null values are related to."
   ]
  },
  {
   "cell_type": "code",
   "execution_count": null,
   "metadata": {
    "collapsed": false
   },
   "outputs": [
    {
     "data": {
      "text/plain": [
       "user_id               0\n",
       "action                0\n",
       "device_type           0\n",
       "secs_elapsed     167233\n",
       "action_type      415562\n",
       "action_detail    415562\n",
       "dtype: int64"
      ]
     },
     "execution_count": 21,
     "metadata": {},
     "output_type": "execute_result"
    }
   ],
   "source": [
    "sessions.isnull().sum()"
   ]
  },
  {
   "cell_type": "code",
   "execution_count": null,
   "metadata": {
    "collapsed": false
   },
   "outputs": [
    {
     "data": {
      "text/plain": [
       "similar_listings_v2       168457\n",
       "lookup                    161422\n",
       "track_page_view            80949\n",
       "uptodate                    3329\n",
       "signed_out_modal            1054\n",
       "braintree_client_token       120\n",
       "check                        119\n",
       "widget                        75\n",
       "phone_verification            16\n",
       "satisfy                        9\n",
       "disaster_action                6\n",
       "track_activity                 6\n",
       "Name: action, dtype: int64"
      ]
     },
     "execution_count": 22,
     "metadata": {},
     "output_type": "execute_result"
    }
   ],
   "source": [
    "sessions[sessions.action_type.isnull()].action.value_counts()"
   ]
  },
  {
   "cell_type": "markdown",
   "metadata": {},
   "source": [
    "Let's take a look at the value counts for all of the actions to see how their frequency compares to others."
   ]
  },
  {
   "cell_type": "code",
   "execution_count": null,
   "metadata": {
    "collapsed": false,
    "scrolled": true
   },
   "outputs": [
    {
     "data": {
      "text/plain": [
       "show                           2866444\n",
       "index                           893606\n",
       "search_results                  723124\n",
       "personalize                     704782\n",
       "search                          533887\n",
       "ajax_refresh_subtotal           486414\n",
       "update                          370379\n",
       "similar_listings                363423\n",
       "social_connections              337764\n",
       "reviews                         324825\n",
       "create                          225961\n",
       "active                          187370\n",
       "similar_listings_v2             168457\n",
       "lookup                          161422\n",
       "dashboard                       152515\n",
       "header_userpic                  141315\n",
       "collections                     124067\n",
       "edit                            108999\n",
       "campaigns                       104647\n",
       "track_page_view                  80949\n",
       "message                          79484\n",
       "unavailabilities                 77985\n",
       "qt2                              64585\n",
       "notifications                    61946\n",
       "confirm_email                    58565\n",
       "requested                        57068\n",
       "identity                         53550\n",
       "ajax_check_dates                 52426\n",
       "show_personalize                 50353\n",
       "authenticate                     44323\n",
       "                                ...   \n",
       "reset_calendar                       2\n",
       "envoy_bank_details_redirect          2\n",
       "recommendation_page                  2\n",
       "unsubscribe                          2\n",
       "views_campaign                       2\n",
       "sandy                                2\n",
       "stpcv                                2\n",
       "rest-of-world                        2\n",
       "accept_decline                       2\n",
       "tos_2014                             2\n",
       "special_offer                        2\n",
       "views_campaign_rules                 2\n",
       "use_mobile_site                      2\n",
       "preapproval                          2\n",
       "confirmation                         2\n",
       "desks                                1\n",
       "deactivate                           1\n",
       "nyan                                 1\n",
       "revert_to_admin                      1\n",
       "set_minimum_payout_amount            1\n",
       "plaxo_cb                             1\n",
       "reactivate                           1\n",
       "deauthorize                          1\n",
       "host_cancel                          1\n",
       "wishlists                            1\n",
       "acculynk_bin_check_failed            1\n",
       "sldf                                 1\n",
       "events                               1\n",
       "update_message                       1\n",
       "deactivated                          1\n",
       "Name: action, dtype: int64"
      ]
     },
     "execution_count": 23,
     "metadata": {},
     "output_type": "execute_result"
    }
   ],
   "source": [
    "sessions.action.value_counts()"
   ]
  },
  {
   "cell_type": "markdown",
   "metadata": {},
   "source": [
    "'similar_listings_v2', 'lookup', and 'track_page_view' are the three main features with null values. I will give each of them specific values for action_type and action_detail, otherwise I will set the value to 'missing'."
   ]
  },
  {
   "cell_type": "code",
   "execution_count": null,
   "metadata": {
    "collapsed": false
   },
   "outputs": [
    {
     "name": "stdout",
     "output_type": "stream",
     "text": [
      "data    363423\n",
      "Name: action_type, dtype: int64\n",
      "similar_listings    363423\n",
      "Name: action_detail, dtype: int64\n"
     ]
    }
   ],
   "source": [
    "# Use these values for 'similar_listings_v2' since they are similar actions.\n",
    "print(sessions[sessions.action == 'similar_listings'].action_type.value_counts())\n",
    "print(sessions[sessions.action == 'similar_listings'].action_detail.value_counts())"
   ]
  },
  {
   "cell_type": "code",
   "execution_count": null,
   "metadata": {
    "collapsed": false
   },
   "outputs": [],
   "source": [
    "sessions.loc[sessions.action == 'similar_listings_v2', 'action_type'] = \"data\"\n",
    "sessions.loc[sessions.action == 'similar_listings_v2', 'action_detail'] = \"similar_listings\"\n",
    "\n",
    "# No other action is similar, so we'll use the same work for all three features.\n",
    "sessions.loc[sessions.action == 'lookup', 'action_type'] = \"lookup\"\n",
    "sessions.loc[sessions.action == 'lookup', 'action_detail'] = \"lookup\"\n",
    "\n",
    "sessions.loc[sessions.action == 'track_page_view', 'action_type'] = \"track_page_view\"\n",
    "sessions.loc[sessions.action == 'track_page_view', 'action_detail'] = \"track_page_view\"\n",
    "\n",
    "sessions.action_type = sessions.action_type.fillna(\"missing\")\n",
    "sessions.action_detail = sessions.action_detail.fillna(\"missing\")"
   ]
  },
  {
   "cell_type": "markdown",
   "metadata": {},
   "source": [
    "All good. Now just secs_elapsed is left."
   ]
  },
  {
   "cell_type": "code",
   "execution_count": null,
   "metadata": {
    "collapsed": false
   },
   "outputs": [
    {
     "data": {
      "text/plain": [
       "user_id               0\n",
       "action                0\n",
       "device_type           0\n",
       "secs_elapsed     167233\n",
       "action_type           0\n",
       "action_detail         0\n",
       "dtype: int64"
      ]
     },
     "execution_count": 26,
     "metadata": {},
     "output_type": "execute_result"
    }
   ],
   "source": [
    "sessions.isnull().sum()"
   ]
  },
  {
   "cell_type": "markdown",
   "metadata": {},
   "source": [
    "To keep things simple, let's fill the nulls with the median value for each action."
   ]
  },
  {
   "cell_type": "code",
   "execution_count": null,
   "metadata": {
    "collapsed": false
   },
   "outputs": [
    {
     "data": {
      "text/html": [
       "<div>\n",
       "<table border=\"1\" class=\"dataframe\">\n",
       "  <thead>\n",
       "    <tr style=\"text-align: right;\">\n",
       "      <th></th>\n",
       "      <th>action</th>\n",
       "      <th>secs_elapsed</th>\n",
       "    </tr>\n",
       "  </thead>\n",
       "  <tbody>\n",
       "    <tr>\n",
       "      <th>0</th>\n",
       "      <td>10</td>\n",
       "      <td>47320.5</td>\n",
       "    </tr>\n",
       "    <tr>\n",
       "      <th>1</th>\n",
       "      <td>11</td>\n",
       "      <td>72764.0</td>\n",
       "    </tr>\n",
       "    <tr>\n",
       "      <th>2</th>\n",
       "      <td>12</td>\n",
       "      <td>180407.0</td>\n",
       "    </tr>\n",
       "    <tr>\n",
       "      <th>3</th>\n",
       "      <td>15</td>\n",
       "      <td>54223.0</td>\n",
       "    </tr>\n",
       "    <tr>\n",
       "      <th>4</th>\n",
       "      <td>about_us</td>\n",
       "      <td>18627.5</td>\n",
       "    </tr>\n",
       "  </tbody>\n",
       "</table>\n",
       "</div>"
      ],
      "text/plain": [
       "     action  secs_elapsed\n",
       "0        10       47320.5\n",
       "1        11       72764.0\n",
       "2        12      180407.0\n",
       "3        15       54223.0\n",
       "4  about_us       18627.5"
      ]
     },
     "execution_count": 27,
     "metadata": {},
     "output_type": "execute_result"
    }
   ],
   "source": [
    "# Find the median secs_elapsed for each action\n",
    "median_duration = pd.DataFrame(sessions.groupby('action', as_index = False)['secs_elapsed'].median())\n",
    "median_duration.head()"
   ]
  },
  {
   "cell_type": "code",
   "execution_count": null,
   "metadata": {
    "collapsed": false
   },
   "outputs": [
    {
     "name": "stdout",
     "output_type": "stream",
     "text": [
      "Merge complete.\n",
      "Nulls are filled.\n",
      "Column is created.\n",
      "Columns are dropped.\n"
     ]
    }
   ],
   "source": [
    "# Merge dataframes on action\n",
    "sessions = sessions.merge(median_duration, left_on = 'action', right_on = 'action', how = 'left')\n",
    "print(\"Merge complete.\")\n",
    "# if secs_elapsed is null, fill it with the median value\n",
    "sessions.loc[sessions.secs_elapsed_x.isnull(), 'secs_elapsed_x'] = sessions.secs_elapsed_y\n",
    "print(\"Nulls are filled.\")\n",
    "# Change column name\n",
    "sessions['secs_elapsed'] = sessions.secs_elapsed_x\n",
    "print(\"Column is created.\")\n",
    "# Drop unneeded columns\n",
    "sessions = sessions.drop(['secs_elapsed_x','secs_elapsed_y'], axis = 1)\n",
    "print(\"Columns are dropped.\")"
   ]
  },
  {
   "cell_type": "markdown",
   "metadata": {},
   "source": [
    "All clean!"
   ]
  },
  {
   "cell_type": "code",
   "execution_count": null,
   "metadata": {
    "collapsed": false
   },
   "outputs": [
    {
     "data": {
      "text/plain": [
       "user_id          0\n",
       "action           0\n",
       "device_type      0\n",
       "action_type      0\n",
       "action_detail    0\n",
       "secs_elapsed     0\n",
       "dtype: int64"
      ]
     },
     "execution_count": 29,
     "metadata": {},
     "output_type": "execute_result"
    }
   ],
   "source": [
    "sessions.isnull().sum()"
   ]
  },
  {
   "cell_type": "markdown",
   "metadata": {},
   "source": [
    "I think the best next step would be to take the information from sessions and summarize it. We will create a new dataframe, add the most important features, then join it with the train dataframe."
   ]
  },
  {
   "cell_type": "markdown",
   "metadata": {},
   "source": [
    "## Sessions' Summary"
   ]
  },
  {
   "cell_type": "code",
   "execution_count": null,
   "metadata": {
    "collapsed": false
   },
   "outputs": [
    {
     "data": {
      "text/html": [
       "<div>\n",
       "<table border=\"1\" class=\"dataframe\">\n",
       "  <thead>\n",
       "    <tr style=\"text-align: right;\">\n",
       "      <th></th>\n",
       "      <th>user_id</th>\n",
       "      <th>action</th>\n",
       "      <th>device_type</th>\n",
       "      <th>action_type</th>\n",
       "      <th>action_detail</th>\n",
       "      <th>secs_elapsed</th>\n",
       "    </tr>\n",
       "  </thead>\n",
       "  <tbody>\n",
       "    <tr>\n",
       "      <th>0</th>\n",
       "      <td>d1mm9tcy42</td>\n",
       "      <td>lookup</td>\n",
       "      <td>Windows Desktop</td>\n",
       "      <td>lookup</td>\n",
       "      <td>lookup</td>\n",
       "      <td>319.0</td>\n",
       "    </tr>\n",
       "    <tr>\n",
       "      <th>1</th>\n",
       "      <td>d1mm9tcy42</td>\n",
       "      <td>search_results</td>\n",
       "      <td>Windows Desktop</td>\n",
       "      <td>click</td>\n",
       "      <td>view_search_results</td>\n",
       "      <td>67753.0</td>\n",
       "    </tr>\n",
       "    <tr>\n",
       "      <th>2</th>\n",
       "      <td>d1mm9tcy42</td>\n",
       "      <td>lookup</td>\n",
       "      <td>Windows Desktop</td>\n",
       "      <td>lookup</td>\n",
       "      <td>lookup</td>\n",
       "      <td>301.0</td>\n",
       "    </tr>\n",
       "    <tr>\n",
       "      <th>3</th>\n",
       "      <td>d1mm9tcy42</td>\n",
       "      <td>search_results</td>\n",
       "      <td>Windows Desktop</td>\n",
       "      <td>click</td>\n",
       "      <td>view_search_results</td>\n",
       "      <td>22141.0</td>\n",
       "    </tr>\n",
       "    <tr>\n",
       "      <th>4</th>\n",
       "      <td>d1mm9tcy42</td>\n",
       "      <td>lookup</td>\n",
       "      <td>Windows Desktop</td>\n",
       "      <td>lookup</td>\n",
       "      <td>lookup</td>\n",
       "      <td>435.0</td>\n",
       "    </tr>\n",
       "  </tbody>\n",
       "</table>\n",
       "</div>"
      ],
      "text/plain": [
       "      user_id          action      device_type action_type  \\\n",
       "0  d1mm9tcy42          lookup  Windows Desktop      lookup   \n",
       "1  d1mm9tcy42  search_results  Windows Desktop       click   \n",
       "2  d1mm9tcy42          lookup  Windows Desktop      lookup   \n",
       "3  d1mm9tcy42  search_results  Windows Desktop       click   \n",
       "4  d1mm9tcy42          lookup  Windows Desktop      lookup   \n",
       "\n",
       "         action_detail  secs_elapsed  \n",
       "0               lookup         319.0  \n",
       "1  view_search_results       67753.0  \n",
       "2               lookup         301.0  \n",
       "3  view_search_results       22141.0  \n",
       "4               lookup         435.0  "
      ]
     },
     "execution_count": 30,
     "metadata": {},
     "output_type": "execute_result"
    }
   ],
   "source": [
    "sessions.head()"
   ]
  },
  {
   "cell_type": "code",
   "execution_count": null,
   "metadata": {
    "collapsed": false
   },
   "outputs": [],
   "source": [
    "# sessions_summary is set to the number of times a user_id appears in sessions\n",
    "sessions_summary = pd.DataFrame(sessions.user_id.value_counts(sort = False))\n",
    "# Set action_count equal to user_id\n",
    "sessions_summary['action_count'] = sessions_summary.user_id\n",
    "# Set user_id equal to the index\n",
    "sessions_summary['user_id'] = sessions_summary.index\n",
    "# Rest the index\n",
    "sessions_summary = sessions_summary.reset_index(drop = True)"
   ]
  },
  {
   "cell_type": "markdown",
   "metadata": {},
   "source": [
    "Looks good, now let's add some features!"
   ]
  },
  {
   "cell_type": "code",
   "execution_count": null,
   "metadata": {
    "collapsed": false
   },
   "outputs": [
    {
     "data": {
      "text/html": [
       "<div>\n",
       "<table border=\"1\" class=\"dataframe\">\n",
       "  <thead>\n",
       "    <tr style=\"text-align: right;\">\n",
       "      <th></th>\n",
       "      <th>user_id</th>\n",
       "      <th>action_count</th>\n",
       "    </tr>\n",
       "  </thead>\n",
       "  <tbody>\n",
       "    <tr>\n",
       "      <th>0</th>\n",
       "      <td>lvs98g7ggz</td>\n",
       "      <td>12</td>\n",
       "    </tr>\n",
       "    <tr>\n",
       "      <th>1</th>\n",
       "      <td>9hue70lsfi</td>\n",
       "      <td>22</td>\n",
       "    </tr>\n",
       "    <tr>\n",
       "      <th>2</th>\n",
       "      <td>8wqf53khcc</td>\n",
       "      <td>468</td>\n",
       "    </tr>\n",
       "    <tr>\n",
       "      <th>3</th>\n",
       "      <td>q7jew74rm9</td>\n",
       "      <td>50</td>\n",
       "    </tr>\n",
       "    <tr>\n",
       "      <th>4</th>\n",
       "      <td>f2t2nbphmv</td>\n",
       "      <td>43</td>\n",
       "    </tr>\n",
       "  </tbody>\n",
       "</table>\n",
       "</div>"
      ],
      "text/plain": [
       "      user_id  action_count\n",
       "0  lvs98g7ggz            12\n",
       "1  9hue70lsfi            22\n",
       "2  8wqf53khcc           468\n",
       "3  q7jew74rm9            50\n",
       "4  f2t2nbphmv            43"
      ]
     },
     "execution_count": 32,
     "metadata": {},
     "output_type": "execute_result"
    }
   ],
   "source": [
    "sessions_summary.head()"
   ]
  },
  {
   "cell_type": "code",
   "execution_count": null,
   "metadata": {
    "collapsed": true
   },
   "outputs": [],
   "source": [
    "# user_duration is the sums of secs_elapsed for each user\n",
    "user_duration = pd.DataFrame(sessions.groupby('user_id').secs_elapsed.sum())\n",
    "user_duration['user_id'] = user_duration.index\n",
    "# Merge dataframes\n",
    "sessions_summary = sessions_summary.merge(user_duration)\n",
    "# Create new feature, 'duration', to equal secs_elapsed\n",
    "sessions_summary['duration'] = sessions_summary.secs_elapsed\n",
    "sessions_summary = sessions_summary.drop(\"secs_elapsed\", axis = 1)"
   ]
  },
  {
   "cell_type": "code",
   "execution_count": null,
   "metadata": {
    "collapsed": false
   },
   "outputs": [
    {
     "data": {
      "text/html": [
       "<div>\n",
       "<table border=\"1\" class=\"dataframe\">\n",
       "  <thead>\n",
       "    <tr style=\"text-align: right;\">\n",
       "      <th></th>\n",
       "      <th>user_id</th>\n",
       "      <th>action_count</th>\n",
       "      <th>duration</th>\n",
       "    </tr>\n",
       "  </thead>\n",
       "  <tbody>\n",
       "    <tr>\n",
       "      <th>0</th>\n",
       "      <td>lvs98g7ggz</td>\n",
       "      <td>12</td>\n",
       "      <td>113525.5</td>\n",
       "    </tr>\n",
       "    <tr>\n",
       "      <th>1</th>\n",
       "      <td>9hue70lsfi</td>\n",
       "      <td>22</td>\n",
       "      <td>439490.0</td>\n",
       "    </tr>\n",
       "    <tr>\n",
       "      <th>2</th>\n",
       "      <td>8wqf53khcc</td>\n",
       "      <td>468</td>\n",
       "      <td>7468072.0</td>\n",
       "    </tr>\n",
       "    <tr>\n",
       "      <th>3</th>\n",
       "      <td>q7jew74rm9</td>\n",
       "      <td>50</td>\n",
       "      <td>363874.0</td>\n",
       "    </tr>\n",
       "    <tr>\n",
       "      <th>4</th>\n",
       "      <td>f2t2nbphmv</td>\n",
       "      <td>43</td>\n",
       "      <td>3340242.0</td>\n",
       "    </tr>\n",
       "  </tbody>\n",
       "</table>\n",
       "</div>"
      ],
      "text/plain": [
       "      user_id  action_count   duration\n",
       "0  lvs98g7ggz            12   113525.5\n",
       "1  9hue70lsfi            22   439490.0\n",
       "2  8wqf53khcc           468  7468072.0\n",
       "3  q7jew74rm9            50   363874.0\n",
       "4  f2t2nbphmv            43  3340242.0"
      ]
     },
     "execution_count": 34,
     "metadata": {},
     "output_type": "execute_result"
    }
   ],
   "source": [
    "sessions_summary.head()"
   ]
  },
  {
   "cell_type": "code",
   "execution_count": null,
   "metadata": {
    "collapsed": false
   },
   "outputs": [],
   "source": [
    "# This function finds the most common value, for a specific feature, for each user.\n",
    "def most_frequent_value(merge_df, feature):\n",
    "    # Group by the users and find the value counts of the feature\n",
    "    new_df = pd.DataFrame(sessions.groupby('user_id')[feature].value_counts())\n",
    "    # The index is a tuple, and we need to seperate it, so let's create a new feature from it.\n",
    "    new_df['index_tuple'] = new_df.index\n",
    "    # The new columns are the features created from the tuple.\n",
    "    new_columns = ['user_id',feature]\n",
    "    for n,col in enumerate(new_columns):\n",
    "        new_df[col] = new_df.index_tuple.apply(lambda index_tuple: index_tuple[n])\n",
    "    \n",
    "    # Drop the old index (the tuple index)\n",
    "    new_df = new_df.reset_index(drop = True)\n",
    "    # Drop the unneeded feature\n",
    "    new_df = new_df.drop('index_tuple', axis = 1)\n",
    "    # Select the first value for each user, its most common\n",
    "    new_df = new_df.groupby('user_id').first()\n",
    "    \n",
    "    # Set user_id equal to the index, then reset the index\n",
    "    new_df['user_id'] = new_df.index\n",
    "    new_df = new_df.reset_index(drop = True)\n",
    "    \n",
    "    merge_df = merge_df.merge(new_df)\n",
    "    \n",
    "    return merge_df"
   ]
  },
  {
   "cell_type": "code",
   "execution_count": null,
   "metadata": {
    "collapsed": false
   },
   "outputs": [
    {
     "name": "stdout",
     "output_type": "stream",
     "text": [
      "action is complete.\n",
      "action_type is complete.\n",
      "action_detail is complete.\n",
      "device_type is complete.\n"
     ]
    }
   ],
   "source": [
    "# For each categorical feature in sessions, find the most common value for each user.\n",
    "sessions_feature = ['action','action_type','action_detail','device_type']\n",
    "\n",
    "for feature in sessions_feature:\n",
    "    sessions_summary = most_frequent_value(sessions_summary, feature)\n",
    "    print(\"{} is complete.\".format(feature))"
   ]
  },
  {
   "cell_type": "code",
   "execution_count": null,
   "metadata": {
    "collapsed": false
   },
   "outputs": [
    {
     "data": {
      "text/html": [
       "<div>\n",
       "<table border=\"1\" class=\"dataframe\">\n",
       "  <thead>\n",
       "    <tr style=\"text-align: right;\">\n",
       "      <th></th>\n",
       "      <th>user_id</th>\n",
       "      <th>action_count</th>\n",
       "      <th>duration</th>\n",
       "      <th>action</th>\n",
       "      <th>action_type</th>\n",
       "      <th>action_detail</th>\n",
       "      <th>device_type</th>\n",
       "    </tr>\n",
       "  </thead>\n",
       "  <tbody>\n",
       "    <tr>\n",
       "      <th>0</th>\n",
       "      <td>lvs98g7ggz</td>\n",
       "      <td>12</td>\n",
       "      <td>113525.5</td>\n",
       "      <td>search_results</td>\n",
       "      <td>click</td>\n",
       "      <td>view_search_results</td>\n",
       "      <td>Windows Desktop</td>\n",
       "    </tr>\n",
       "    <tr>\n",
       "      <th>1</th>\n",
       "      <td>9hue70lsfi</td>\n",
       "      <td>22</td>\n",
       "      <td>439490.0</td>\n",
       "      <td>show</td>\n",
       "      <td>view</td>\n",
       "      <td>-unknown-</td>\n",
       "      <td>-unknown-</td>\n",
       "    </tr>\n",
       "    <tr>\n",
       "      <th>2</th>\n",
       "      <td>8wqf53khcc</td>\n",
       "      <td>468</td>\n",
       "      <td>7468072.0</td>\n",
       "      <td>show</td>\n",
       "      <td>view</td>\n",
       "      <td>p3</td>\n",
       "      <td>Mac Desktop</td>\n",
       "    </tr>\n",
       "    <tr>\n",
       "      <th>3</th>\n",
       "      <td>q7jew74rm9</td>\n",
       "      <td>50</td>\n",
       "      <td>363874.0</td>\n",
       "      <td>show</td>\n",
       "      <td>view</td>\n",
       "      <td>user_profile</td>\n",
       "      <td>iPhone</td>\n",
       "    </tr>\n",
       "    <tr>\n",
       "      <th>4</th>\n",
       "      <td>f2t2nbphmv</td>\n",
       "      <td>43</td>\n",
       "      <td>3340242.0</td>\n",
       "      <td>update</td>\n",
       "      <td>submit</td>\n",
       "      <td>update_listing</td>\n",
       "      <td>Windows Desktop</td>\n",
       "    </tr>\n",
       "  </tbody>\n",
       "</table>\n",
       "</div>"
      ],
      "text/plain": [
       "      user_id  action_count   duration          action action_type  \\\n",
       "0  lvs98g7ggz            12   113525.5  search_results       click   \n",
       "1  9hue70lsfi            22   439490.0            show        view   \n",
       "2  8wqf53khcc           468  7468072.0            show        view   \n",
       "3  q7jew74rm9            50   363874.0            show        view   \n",
       "4  f2t2nbphmv            43  3340242.0          update      submit   \n",
       "\n",
       "         action_detail      device_type  \n",
       "0  view_search_results  Windows Desktop  \n",
       "1            -unknown-        -unknown-  \n",
       "2                   p3      Mac Desktop  \n",
       "3         user_profile           iPhone  \n",
       "4       update_listing  Windows Desktop  "
      ]
     },
     "execution_count": 37,
     "metadata": {},
     "output_type": "execute_result"
    }
   ],
   "source": [
    "sessions_summary.head()"
   ]
  },
  {
   "cell_type": "code",
   "execution_count": null,
   "metadata": {
    "collapsed": true
   },
   "outputs": [],
   "source": [
    "# This function finds the number of unique values of a feature for each user.\n",
    "def unique_features(feature, feature_name, merge_df):\n",
    "    # Create a dataframe by grouping the users and the feature\n",
    "    unique_feature = pd.DataFrame(sessions.groupby('user_id')[feature].unique())\n",
    "    unique_feature['user_id'] = unique_feature.index\n",
    "    unique_feature = unique_feature.reset_index(drop = True)\n",
    "    # Create a new feature equal to the number of unique features for each user\n",
    "    unique_feature[feature_name] = unique_feature[feature].map(lambda x: len(x))\n",
    "    # Drop the needed feature\n",
    "    unique_feature = unique_feature.drop(feature, axis = 1)\n",
    "    merge_df = merge_df.merge(unique_feature, on = 'user_id')\n",
    "    return merge_df"
   ]
  },
  {
   "cell_type": "code",
   "execution_count": null,
   "metadata": {
    "collapsed": false
   },
   "outputs": [
    {
     "name": "stdout",
     "output_type": "stream",
     "text": [
      "action is complete.\n",
      "action_type is complete.\n",
      "action_detail is complete.\n",
      "device_type is complete.\n"
     ]
    }
   ],
   "source": [
    "# Apply unique_features to each of the categorical features in sessions\n",
    "sessions_summary = unique_features('action', 'unique_actions', sessions_summary)\n",
    "print(\"action is complete.\")\n",
    "sessions_summary = unique_features('action_type', 'unique_action_types', sessions_summary)\n",
    "print(\"action_type is complete.\")\n",
    "sessions_summary = unique_features('action_detail', 'unique_action_details', sessions_summary)\n",
    "print(\"action_detail is complete.\")\n",
    "sessions_summary = unique_features('device_type', 'unique_device_types', sessions_summary)\n",
    "print(\"device_type is complete.\")"
   ]
  },
  {
   "cell_type": "code",
   "execution_count": null,
   "metadata": {
    "collapsed": false
   },
   "outputs": [
    {
     "data": {
      "text/html": [
       "<div>\n",
       "<table border=\"1\" class=\"dataframe\">\n",
       "  <thead>\n",
       "    <tr style=\"text-align: right;\">\n",
       "      <th></th>\n",
       "      <th>user_id</th>\n",
       "      <th>action_count</th>\n",
       "      <th>duration</th>\n",
       "      <th>action</th>\n",
       "      <th>action_type</th>\n",
       "      <th>action_detail</th>\n",
       "      <th>device_type</th>\n",
       "      <th>unique_actions</th>\n",
       "      <th>unique_action_types</th>\n",
       "      <th>unique_action_details</th>\n",
       "      <th>unique_device_types</th>\n",
       "    </tr>\n",
       "  </thead>\n",
       "  <tbody>\n",
       "    <tr>\n",
       "      <th>0</th>\n",
       "      <td>lvs98g7ggz</td>\n",
       "      <td>12</td>\n",
       "      <td>113525.5</td>\n",
       "      <td>search_results</td>\n",
       "      <td>click</td>\n",
       "      <td>view_search_results</td>\n",
       "      <td>Windows Desktop</td>\n",
       "      <td>3</td>\n",
       "      <td>3</td>\n",
       "      <td>3</td>\n",
       "      <td>1</td>\n",
       "    </tr>\n",
       "    <tr>\n",
       "      <th>1</th>\n",
       "      <td>9hue70lsfi</td>\n",
       "      <td>22</td>\n",
       "      <td>439490.0</td>\n",
       "      <td>show</td>\n",
       "      <td>view</td>\n",
       "      <td>-unknown-</td>\n",
       "      <td>-unknown-</td>\n",
       "      <td>7</td>\n",
       "      <td>5</td>\n",
       "      <td>8</td>\n",
       "      <td>2</td>\n",
       "    </tr>\n",
       "    <tr>\n",
       "      <th>2</th>\n",
       "      <td>8wqf53khcc</td>\n",
       "      <td>468</td>\n",
       "      <td>7468072.0</td>\n",
       "      <td>show</td>\n",
       "      <td>view</td>\n",
       "      <td>p3</td>\n",
       "      <td>Mac Desktop</td>\n",
       "      <td>41</td>\n",
       "      <td>7</td>\n",
       "      <td>22</td>\n",
       "      <td>3</td>\n",
       "    </tr>\n",
       "    <tr>\n",
       "      <th>3</th>\n",
       "      <td>q7jew74rm9</td>\n",
       "      <td>50</td>\n",
       "      <td>363874.0</td>\n",
       "      <td>show</td>\n",
       "      <td>view</td>\n",
       "      <td>user_profile</td>\n",
       "      <td>iPhone</td>\n",
       "      <td>8</td>\n",
       "      <td>5</td>\n",
       "      <td>8</td>\n",
       "      <td>2</td>\n",
       "    </tr>\n",
       "    <tr>\n",
       "      <th>4</th>\n",
       "      <td>f2t2nbphmv</td>\n",
       "      <td>43</td>\n",
       "      <td>3340242.0</td>\n",
       "      <td>update</td>\n",
       "      <td>submit</td>\n",
       "      <td>update_listing</td>\n",
       "      <td>Windows Desktop</td>\n",
       "      <td>14</td>\n",
       "      <td>5</td>\n",
       "      <td>16</td>\n",
       "      <td>1</td>\n",
       "    </tr>\n",
       "  </tbody>\n",
       "</table>\n",
       "</div>"
      ],
      "text/plain": [
       "      user_id  action_count   duration          action action_type  \\\n",
       "0  lvs98g7ggz            12   113525.5  search_results       click   \n",
       "1  9hue70lsfi            22   439490.0            show        view   \n",
       "2  8wqf53khcc           468  7468072.0            show        view   \n",
       "3  q7jew74rm9            50   363874.0            show        view   \n",
       "4  f2t2nbphmv            43  3340242.0          update      submit   \n",
       "\n",
       "         action_detail      device_type  unique_actions  unique_action_types  \\\n",
       "0  view_search_results  Windows Desktop               3                    3   \n",
       "1            -unknown-        -unknown-               7                    5   \n",
       "2                   p3      Mac Desktop              41                    7   \n",
       "3         user_profile           iPhone               8                    5   \n",
       "4       update_listing  Windows Desktop              14                    5   \n",
       "\n",
       "   unique_action_details  unique_device_types  \n",
       "0                      3                    1  \n",
       "1                      8                    2  \n",
       "2                     22                    3  \n",
       "3                      8                    2  \n",
       "4                     16                    1  "
      ]
     },
     "execution_count": 40,
     "metadata": {},
     "output_type": "execute_result"
    }
   ],
   "source": [
    "sessions_summary.head()"
   ]
  },
  {
   "cell_type": "code",
   "execution_count": null,
   "metadata": {
    "collapsed": false
   },
   "outputs": [
    {
     "name": "stdout",
     "output_type": "stream",
     "text": [
      "max_durations is complete.\n",
      "min_durations is complete.\n"
     ]
    }
   ],
   "source": [
    "# Find the maximum and minimum secs_elapsed/duration for each user in sessions.\n",
    "max_durations = pd.DataFrame(sessions.groupby(['user_id'], as_index = False)['secs_elapsed'].max())\n",
    "sessions_summary = sessions_summary.merge(max_durations, on = 'user_id')\n",
    "sessions_summary['max_duration'] = sessions_summary.secs_elapsed\n",
    "sessions_summary = sessions_summary.drop('secs_elapsed', axis = 1)\n",
    "\n",
    "print(\"max_durations is complete.\")\n",
    "\n",
    "min_durations = pd.DataFrame(sessions.groupby(['user_id'], as_index = False)['secs_elapsed'].min())\n",
    "sessions_summary = sessions_summary.merge(min_durations, on = 'user_id')\n",
    "sessions_summary['min_duration'] = sessions_summary.secs_elapsed\n",
    "sessions_summary = sessions_summary.drop('secs_elapsed', axis = 1)\n",
    "\n",
    "print(\"min_durations is complete.\")"
   ]
  },
  {
   "cell_type": "code",
   "execution_count": null,
   "metadata": {
    "collapsed": false
   },
   "outputs": [],
   "source": [
    "# Find the average duration for each user\n",
    "sessions_summary['avg_duration'] = sessions_summary.duration / sessions_summary.action_count"
   ]
  },
  {
   "cell_type": "code",
   "execution_count": null,
   "metadata": {
    "collapsed": false
   },
   "outputs": [
    {
     "data": {
      "text/html": [
       "<div>\n",
       "<table border=\"1\" class=\"dataframe\">\n",
       "  <thead>\n",
       "    <tr style=\"text-align: right;\">\n",
       "      <th></th>\n",
       "      <th>user_id</th>\n",
       "      <th>action_count</th>\n",
       "      <th>duration</th>\n",
       "      <th>action</th>\n",
       "      <th>action_type</th>\n",
       "      <th>action_detail</th>\n",
       "      <th>device_type</th>\n",
       "      <th>unique_actions</th>\n",
       "      <th>unique_action_types</th>\n",
       "      <th>unique_action_details</th>\n",
       "      <th>unique_device_types</th>\n",
       "      <th>max_duration</th>\n",
       "      <th>min_duration</th>\n",
       "      <th>avg_duration</th>\n",
       "    </tr>\n",
       "  </thead>\n",
       "  <tbody>\n",
       "    <tr>\n",
       "      <th>0</th>\n",
       "      <td>lvs98g7ggz</td>\n",
       "      <td>12</td>\n",
       "      <td>113525.5</td>\n",
       "      <td>search_results</td>\n",
       "      <td>click</td>\n",
       "      <td>view_search_results</td>\n",
       "      <td>Windows Desktop</td>\n",
       "      <td>3</td>\n",
       "      <td>3</td>\n",
       "      <td>3</td>\n",
       "      <td>1</td>\n",
       "      <td>31091.0</td>\n",
       "      <td>117.0</td>\n",
       "      <td>9460.458333</td>\n",
       "    </tr>\n",
       "    <tr>\n",
       "      <th>1</th>\n",
       "      <td>9hue70lsfi</td>\n",
       "      <td>22</td>\n",
       "      <td>439490.0</td>\n",
       "      <td>show</td>\n",
       "      <td>view</td>\n",
       "      <td>-unknown-</td>\n",
       "      <td>-unknown-</td>\n",
       "      <td>7</td>\n",
       "      <td>5</td>\n",
       "      <td>8</td>\n",
       "      <td>2</td>\n",
       "      <td>244093.0</td>\n",
       "      <td>286.0</td>\n",
       "      <td>19976.818182</td>\n",
       "    </tr>\n",
       "    <tr>\n",
       "      <th>2</th>\n",
       "      <td>8wqf53khcc</td>\n",
       "      <td>468</td>\n",
       "      <td>7468072.0</td>\n",
       "      <td>show</td>\n",
       "      <td>view</td>\n",
       "      <td>p3</td>\n",
       "      <td>Mac Desktop</td>\n",
       "      <td>41</td>\n",
       "      <td>7</td>\n",
       "      <td>22</td>\n",
       "      <td>3</td>\n",
       "      <td>814514.0</td>\n",
       "      <td>0.0</td>\n",
       "      <td>15957.418803</td>\n",
       "    </tr>\n",
       "    <tr>\n",
       "      <th>3</th>\n",
       "      <td>q7jew74rm9</td>\n",
       "      <td>50</td>\n",
       "      <td>363874.0</td>\n",
       "      <td>show</td>\n",
       "      <td>view</td>\n",
       "      <td>user_profile</td>\n",
       "      <td>iPhone</td>\n",
       "      <td>8</td>\n",
       "      <td>5</td>\n",
       "      <td>8</td>\n",
       "      <td>2</td>\n",
       "      <td>64106.0</td>\n",
       "      <td>12.0</td>\n",
       "      <td>7277.480000</td>\n",
       "    </tr>\n",
       "    <tr>\n",
       "      <th>4</th>\n",
       "      <td>f2t2nbphmv</td>\n",
       "      <td>43</td>\n",
       "      <td>3340242.0</td>\n",
       "      <td>update</td>\n",
       "      <td>submit</td>\n",
       "      <td>update_listing</td>\n",
       "      <td>Windows Desktop</td>\n",
       "      <td>14</td>\n",
       "      <td>5</td>\n",
       "      <td>16</td>\n",
       "      <td>1</td>\n",
       "      <td>1107772.0</td>\n",
       "      <td>68.0</td>\n",
       "      <td>77680.046512</td>\n",
       "    </tr>\n",
       "  </tbody>\n",
       "</table>\n",
       "</div>"
      ],
      "text/plain": [
       "      user_id  action_count   duration          action action_type  \\\n",
       "0  lvs98g7ggz            12   113525.5  search_results       click   \n",
       "1  9hue70lsfi            22   439490.0            show        view   \n",
       "2  8wqf53khcc           468  7468072.0            show        view   \n",
       "3  q7jew74rm9            50   363874.0            show        view   \n",
       "4  f2t2nbphmv            43  3340242.0          update      submit   \n",
       "\n",
       "         action_detail      device_type  unique_actions  unique_action_types  \\\n",
       "0  view_search_results  Windows Desktop               3                    3   \n",
       "1            -unknown-        -unknown-               7                    5   \n",
       "2                   p3      Mac Desktop              41                    7   \n",
       "3         user_profile           iPhone               8                    5   \n",
       "4       update_listing  Windows Desktop              14                    5   \n",
       "\n",
       "   unique_action_details  unique_device_types  max_duration  min_duration  \\\n",
       "0                      3                    1       31091.0         117.0   \n",
       "1                      8                    2      244093.0         286.0   \n",
       "2                     22                    3      814514.0           0.0   \n",
       "3                      8                    2       64106.0          12.0   \n",
       "4                     16                    1     1107772.0          68.0   \n",
       "\n",
       "   avg_duration  \n",
       "0   9460.458333  \n",
       "1  19976.818182  \n",
       "2  15957.418803  \n",
       "3   7277.480000  \n",
       "4  77680.046512  "
      ]
     },
     "execution_count": 43,
     "metadata": {},
     "output_type": "execute_result"
    }
   ],
   "source": [
    "sessions_summary.head(5)"
   ]
  },
  {
   "cell_type": "code",
   "execution_count": null,
   "metadata": {
    "collapsed": false
   },
   "outputs": [],
   "source": [
    "# Add new features based on the type of device that the user used most frequently.\n",
    "apple_device = ['Mac Desktop','iPhone','iPdad Tablet','iPodtouch']\n",
    "desktop_device = ['Mac Desktop','Windows Desktop','Chromebook','Linux Desktop']\n",
    "tablet_device = ['Android App Unknown Phone/Tablet','iPad Tablet','Tablet']\n",
    "mobile_device = ['Android Phone','iPhone','Windows Phone','Blackberry','Opera Phone']\n",
    "\n",
    "device_types = {'apple_device': apple_device, \n",
    "                'desktop_device': desktop_device,\n",
    "                'tablet_device': tablet_device,\n",
    "                'mobile_device': mobile_device}\n",
    "\n",
    "for device in device_types:\n",
    "    sessions_summary[device] = 0\n",
    "    sessions_summary.loc[sessions_summary.device_type.isin(device_types[device]), device] = 1"
   ]
  },
  {
   "cell_type": "code",
   "execution_count": null,
   "metadata": {
    "collapsed": false
   },
   "outputs": [
    {
     "data": {
      "text/html": [
       "<div>\n",
       "<table border=\"1\" class=\"dataframe\">\n",
       "  <thead>\n",
       "    <tr style=\"text-align: right;\">\n",
       "      <th></th>\n",
       "      <th>user_id</th>\n",
       "      <th>action_count</th>\n",
       "      <th>duration</th>\n",
       "      <th>action</th>\n",
       "      <th>action_type</th>\n",
       "      <th>action_detail</th>\n",
       "      <th>device_type</th>\n",
       "      <th>unique_actions</th>\n",
       "      <th>unique_action_types</th>\n",
       "      <th>unique_action_details</th>\n",
       "      <th>unique_device_types</th>\n",
       "      <th>max_duration</th>\n",
       "      <th>min_duration</th>\n",
       "      <th>avg_duration</th>\n",
       "      <th>tablet_device</th>\n",
       "      <th>mobile_device</th>\n",
       "      <th>desktop_device</th>\n",
       "      <th>apple_device</th>\n",
       "    </tr>\n",
       "  </thead>\n",
       "  <tbody>\n",
       "    <tr>\n",
       "      <th>0</th>\n",
       "      <td>lvs98g7ggz</td>\n",
       "      <td>12</td>\n",
       "      <td>113525.5</td>\n",
       "      <td>search_results</td>\n",
       "      <td>click</td>\n",
       "      <td>view_search_results</td>\n",
       "      <td>Windows Desktop</td>\n",
       "      <td>3</td>\n",
       "      <td>3</td>\n",
       "      <td>3</td>\n",
       "      <td>1</td>\n",
       "      <td>31091.0</td>\n",
       "      <td>117.0</td>\n",
       "      <td>9460.458333</td>\n",
       "      <td>0</td>\n",
       "      <td>0</td>\n",
       "      <td>1</td>\n",
       "      <td>0</td>\n",
       "    </tr>\n",
       "    <tr>\n",
       "      <th>1</th>\n",
       "      <td>9hue70lsfi</td>\n",
       "      <td>22</td>\n",
       "      <td>439490.0</td>\n",
       "      <td>show</td>\n",
       "      <td>view</td>\n",
       "      <td>-unknown-</td>\n",
       "      <td>-unknown-</td>\n",
       "      <td>7</td>\n",
       "      <td>5</td>\n",
       "      <td>8</td>\n",
       "      <td>2</td>\n",
       "      <td>244093.0</td>\n",
       "      <td>286.0</td>\n",
       "      <td>19976.818182</td>\n",
       "      <td>0</td>\n",
       "      <td>0</td>\n",
       "      <td>0</td>\n",
       "      <td>0</td>\n",
       "    </tr>\n",
       "    <tr>\n",
       "      <th>2</th>\n",
       "      <td>8wqf53khcc</td>\n",
       "      <td>468</td>\n",
       "      <td>7468072.0</td>\n",
       "      <td>show</td>\n",
       "      <td>view</td>\n",
       "      <td>p3</td>\n",
       "      <td>Mac Desktop</td>\n",
       "      <td>41</td>\n",
       "      <td>7</td>\n",
       "      <td>22</td>\n",
       "      <td>3</td>\n",
       "      <td>814514.0</td>\n",
       "      <td>0.0</td>\n",
       "      <td>15957.418803</td>\n",
       "      <td>0</td>\n",
       "      <td>0</td>\n",
       "      <td>1</td>\n",
       "      <td>1</td>\n",
       "    </tr>\n",
       "    <tr>\n",
       "      <th>3</th>\n",
       "      <td>q7jew74rm9</td>\n",
       "      <td>50</td>\n",
       "      <td>363874.0</td>\n",
       "      <td>show</td>\n",
       "      <td>view</td>\n",
       "      <td>user_profile</td>\n",
       "      <td>iPhone</td>\n",
       "      <td>8</td>\n",
       "      <td>5</td>\n",
       "      <td>8</td>\n",
       "      <td>2</td>\n",
       "      <td>64106.0</td>\n",
       "      <td>12.0</td>\n",
       "      <td>7277.480000</td>\n",
       "      <td>0</td>\n",
       "      <td>1</td>\n",
       "      <td>0</td>\n",
       "      <td>1</td>\n",
       "    </tr>\n",
       "    <tr>\n",
       "      <th>4</th>\n",
       "      <td>f2t2nbphmv</td>\n",
       "      <td>43</td>\n",
       "      <td>3340242.0</td>\n",
       "      <td>update</td>\n",
       "      <td>submit</td>\n",
       "      <td>update_listing</td>\n",
       "      <td>Windows Desktop</td>\n",
       "      <td>14</td>\n",
       "      <td>5</td>\n",
       "      <td>16</td>\n",
       "      <td>1</td>\n",
       "      <td>1107772.0</td>\n",
       "      <td>68.0</td>\n",
       "      <td>77680.046512</td>\n",
       "      <td>0</td>\n",
       "      <td>0</td>\n",
       "      <td>1</td>\n",
       "      <td>0</td>\n",
       "    </tr>\n",
       "  </tbody>\n",
       "</table>\n",
       "</div>"
      ],
      "text/plain": [
       "      user_id  action_count   duration          action action_type  \\\n",
       "0  lvs98g7ggz            12   113525.5  search_results       click   \n",
       "1  9hue70lsfi            22   439490.0            show        view   \n",
       "2  8wqf53khcc           468  7468072.0            show        view   \n",
       "3  q7jew74rm9            50   363874.0            show        view   \n",
       "4  f2t2nbphmv            43  3340242.0          update      submit   \n",
       "\n",
       "         action_detail      device_type  unique_actions  unique_action_types  \\\n",
       "0  view_search_results  Windows Desktop               3                    3   \n",
       "1            -unknown-        -unknown-               7                    5   \n",
       "2                   p3      Mac Desktop              41                    7   \n",
       "3         user_profile           iPhone               8                    5   \n",
       "4       update_listing  Windows Desktop              14                    5   \n",
       "\n",
       "   unique_action_details  unique_device_types  max_duration  min_duration  \\\n",
       "0                      3                    1       31091.0         117.0   \n",
       "1                      8                    2      244093.0         286.0   \n",
       "2                     22                    3      814514.0           0.0   \n",
       "3                      8                    2       64106.0          12.0   \n",
       "4                     16                    1     1107772.0          68.0   \n",
       "\n",
       "   avg_duration  tablet_device  mobile_device  desktop_device  apple_device  \n",
       "0   9460.458333              0              0               1             0  \n",
       "1  19976.818182              0              0               0             0  \n",
       "2  15957.418803              0              0               1             1  \n",
       "3   7277.480000              0              1               0             1  \n",
       "4  77680.046512              0              0               1             0  "
      ]
     },
     "execution_count": 45,
     "metadata": {},
     "output_type": "execute_result"
    }
   ],
   "source": [
    "sessions_summary.head()"
   ]
  },
  {
   "cell_type": "code",
   "execution_count": null,
   "metadata": {
    "collapsed": false,
    "scrolled": true
   },
   "outputs": [
    {
     "data": {
      "text/plain": [
       "user_id                  0\n",
       "action_count             0\n",
       "duration                 0\n",
       "action                   0\n",
       "action_type              0\n",
       "action_detail            0\n",
       "device_type              0\n",
       "unique_actions           0\n",
       "unique_action_types      0\n",
       "unique_action_details    0\n",
       "unique_device_types      0\n",
       "max_duration             0\n",
       "min_duration             0\n",
       "avg_duration             0\n",
       "tablet_device            0\n",
       "mobile_device            0\n",
       "desktop_device           0\n",
       "apple_device             0\n",
       "dtype: int64"
      ]
     },
     "execution_count": 46,
     "metadata": {},
     "output_type": "execute_result"
    }
   ],
   "source": [
    "# Check if there are any null values before merging with train.\n",
    "sessions_summary.isnull().sum()"
   ]
  },
  {
   "cell_type": "code",
   "execution_count": null,
   "metadata": {
    "collapsed": false
   },
   "outputs": [
    {
     "name": "stdout",
     "output_type": "stream",
     "text": [
      "(135483, 18)\n",
      "(213451, 16)\n",
      "(62096, 15)\n"
     ]
    }
   ],
   "source": [
    "print(sessions_summary.shape)\n",
    "print(train.shape)\n",
    "print(test.shape)"
   ]
  },
  {
   "cell_type": "code",
   "execution_count": null,
   "metadata": {
    "collapsed": true
   },
   "outputs": [],
   "source": [
    "# Merge train and test with sessions_summary\n",
    "train1 = train.merge(sessions_summary, left_on = train['id'], right_on = sessions_summary['user_id'], how = 'inner')\n",
    "# train2 is equal to the users that are not in train1\n",
    "train2 = train[~train.id.isin(train1.id)]\n",
    "train = pd.concat([train1, train2])\n",
    "\n",
    "test1 = test.merge(sessions_summary, left_on = test['id'], right_on = sessions_summary['user_id'], how = 'inner')\n",
    "# test2 is equal to the users that are not in test1\n",
    "test2 = test[~test.id.isin(test1.id)]\n",
    "test = pd.concat([test1, test2])"
   ]
  },
  {
   "cell_type": "markdown",
   "metadata": {},
   "source": [
    "The next step is to transform the features so that they are ready for training the neural network."
   ]
  },
  {
   "cell_type": "markdown",
   "metadata": {},
   "source": [
    "## Feature Engineering"
   ]
  },
  {
   "cell_type": "code",
   "execution_count": null,
   "metadata": {
    "collapsed": false
   },
   "outputs": [],
   "source": [
    "# Concatenate train and test because all transformations need to happen to both dataframes.\n",
    "df = pd.concat([train,test])"
   ]
  },
  {
   "cell_type": "code",
   "execution_count": null,
   "metadata": {
    "collapsed": false,
    "scrolled": true
   },
   "outputs": [
    {
     "data": {
      "text/html": [
       "<div>\n",
       "<table border=\"1\" class=\"dataframe\">\n",
       "  <thead>\n",
       "    <tr style=\"text-align: right;\">\n",
       "      <th></th>\n",
       "      <th>action</th>\n",
       "      <th>action_count</th>\n",
       "      <th>action_detail</th>\n",
       "      <th>action_type</th>\n",
       "      <th>affiliate_channel</th>\n",
       "      <th>affiliate_provider</th>\n",
       "      <th>age</th>\n",
       "      <th>apple_device</th>\n",
       "      <th>avg_duration</th>\n",
       "      <th>country_destination</th>\n",
       "      <th>date_account_created</th>\n",
       "      <th>date_first_booking</th>\n",
       "      <th>desktop_device</th>\n",
       "      <th>device_type</th>\n",
       "      <th>duration</th>\n",
       "      <th>first_affiliate_tracked</th>\n",
       "      <th>first_browser</th>\n",
       "      <th>first_device_type</th>\n",
       "      <th>gender</th>\n",
       "      <th>id</th>\n",
       "      <th>language</th>\n",
       "      <th>max_duration</th>\n",
       "      <th>min_duration</th>\n",
       "      <th>mobile_device</th>\n",
       "      <th>signup_app</th>\n",
       "      <th>signup_flow</th>\n",
       "      <th>signup_method</th>\n",
       "      <th>tablet_device</th>\n",
       "      <th>timestamp_first_active</th>\n",
       "      <th>unique_action_details</th>\n",
       "      <th>unique_action_types</th>\n",
       "      <th>unique_actions</th>\n",
       "      <th>unique_device_types</th>\n",
       "      <th>user_id</th>\n",
       "    </tr>\n",
       "  </thead>\n",
       "  <tbody>\n",
       "    <tr>\n",
       "      <th>0</th>\n",
       "      <td>show</td>\n",
       "      <td>127.0</td>\n",
       "      <td>p3</td>\n",
       "      <td>view</td>\n",
       "      <td>sem-non-brand</td>\n",
       "      <td>google</td>\n",
       "      <td>62.0</td>\n",
       "      <td>0.0</td>\n",
       "      <td>27283.503937</td>\n",
       "      <td>other</td>\n",
       "      <td>2014-01-01</td>\n",
       "      <td>2014-01-04</td>\n",
       "      <td>1.0</td>\n",
       "      <td>Windows Desktop</td>\n",
       "      <td>3465005.0</td>\n",
       "      <td>omg</td>\n",
       "      <td>Chrome</td>\n",
       "      <td>Windows Desktop</td>\n",
       "      <td>MALE</td>\n",
       "      <td>d1mm9tcy42</td>\n",
       "      <td>en</td>\n",
       "      <td>606881.0</td>\n",
       "      <td>2.0</td>\n",
       "      <td>0.0</td>\n",
       "      <td>Web</td>\n",
       "      <td>0</td>\n",
       "      <td>basic</td>\n",
       "      <td>0.0</td>\n",
       "      <td>20140101000936</td>\n",
       "      <td>10.0</td>\n",
       "      <td>7.0</td>\n",
       "      <td>17.0</td>\n",
       "      <td>2.0</td>\n",
       "      <td>d1mm9tcy42</td>\n",
       "    </tr>\n",
       "    <tr>\n",
       "      <th>1</th>\n",
       "      <td>show</td>\n",
       "      <td>12.0</td>\n",
       "      <td>p3</td>\n",
       "      <td>view</td>\n",
       "      <td>direct</td>\n",
       "      <td>direct</td>\n",
       "      <td>NaN</td>\n",
       "      <td>1.0</td>\n",
       "      <td>24522.125000</td>\n",
       "      <td>NDF</td>\n",
       "      <td>2014-01-01</td>\n",
       "      <td>NaN</td>\n",
       "      <td>1.0</td>\n",
       "      <td>Mac Desktop</td>\n",
       "      <td>294265.5</td>\n",
       "      <td>untracked</td>\n",
       "      <td>Firefox</td>\n",
       "      <td>Mac Desktop</td>\n",
       "      <td>-unknown-</td>\n",
       "      <td>yo8nz8bqcq</td>\n",
       "      <td>en</td>\n",
       "      <td>115983.0</td>\n",
       "      <td>36.0</td>\n",
       "      <td>0.0</td>\n",
       "      <td>Web</td>\n",
       "      <td>0</td>\n",
       "      <td>basic</td>\n",
       "      <td>0.0</td>\n",
       "      <td>20140101001558</td>\n",
       "      <td>8.0</td>\n",
       "      <td>4.0</td>\n",
       "      <td>7.0</td>\n",
       "      <td>1.0</td>\n",
       "      <td>yo8nz8bqcq</td>\n",
       "    </tr>\n",
       "    <tr>\n",
       "      <th>2</th>\n",
       "      <td>create</td>\n",
       "      <td>16.0</td>\n",
       "      <td>-unknown-</td>\n",
       "      <td>-unknown-</td>\n",
       "      <td>sem-brand</td>\n",
       "      <td>google</td>\n",
       "      <td>NaN</td>\n",
       "      <td>0.0</td>\n",
       "      <td>71887.156250</td>\n",
       "      <td>NDF</td>\n",
       "      <td>2014-01-01</td>\n",
       "      <td>NaN</td>\n",
       "      <td>1.0</td>\n",
       "      <td>Windows Desktop</td>\n",
       "      <td>1150194.5</td>\n",
       "      <td>omg</td>\n",
       "      <td>Firefox</td>\n",
       "      <td>Windows Desktop</td>\n",
       "      <td>-unknown-</td>\n",
       "      <td>4grx6yxeby</td>\n",
       "      <td>en</td>\n",
       "      <td>336801.0</td>\n",
       "      <td>53.0</td>\n",
       "      <td>0.0</td>\n",
       "      <td>Web</td>\n",
       "      <td>0</td>\n",
       "      <td>basic</td>\n",
       "      <td>0.0</td>\n",
       "      <td>20140101001639</td>\n",
       "      <td>8.0</td>\n",
       "      <td>6.0</td>\n",
       "      <td>13.0</td>\n",
       "      <td>2.0</td>\n",
       "      <td>4grx6yxeby</td>\n",
       "    </tr>\n",
       "    <tr>\n",
       "      <th>3</th>\n",
       "      <td>ajax_refresh_subtotal</td>\n",
       "      <td>160.0</td>\n",
       "      <td>view_search_results</td>\n",
       "      <td>click</td>\n",
       "      <td>direct</td>\n",
       "      <td>direct</td>\n",
       "      <td>NaN</td>\n",
       "      <td>0.0</td>\n",
       "      <td>24384.262500</td>\n",
       "      <td>NDF</td>\n",
       "      <td>2014-01-01</td>\n",
       "      <td>NaN</td>\n",
       "      <td>1.0</td>\n",
       "      <td>Windows Desktop</td>\n",
       "      <td>3901482.0</td>\n",
       "      <td>linked</td>\n",
       "      <td>Chrome</td>\n",
       "      <td>Windows Desktop</td>\n",
       "      <td>-unknown-</td>\n",
       "      <td>ncf87guaf0</td>\n",
       "      <td>en</td>\n",
       "      <td>732296.0</td>\n",
       "      <td>0.0</td>\n",
       "      <td>0.0</td>\n",
       "      <td>Web</td>\n",
       "      <td>0</td>\n",
       "      <td>basic</td>\n",
       "      <td>0.0</td>\n",
       "      <td>20140101002146</td>\n",
       "      <td>13.0</td>\n",
       "      <td>7.0</td>\n",
       "      <td>19.0</td>\n",
       "      <td>3.0</td>\n",
       "      <td>ncf87guaf0</td>\n",
       "    </tr>\n",
       "    <tr>\n",
       "      <th>4</th>\n",
       "      <td>index</td>\n",
       "      <td>8.0</td>\n",
       "      <td>-unknown-</td>\n",
       "      <td>-unknown-</td>\n",
       "      <td>direct</td>\n",
       "      <td>direct</td>\n",
       "      <td>NaN</td>\n",
       "      <td>1.0</td>\n",
       "      <td>2163.187500</td>\n",
       "      <td>GB</td>\n",
       "      <td>2014-01-01</td>\n",
       "      <td>2014-01-02</td>\n",
       "      <td>0.0</td>\n",
       "      <td>iPhone</td>\n",
       "      <td>17305.5</td>\n",
       "      <td>untracked</td>\n",
       "      <td>-unknown-</td>\n",
       "      <td>iPhone</td>\n",
       "      <td>-unknown-</td>\n",
       "      <td>4rvqpxoh3h</td>\n",
       "      <td>en</td>\n",
       "      <td>14750.5</td>\n",
       "      <td>21.0</td>\n",
       "      <td>1.0</td>\n",
       "      <td>iOS</td>\n",
       "      <td>25</td>\n",
       "      <td>basic</td>\n",
       "      <td>0.0</td>\n",
       "      <td>20140101002619</td>\n",
       "      <td>1.0</td>\n",
       "      <td>1.0</td>\n",
       "      <td>7.0</td>\n",
       "      <td>1.0</td>\n",
       "      <td>4rvqpxoh3h</td>\n",
       "    </tr>\n",
       "  </tbody>\n",
       "</table>\n",
       "</div>"
      ],
      "text/plain": [
       "                  action  action_count        action_detail action_type  \\\n",
       "0                   show         127.0                   p3        view   \n",
       "1                   show          12.0                   p3        view   \n",
       "2                 create          16.0            -unknown-   -unknown-   \n",
       "3  ajax_refresh_subtotal         160.0  view_search_results       click   \n",
       "4                  index           8.0            -unknown-   -unknown-   \n",
       "\n",
       "  affiliate_channel affiliate_provider   age  apple_device  avg_duration  \\\n",
       "0     sem-non-brand             google  62.0           0.0  27283.503937   \n",
       "1            direct             direct   NaN           1.0  24522.125000   \n",
       "2         sem-brand             google   NaN           0.0  71887.156250   \n",
       "3            direct             direct   NaN           0.0  24384.262500   \n",
       "4            direct             direct   NaN           1.0   2163.187500   \n",
       "\n",
       "  country_destination date_account_created date_first_booking  desktop_device  \\\n",
       "0               other           2014-01-01         2014-01-04             1.0   \n",
       "1                 NDF           2014-01-01                NaN             1.0   \n",
       "2                 NDF           2014-01-01                NaN             1.0   \n",
       "3                 NDF           2014-01-01                NaN             1.0   \n",
       "4                  GB           2014-01-01         2014-01-02             0.0   \n",
       "\n",
       "       device_type   duration first_affiliate_tracked first_browser  \\\n",
       "0  Windows Desktop  3465005.0                     omg        Chrome   \n",
       "1      Mac Desktop   294265.5               untracked       Firefox   \n",
       "2  Windows Desktop  1150194.5                     omg       Firefox   \n",
       "3  Windows Desktop  3901482.0                  linked        Chrome   \n",
       "4           iPhone    17305.5               untracked     -unknown-   \n",
       "\n",
       "  first_device_type     gender          id language  max_duration  \\\n",
       "0   Windows Desktop       MALE  d1mm9tcy42       en      606881.0   \n",
       "1       Mac Desktop  -unknown-  yo8nz8bqcq       en      115983.0   \n",
       "2   Windows Desktop  -unknown-  4grx6yxeby       en      336801.0   \n",
       "3   Windows Desktop  -unknown-  ncf87guaf0       en      732296.0   \n",
       "4            iPhone  -unknown-  4rvqpxoh3h       en       14750.5   \n",
       "\n",
       "   min_duration  mobile_device signup_app  signup_flow signup_method  \\\n",
       "0           2.0            0.0        Web            0         basic   \n",
       "1          36.0            0.0        Web            0         basic   \n",
       "2          53.0            0.0        Web            0         basic   \n",
       "3           0.0            0.0        Web            0         basic   \n",
       "4          21.0            1.0        iOS           25         basic   \n",
       "\n",
       "   tablet_device  timestamp_first_active  unique_action_details  \\\n",
       "0            0.0          20140101000936                   10.0   \n",
       "1            0.0          20140101001558                    8.0   \n",
       "2            0.0          20140101001639                    8.0   \n",
       "3            0.0          20140101002146                   13.0   \n",
       "4            0.0          20140101002619                    1.0   \n",
       "\n",
       "   unique_action_types  unique_actions  unique_device_types     user_id  \n",
       "0                  7.0            17.0                  2.0  d1mm9tcy42  \n",
       "1                  4.0             7.0                  1.0  yo8nz8bqcq  \n",
       "2                  6.0            13.0                  2.0  4grx6yxeby  \n",
       "3                  7.0            19.0                  3.0  ncf87guaf0  \n",
       "4                  1.0             7.0                  1.0  4rvqpxoh3h  "
      ]
     },
     "execution_count": 50,
     "metadata": {},
     "output_type": "execute_result"
    }
   ],
   "source": [
    "df.head()"
   ]
  },
  {
   "cell_type": "code",
   "execution_count": null,
   "metadata": {
    "collapsed": false
   },
   "outputs": [
    {
     "data": {
      "text/plain": [
       "(275547, 34)"
      ]
     },
     "execution_count": 51,
     "metadata": {},
     "output_type": "execute_result"
    }
   ],
   "source": [
    "df.shape"
   ]
  },
  {
   "cell_type": "code",
   "execution_count": null,
   "metadata": {
    "collapsed": false
   },
   "outputs": [
    {
     "data": {
      "text/plain": [
       "action                     140064\n",
       "action_count               140064\n",
       "action_detail              140064\n",
       "action_type                140064\n",
       "affiliate_channel               0\n",
       "affiliate_provider              0\n",
       "age                        116866\n",
       "apple_device               140064\n",
       "avg_duration               140064\n",
       "country_destination         62096\n",
       "date_account_created            0\n",
       "date_first_booking         186639\n",
       "desktop_device             140064\n",
       "device_type                140064\n",
       "duration                   140064\n",
       "first_affiliate_tracked      6085\n",
       "first_browser                   0\n",
       "first_device_type               0\n",
       "gender                          0\n",
       "id                              0\n",
       "language                        0\n",
       "max_duration               140064\n",
       "min_duration               140064\n",
       "mobile_device              140064\n",
       "signup_app                      0\n",
       "signup_flow                     0\n",
       "signup_method                   0\n",
       "tablet_device              140064\n",
       "timestamp_first_active          0\n",
       "unique_action_details      140064\n",
       "unique_action_types        140064\n",
       "unique_actions             140064\n",
       "unique_device_types        140064\n",
       "user_id                    140064\n",
       "dtype: int64"
      ]
     },
     "execution_count": 52,
     "metadata": {},
     "output_type": "execute_result"
    }
   ],
   "source": [
    "df.isnull().sum()"
   ]
  },
  {
   "cell_type": "code",
   "execution_count": null,
   "metadata": {
    "collapsed": false
   },
   "outputs": [],
   "source": [
    "# We don't need this because we already have id and it has 0 null values.\n",
    "df = df.drop('user_id', axis = 1)"
   ]
  },
  {
   "cell_type": "markdown",
   "metadata": {},
   "source": [
    "Since there are many users that do not appear in the sessions dataframe, all of their values are NaN. Let's sort out those nulls values first."
   ]
  },
  {
   "cell_type": "code",
   "execution_count": null,
   "metadata": {
    "collapsed": false
   },
   "outputs": [],
   "source": [
    "def missing_session_data_cat(feature):\n",
    "    return df[feature].fillna(\"missing\")\n",
    "\n",
    "def missing_session_data_cont(feature):\n",
    "    return df[feature].fillna(0)"
   ]
  },
  {
   "cell_type": "code",
   "execution_count": null,
   "metadata": {
    "collapsed": true
   },
   "outputs": [],
   "source": [
    "session_features_cat = ['action','action_detail','action_type','device_type']\n",
    "session_features_cont = ['action_count','apple_device','desktop_device','mobile_device','tablet_device',\n",
    "                         'duration','avg_duration','max_duration','min_duration','unique_action_details',\n",
    "                         'unique_action_types','unique_actions','unique_device_types']\n",
    "\n",
    "for feature in session_features_cat:\n",
    "    df[feature] = missing_session_data_cat(feature)\n",
    "    \n",
    "for feature in session_features_cont:\n",
    "    df[feature] = missing_session_data_cont(feature)"
   ]
  },
  {
   "cell_type": "markdown",
   "metadata": {},
   "source": [
    "That removed most of the null values!"
   ]
  },
  {
   "cell_type": "code",
   "execution_count": null,
   "metadata": {
    "collapsed": false,
    "scrolled": true
   },
   "outputs": [
    {
     "data": {
      "text/plain": [
       "action                          0\n",
       "action_count                    0\n",
       "action_detail                   0\n",
       "action_type                     0\n",
       "affiliate_channel               0\n",
       "affiliate_provider              0\n",
       "age                        116866\n",
       "apple_device                    0\n",
       "avg_duration                    0\n",
       "country_destination         62096\n",
       "date_account_created            0\n",
       "date_first_booking         186639\n",
       "desktop_device                  0\n",
       "device_type                     0\n",
       "duration                        0\n",
       "first_affiliate_tracked      6085\n",
       "first_browser                   0\n",
       "first_device_type               0\n",
       "gender                          0\n",
       "id                              0\n",
       "language                        0\n",
       "max_duration                    0\n",
       "min_duration                    0\n",
       "mobile_device                   0\n",
       "signup_app                      0\n",
       "signup_flow                     0\n",
       "signup_method                   0\n",
       "tablet_device                   0\n",
       "timestamp_first_active          0\n",
       "unique_action_details           0\n",
       "unique_action_types             0\n",
       "unique_actions                  0\n",
       "unique_device_types             0\n",
       "dtype: int64"
      ]
     },
     "execution_count": 56,
     "metadata": {},
     "output_type": "execute_result"
    }
   ],
   "source": [
    "df.isnull().sum()"
   ]
  },
  {
   "cell_type": "code",
   "execution_count": null,
   "metadata": {
    "collapsed": false
   },
   "outputs": [
    {
     "data": {
      "text/plain": [
       "count    275547.000000\n",
       "mean         39.140927\n",
       "std          88.944077\n",
       "min           0.000000\n",
       "25%           0.000000\n",
       "50%           0.000000\n",
       "75%          42.000000\n",
       "max        2724.000000\n",
       "Name: action_count, dtype: float64"
      ]
     },
     "execution_count": 57,
     "metadata": {},
     "output_type": "execute_result"
    }
   ],
   "source": [
    "df.action_count.describe()"
   ]
  },
  {
   "cell_type": "code",
   "execution_count": null,
   "metadata": {
    "collapsed": false
   },
   "outputs": [
    {
     "data": {
      "text/plain": [
       "count    135483.000000\n",
       "mean         79.605301\n",
       "std         113.439177\n",
       "min           1.000000\n",
       "25%          17.000000\n",
       "50%          43.000000\n",
       "75%          97.000000\n",
       "max        2724.000000\n",
       "Name: action_count, dtype: float64"
      ]
     },
     "execution_count": 58,
     "metadata": {},
     "output_type": "execute_result"
    }
   ],
   "source": [
    "df[df.action_count > 0].action_count.describe()"
   ]
  },
  {
   "cell_type": "code",
   "execution_count": null,
   "metadata": {
    "collapsed": false,
    "scrolled": true
   },
   "outputs": [
    {
     "data": {
      "image/png": "[encoded data removed]",
      "text/plain": [
       "<matplotlib.figure.Figure at 0x11b49c5f8>"
      ]
     },
     "metadata": {},
     "output_type": "display_data"
    }
   ],
   "source": [
    "plt.hist(df[df.action_count > 0].action_count)\n",
    "plt.yscale('log')\n",
    "plt.show()"
   ]
  },
  {
   "cell_type": "code",
   "execution_count": null,
   "metadata": {
    "collapsed": false
   },
   "outputs": [],
   "source": [
    "# Group action_count into quartiles.\n",
    "df['action_count_quartile'] = df.action_count.map(lambda x: 0 if x == 0 else (\n",
    "                                                            1 if x <= 17 else (\n",
    "                                                            2 if x <= 43 else (\n",
    "                                                            3 if x <= 97 else 4))))"
   ]
  },
  {
   "cell_type": "code",
   "execution_count": null,
   "metadata": {
    "collapsed": false
   },
   "outputs": [
    {
     "data": {
      "text/plain": [
       "count    158681.000000\n",
       "mean         47.145310\n",
       "std         142.629468\n",
       "min           1.000000\n",
       "25%          28.000000\n",
       "50%          33.000000\n",
       "75%          42.000000\n",
       "max        2014.000000\n",
       "Name: age, dtype: float64"
      ]
     },
     "execution_count": 61,
     "metadata": {},
     "output_type": "execute_result"
    }
   ],
   "source": [
    "df[df.age.notnull()].age.describe()"
   ]
  },
  {
   "cell_type": "code",
   "execution_count": null,
   "metadata": {
    "collapsed": false
   },
   "outputs": [
    {
     "data": {
      "image/png": "[encoded data removed]",
      "text/plain": [
       "<matplotlib.figure.Figure at 0x11b456b00>"
      ]
     },
     "metadata": {},
     "output_type": "display_data"
    }
   ],
   "source": [
    "plt.hist(df[df.age <= 100].age, bins = 80)\n",
    "plt.show()"
   ]
  },
  {
   "cell_type": "markdown",
   "metadata": {},
   "source": [
    "No one is 2014 years old. If anyone is older than 80, let's bring their age down to 80...I'm sure some of them wouldn't mind that."
   ]
  },
  {
   "cell_type": "code",
   "execution_count": null,
   "metadata": {
    "collapsed": false
   },
   "outputs": [],
   "source": [
    "df.loc[df.age > 80, 'age'] = 80"
   ]
  },
  {
   "cell_type": "code",
   "execution_count": null,
   "metadata": {
    "collapsed": false
   },
   "outputs": [
    {
     "data": {
      "text/plain": [
       "count    158681.000000\n",
       "mean         36.756436\n",
       "std          12.770211\n",
       "min           1.000000\n",
       "25%          28.000000\n",
       "50%          33.000000\n",
       "75%          42.000000\n",
       "max          80.000000\n",
       "Name: age, dtype: float64"
      ]
     },
     "execution_count": 64,
     "metadata": {},
     "output_type": "execute_result"
    }
   ],
   "source": [
    "df[df.age.notnull()].age.describe()"
   ]
  },
  {
   "cell_type": "markdown",
   "metadata": {},
   "source": [
    "Let's see if there is a feature that is correlated with age, to help find good values for the nulls"
   ]
  },
  {
   "cell_type": "code",
   "execution_count": null,
   "metadata": {
    "collapsed": false,
    "scrolled": true
   },
   "outputs": [
    {
     "name": "stdout",
     "output_type": "stream",
     "text": [
      "Correlation with action_count = (-0.064026876831618271, 8.935019331436594e-144)\n",
      "Correlation with age = (1.0, 0.0)\n",
      "Correlation with apple_device = (-0.11877768421316583, 0.0)\n",
      "Correlation with avg_duration = (-0.015890959356089224, 2.4440110140227963e-10)\n",
      "Correlation with desktop_device = (-0.04078523014721834, 2.1151097257467199e-59)\n",
      "Correlation with duration = (-0.031522514371148634, 3.5056510866694804e-36)\n",
      "Correlation with max_duration = (-0.046902158494160351, 5.5907076372683492e-78)\n",
      "Correlation with min_duration = (-0.0061751882510133168, 0.013898465412299924)\n",
      "Correlation with mobile_device = (-0.10935875994089284, 0.0)\n",
      "Correlation with signup_flow = (-0.10945378061441423, 0.0)\n",
      "Correlation with tablet_device = (0.032457538742075048, 2.94315571171229e-38)\n",
      "Correlation with timestamp_first_active = (-0.10000080826874851, 0.0)\n",
      "Correlation with unique_action_details = (-0.080635864696282103, 4.1759774725532945e-227)\n",
      "Correlation with unique_action_types = (-0.087255839917087102, 1.0418634090552499e-265)\n",
      "Correlation with unique_actions = (-0.073144851623982723, 3.9161188539179863e-187)\n",
      "Correlation with unique_device_types = (-0.087245472405669544, 1.2041418624458218e-265)\n",
      "Correlation with action_count_quartile = (-0.095963056084712631, 3.4732814902639632e-321)\n"
     ]
    }
   ],
   "source": [
    "for feature in df.columns:\n",
    "    if(df[feature].dtype == float or df[feature].dtype == int):\n",
    "        correlation = stats.pearsonr(df[df.age.notnull()].age, df[df.age.notnull()][feature])\n",
    "        print(\"Correlation with {} = {}\".format(feature, correlation)) "
   ]
  },
  {
   "cell_type": "markdown",
   "metadata": {},
   "source": [
    "Unfortunately, nothing is really correlated with age. Since there are too many missing values for age, I'm going to set the missing values equal to the median, 33."
   ]
  },
  {
   "cell_type": "code",
   "execution_count": null,
   "metadata": {
    "collapsed": true
   },
   "outputs": [],
   "source": [
    "# Create age_group before filling in the nulls, so that the distribution is not altered.\n",
    "df['age_group'] = df.age.map(lambda x: 0 if math.isnan(x) else (\n",
    "                                       1 if x < 18 else (\n",
    "                                       2 if x <= 33 else (\n",
    "                                       3 if x <= 42 else 4))))"
   ]
  },
  {
   "cell_type": "code",
   "execution_count": null,
   "metadata": {
    "collapsed": true
   },
   "outputs": [],
   "source": [
    "df.age = df.age.fillna(33)"
   ]
  },
  {
   "cell_type": "code",
   "execution_count": null,
   "metadata": {
    "collapsed": false
   },
   "outputs": [
    {
     "data": {
      "text/plain": [
       "0"
      ]
     },
     "execution_count": 68,
     "metadata": {},
     "output_type": "execute_result"
    }
   ],
   "source": [
    "df.age.isnull().sum()"
   ]
  },
  {
   "cell_type": "code",
   "execution_count": null,
   "metadata": {
    "collapsed": false
   },
   "outputs": [
    {
     "data": {
      "image/png": "[encoded data removed]",
      "text/plain": [
       "<matplotlib.figure.Figure at 0x11eea5668>"
      ]
     },
     "metadata": {},
     "output_type": "display_data"
    }
   ],
   "source": [
    "plt.figure(figsize=(8,4))\n",
    "plt.hist(df.duration, bins = 100)\n",
    "plt.title(\"Duration\")\n",
    "plt.xlabel(\"Duration\")\n",
    "plt.ylabel(\"Number of Users\")\n",
    "plt.yscale('log')\n",
    "plt.show()"
   ]
  },
  {
   "cell_type": "code",
   "execution_count": null,
   "metadata": {
    "collapsed": false
   },
   "outputs": [
    {
     "data": {
      "image/png": "[encoded data removed]",
      "text/plain": [
       "<matplotlib.figure.Figure at 0x118ba2eb8>"
      ]
     },
     "metadata": {},
     "output_type": "display_data"
    }
   ],
   "source": [
    "plt.figure(figsize=(8,4))\n",
    "plt.hist(df.avg_duration, bins = 100)\n",
    "plt.title(\"Average Duration\")\n",
    "plt.xlabel(\"Average Duration\")\n",
    "plt.ylabel(\"Number of Users\")\n",
    "plt.yscale('log')\n",
    "plt.show()"
   ]
  },
  {
   "cell_type": "code",
   "execution_count": null,
   "metadata": {
    "collapsed": false
   },
   "outputs": [
    {
     "name": "stdout",
     "output_type": "stream",
     "text": [
      "count    2.755470e+05\n",
      "mean     7.671002e+05\n",
      "std      1.570985e+06\n",
      "min      0.000000e+00\n",
      "25%      0.000000e+00\n",
      "50%      0.000000e+00\n",
      "75%      8.771662e+05\n",
      "max      3.851321e+07\n",
      "Name: duration, dtype: float64\n",
      "\n",
      "count    275547.000000\n",
      "mean      13423.996460\n",
      "std       29962.460601\n",
      "min           0.000000\n",
      "25%           0.000000\n",
      "50%           0.000000\n",
      "75%       16553.788947\n",
      "max      933452.333333\n",
      "Name: avg_duration, dtype: float64\n"
     ]
    }
   ],
   "source": [
    "print(df.duration.describe())\n",
    "print()\n",
    "print(df.avg_duration.describe())"
   ]
  },
  {
   "cell_type": "code",
   "execution_count": null,
   "metadata": {
    "collapsed": false
   },
   "outputs": [
    {
     "name": "stdout",
     "output_type": "stream",
     "text": [
      "0.0\n",
      "678.46\n",
      "877166.25\n",
      "\n",
      "0.0\n",
      "346.23\n",
      "16553.7889474\n"
     ]
    }
   ],
   "source": [
    "print(np.percentile(df.duration, 50))\n",
    "print(np.percentile(df.duration, 51))\n",
    "print(np.percentile(df.duration, 75))\n",
    "print()\n",
    "print(np.percentile(df.avg_duration, 50))\n",
    "print(np.percentile(df.avg_duration, 51))\n",
    "print(np.percentile(df.avg_duration, 75))"
   ]
  },
  {
   "cell_type": "code",
   "execution_count": null,
   "metadata": {
    "collapsed": false
   },
   "outputs": [],
   "source": [
    "# Divide users into 3 equal-ish groups\n",
    "df['duration_group'] = df.duration.map(lambda x: 0 if x == 0 else (\n",
    "                                                 1 if x <= 877166.25 else 2))\n",
    "\n",
    "df['avg_duration_group'] = df.avg_duration.map(lambda x: 0 if x == 0 else (\n",
    "                                                         1 if x <= 16553.7889474 else 2))"
   ]
  },
  {
   "cell_type": "code",
   "execution_count": null,
   "metadata": {
    "collapsed": false
   },
   "outputs": [
    {
     "name": "stdout",
     "output_type": "stream",
     "text": [
      "0    140064\n",
      "2     68887\n",
      "1     66596\n",
      "Name: duration_group, dtype: int64\n",
      "\n",
      "0    140064\n",
      "2     68887\n",
      "1     66596\n",
      "Name: avg_duration_group, dtype: int64\n"
     ]
    }
   ],
   "source": [
    "print(df.duration_group.value_counts())\n",
    "print()\n",
    "print(df.avg_duration_group.value_counts())"
   ]
  },
  {
   "cell_type": "markdown",
   "metadata": {},
   "source": [
    "There are too many unknowns to try to group them with a gender. I'm going to leave OTHER because it could/probably represent(s) people who do not identify as either male/female."
   ]
  },
  {
   "cell_type": "code",
   "execution_count": null,
   "metadata": {
    "collapsed": false
   },
   "outputs": [
    {
     "data": {
      "text/plain": [
       "-unknown-    129480\n",
       "FEMALE        77524\n",
       "MALE          68209\n",
       "OTHER           334\n",
       "Name: gender, dtype: int64"
      ]
     },
     "execution_count": 75,
     "metadata": {},
     "output_type": "execute_result"
    }
   ],
   "source": [
    "df.gender.value_counts()"
   ]
  },
  {
   "cell_type": "code",
   "execution_count": null,
   "metadata": {
    "collapsed": false
   },
   "outputs": [
    {
     "data": {
      "text/plain": [
       "0.0    241225\n",
       "1.0     34322\n",
       "Name: mobile_device, dtype: int64"
      ]
     },
     "execution_count": 76,
     "metadata": {},
     "output_type": "execute_result"
    }
   ],
   "source": [
    "df.mobile_device.value_counts()"
   ]
  },
  {
   "cell_type": "code",
   "execution_count": null,
   "metadata": {
    "collapsed": false
   },
   "outputs": [
    {
     "data": {
      "text/plain": [
       "0     206092\n",
       "25     29834\n",
       "12     11244\n",
       "3       8822\n",
       "2       6881\n",
       "23      6408\n",
       "24      4328\n",
       "1       1047\n",
       "8        315\n",
       "6        301\n",
       "21       197\n",
       "5         36\n",
       "20        14\n",
       "16        11\n",
       "15        10\n",
       "14         4\n",
       "10         2\n",
       "4          1\n",
       "Name: signup_flow, dtype: int64"
      ]
     },
     "execution_count": 77,
     "metadata": {},
     "output_type": "execute_result"
    }
   ],
   "source": [
    "df.signup_flow.value_counts()"
   ]
  },
  {
   "cell_type": "code",
   "execution_count": null,
   "metadata": {
    "collapsed": false
   },
   "outputs": [],
   "source": [
    "# If signup_flow == 0, signup_flow_simple == 0\n",
    "# If signup_flow > 0, signup_flow_simple == 1\n",
    "df['signup_flow_simple'] = df.signup_flow.map(lambda x: 0 if x == 0 else 1)"
   ]
  },
  {
   "cell_type": "code",
   "execution_count": null,
   "metadata": {
    "collapsed": false
   },
   "outputs": [
    {
     "data": {
      "text/plain": [
       "0    206092\n",
       "1     69455\n",
       "Name: signup_flow_simple, dtype: int64"
      ]
     },
     "execution_count": 79,
     "metadata": {},
     "output_type": "execute_result"
    }
   ],
   "source": [
    "df['signup_flow_simple'].value_counts()"
   ]
  },
  {
   "cell_type": "code",
   "execution_count": null,
   "metadata": {
    "collapsed": false,
    "scrolled": true
   },
   "outputs": [
    {
     "data": {
      "text/plain": [
       "0.0    262566\n",
       "1.0     12981\n",
       "Name: tablet_device, dtype: int64"
      ]
     },
     "execution_count": 80,
     "metadata": {},
     "output_type": "execute_result"
    }
   ],
   "source": [
    "df.tablet_device.value_counts()"
   ]
  },
  {
   "cell_type": "code",
   "execution_count": null,
   "metadata": {
    "collapsed": false,
    "scrolled": true
   },
   "outputs": [],
   "source": [
    "# Convert dates to datetime for manipulation\n",
    "df.date_account_created = pd.to_datetime(df.date_account_created, format='%Y-%m-%d')\n",
    "df.date_first_booking = pd.to_datetime(df.date_first_booking, format='%Y-%m-%d')"
   ]
  },
  {
   "cell_type": "code",
   "execution_count": null,
   "metadata": {
    "collapsed": false
   },
   "outputs": [
    {
     "name": "stdout",
     "output_type": "stream",
     "text": [
      "2010-01-01 00:00:00\n",
      "2014-09-30 00:00:00\n",
      "\n",
      "2010-01-02 00:00:00\n",
      "2015-06-29 00:00:00\n"
     ]
    }
   ],
   "source": [
    "# Check to make sure the date range makes sense.\n",
    "print(df.date_account_created.min())\n",
    "print(df.date_account_created.max())\n",
    "print()\n",
    "print(df.date_first_booking.min())\n",
    "print(df.date_first_booking.max())"
   ]
  },
  {
   "cell_type": "code",
   "execution_count": null,
   "metadata": {
    "collapsed": false
   },
   "outputs": [],
   "source": [
    "# calendar contains more years of information than we need.\n",
    "calendar = USFederalHolidayCalendar()\n",
    "# Set holidays equal to the holidays in our date range.\n",
    "holidays = calendar.holidays(start = df.date_account_created.min(), \n",
    "                             end = df.date_first_booking.max())\n",
    "\n",
    "# us_bd contains more years of information than we need.\n",
    "us_bd = CustomBusinessDay(calendar = USFederalHolidayCalendar())\n",
    "# Set business_days equal to the work days in our date range.\n",
    "business_days = pd.DatetimeIndex(start = df.date_account_created.min(), \n",
    "                                 end = df.date_first_booking.max(), \n",
    "                                 freq = us_bd)"
   ]
  },
  {
   "cell_type": "code",
   "execution_count": null,
   "metadata": {
    "collapsed": false,
    "scrolled": true
   },
   "outputs": [],
   "source": [
    "# Create date features\n",
    "df['year_account_created'] = df.date_account_created.dt.year\n",
    "df['month_account_created'] = df.date_account_created.dt.month\n",
    "df['weekday_account_created'] = df.date_account_created.dt.weekday\n",
    "df['business_day_account_created'] = df.date_account_created.isin(business_days)\n",
    "df['business_day_account_created'] = df.business_day_account_created.map(lambda x: 1 if x == True else 0)\n",
    "df['holiday_account_created'] = df.date_account_created.isin(holidays)\n",
    "df['holiday_account_created'] = df.holiday_account_created.map(lambda x: 1 if x == True else 0)\n",
    "\n",
    "df['year_first_booking'] = df.date_first_booking.dt.year\n",
    "df['month_first_booking'] = df.date_first_booking.dt.month\n",
    "df['weekday_first_booking'] = df.date_first_booking.dt.weekday\n",
    "df['business_day_first_booking'] = df.date_first_booking.isin(business_days)\n",
    "df['business_day_first_booking'] = df.business_day_first_booking.map(lambda x: 1 if x == True else 0)\n",
    "df['holiday_first_booking'] = df.date_first_booking.isin(holidays)\n",
    "df['holiday_first_booking'] = df.holiday_first_booking.map(lambda x: 1 if x == True else 0)\n",
    "\n",
    "# Drop unneeded features\n",
    "df = df.drop([\"date_first_booking\",\"date_account_created\"], axis = 1)"
   ]
  },
  {
   "cell_type": "code",
   "execution_count": null,
   "metadata": {
    "collapsed": false,
    "scrolled": true
   },
   "outputs": [
    {
     "data": {
      "text/plain": [
       "action                               0\n",
       "action_count                         0\n",
       "action_detail                        0\n",
       "action_type                          0\n",
       "affiliate_channel                    0\n",
       "affiliate_provider                   0\n",
       "age                                  0\n",
       "apple_device                         0\n",
       "avg_duration                         0\n",
       "country_destination              62096\n",
       "desktop_device                       0\n",
       "device_type                          0\n",
       "duration                             0\n",
       "first_affiliate_tracked           6085\n",
       "first_browser                        0\n",
       "first_device_type                    0\n",
       "gender                               0\n",
       "id                                   0\n",
       "language                             0\n",
       "max_duration                         0\n",
       "min_duration                         0\n",
       "mobile_device                        0\n",
       "signup_app                           0\n",
       "signup_flow                          0\n",
       "signup_method                        0\n",
       "tablet_device                        0\n",
       "timestamp_first_active               0\n",
       "unique_action_details                0\n",
       "unique_action_types                  0\n",
       "unique_actions                       0\n",
       "unique_device_types                  0\n",
       "action_count_quartile                0\n",
       "age_group                            0\n",
       "duration_group                       0\n",
       "avg_duration_group                   0\n",
       "signup_flow_simple                   0\n",
       "year_account_created                 0\n",
       "month_account_created                0\n",
       "weekday_account_created              0\n",
       "business_day_account_created         0\n",
       "holiday_account_created              0\n",
       "year_first_booking              186639\n",
       "month_first_booking             186639\n",
       "weekday_first_booking           186639\n",
       "business_day_first_booking           0\n",
       "holiday_first_booking                0\n",
       "dtype: int64"
      ]
     },
     "execution_count": 85,
     "metadata": {},
     "output_type": "execute_result"
    }
   ],
   "source": [
    "df.isnull().sum()"
   ]
  },
  {
   "cell_type": "code",
   "execution_count": null,
   "metadata": {
    "collapsed": true
   },
   "outputs": [],
   "source": [
    "# Set nulls values equal to one less than the minimum.\n",
    "# I could set the nulls to 0, but the scale would be ugly when we normalize the features.\n",
    "df.year_first_booking = df.year_first_booking.fillna(min(df.year_first_booking) - 1)\n",
    "df.month_first_booking = df.month_first_booking.fillna(min(df.month_first_booking) - 1)\n",
    "df.weekday_first_booking += 1\n",
    "df.weekday_first_booking = df.weekday_first_booking.fillna(0)"
   ]
  },
  {
   "cell_type": "code",
   "execution_count": null,
   "metadata": {
    "collapsed": false,
    "scrolled": true
   },
   "outputs": [
    {
     "data": {
      "text/plain": [
       "action                              0\n",
       "action_count                        0\n",
       "action_detail                       0\n",
       "action_type                         0\n",
       "affiliate_channel                   0\n",
       "affiliate_provider                  0\n",
       "age                                 0\n",
       "apple_device                        0\n",
       "avg_duration                        0\n",
       "country_destination             62096\n",
       "desktop_device                      0\n",
       "device_type                         0\n",
       "duration                            0\n",
       "first_affiliate_tracked          6085\n",
       "first_browser                       0\n",
       "first_device_type                   0\n",
       "gender                              0\n",
       "id                                  0\n",
       "language                            0\n",
       "max_duration                        0\n",
       "min_duration                        0\n",
       "mobile_device                       0\n",
       "signup_app                          0\n",
       "signup_flow                         0\n",
       "signup_method                       0\n",
       "tablet_device                       0\n",
       "timestamp_first_active              0\n",
       "unique_action_details               0\n",
       "unique_action_types                 0\n",
       "unique_actions                      0\n",
       "unique_device_types                 0\n",
       "action_count_quartile               0\n",
       "age_group                           0\n",
       "duration_group                      0\n",
       "avg_duration_group                  0\n",
       "signup_flow_simple                  0\n",
       "year_account_created                0\n",
       "month_account_created               0\n",
       "weekday_account_created             0\n",
       "business_day_account_created        0\n",
       "holiday_account_created             0\n",
       "year_first_booking                  0\n",
       "month_first_booking                 0\n",
       "weekday_first_booking               0\n",
       "business_day_first_booking          0\n",
       "holiday_first_booking               0\n",
       "dtype: int64"
      ]
     },
     "execution_count": 87,
     "metadata": {},
     "output_type": "execute_result"
    }
   ],
   "source": [
    "df.isnull().sum()"
   ]
  },
  {
   "cell_type": "code",
   "execution_count": null,
   "metadata": {
    "collapsed": false
   },
   "outputs": [
    {
     "data": {
      "text/plain": [
       "untracked        143181\n",
       "linked            62064\n",
       "omg               54859\n",
       "tracked-other      6655\n",
       "product            2353\n",
       "marketing           281\n",
       "local ops            69\n",
       "Name: first_affiliate_tracked, dtype: int64"
      ]
     },
     "execution_count": 88,
     "metadata": {},
     "output_type": "execute_result"
    }
   ],
   "source": [
    "df.first_affiliate_tracked.value_counts()"
   ]
  },
  {
   "cell_type": "markdown",
   "metadata": {},
   "source": [
    "For the missing values for \"first_affiliate_tracked\" I am going to set these equal to \"untracked\". Not only is this the most common value, but it makes sense that if we are missing data on these people that they would not have been tracked."
   ]
  },
  {
   "cell_type": "code",
   "execution_count": null,
   "metadata": {
    "collapsed": true
   },
   "outputs": [],
   "source": [
    "df.first_affiliate_tracked = df.first_affiliate_tracked.fillna(\"untracked\")"
   ]
  },
  {
   "cell_type": "code",
   "execution_count": null,
   "metadata": {
    "collapsed": false,
    "scrolled": true
   },
   "outputs": [
    {
     "data": {
      "text/plain": [
       "action                              0\n",
       "action_count                        0\n",
       "action_detail                       0\n",
       "action_type                         0\n",
       "affiliate_channel                   0\n",
       "affiliate_provider                  0\n",
       "age                                 0\n",
       "apple_device                        0\n",
       "avg_duration                        0\n",
       "country_destination             62096\n",
       "desktop_device                      0\n",
       "device_type                         0\n",
       "duration                            0\n",
       "first_affiliate_tracked             0\n",
       "first_browser                       0\n",
       "first_device_type                   0\n",
       "gender                              0\n",
       "id                                  0\n",
       "language                            0\n",
       "max_duration                        0\n",
       "min_duration                        0\n",
       "mobile_device                       0\n",
       "signup_app                          0\n",
       "signup_flow                         0\n",
       "signup_method                       0\n",
       "tablet_device                       0\n",
       "timestamp_first_active              0\n",
       "unique_action_details               0\n",
       "unique_action_types                 0\n",
       "unique_actions                      0\n",
       "unique_device_types                 0\n",
       "action_count_quartile               0\n",
       "age_group                           0\n",
       "duration_group                      0\n",
       "avg_duration_group                  0\n",
       "signup_flow_simple                  0\n",
       "year_account_created                0\n",
       "month_account_created               0\n",
       "weekday_account_created             0\n",
       "business_day_account_created        0\n",
       "holiday_account_created             0\n",
       "year_first_booking                  0\n",
       "month_first_booking                 0\n",
       "weekday_first_booking               0\n",
       "business_day_first_booking          0\n",
       "holiday_first_booking               0\n",
       "dtype: int64"
      ]
     },
     "execution_count": 90,
     "metadata": {},
     "output_type": "execute_result"
    }
   ],
   "source": [
    "df.isnull().sum()"
   ]
  },
  {
   "cell_type": "markdown",
   "metadata": {},
   "source": [
    "Everything is all clean (the null values in 'country_destination' belong to the testing data). Now let's explore the categorical features that might have too many values and reduce that number before we do one-hot encoding."
   ]
  },
  {
   "cell_type": "code",
   "execution_count": null,
   "metadata": {
    "collapsed": false
   },
   "outputs": [
    {
     "data": {
      "text/html": [
       "<div>\n",
       "<table border=\"1\" class=\"dataframe\">\n",
       "  <thead>\n",
       "    <tr style=\"text-align: right;\">\n",
       "      <th></th>\n",
       "      <th>action</th>\n",
       "      <th>action_count</th>\n",
       "      <th>action_detail</th>\n",
       "      <th>action_type</th>\n",
       "      <th>affiliate_channel</th>\n",
       "      <th>affiliate_provider</th>\n",
       "      <th>age</th>\n",
       "      <th>apple_device</th>\n",
       "      <th>avg_duration</th>\n",
       "      <th>country_destination</th>\n",
       "      <th>desktop_device</th>\n",
       "      <th>device_type</th>\n",
       "      <th>duration</th>\n",
       "      <th>first_affiliate_tracked</th>\n",
       "      <th>first_browser</th>\n",
       "      <th>first_device_type</th>\n",
       "      <th>gender</th>\n",
       "      <th>id</th>\n",
       "      <th>language</th>\n",
       "      <th>max_duration</th>\n",
       "      <th>min_duration</th>\n",
       "      <th>mobile_device</th>\n",
       "      <th>signup_app</th>\n",
       "      <th>signup_flow</th>\n",
       "      <th>signup_method</th>\n",
       "      <th>tablet_device</th>\n",
       "      <th>timestamp_first_active</th>\n",
       "      <th>unique_action_details</th>\n",
       "      <th>unique_action_types</th>\n",
       "      <th>unique_actions</th>\n",
       "      <th>unique_device_types</th>\n",
       "      <th>action_count_quartile</th>\n",
       "      <th>age_group</th>\n",
       "      <th>duration_group</th>\n",
       "      <th>avg_duration_group</th>\n",
       "      <th>signup_flow_simple</th>\n",
       "      <th>year_account_created</th>\n",
       "      <th>month_account_created</th>\n",
       "      <th>weekday_account_created</th>\n",
       "      <th>business_day_account_created</th>\n",
       "      <th>holiday_account_created</th>\n",
       "      <th>year_first_booking</th>\n",
       "      <th>month_first_booking</th>\n",
       "      <th>weekday_first_booking</th>\n",
       "      <th>business_day_first_booking</th>\n",
       "      <th>holiday_first_booking</th>\n",
       "    </tr>\n",
       "  </thead>\n",
       "  <tbody>\n",
       "    <tr>\n",
       "      <th>0</th>\n",
       "      <td>show</td>\n",
       "      <td>127.0</td>\n",
       "      <td>p3</td>\n",
       "      <td>view</td>\n",
       "      <td>sem-non-brand</td>\n",
       "      <td>google</td>\n",
       "      <td>62.0</td>\n",
       "      <td>0.0</td>\n",
       "      <td>27283.503937</td>\n",
       "      <td>other</td>\n",
       "      <td>1.0</td>\n",
       "      <td>Windows Desktop</td>\n",
       "      <td>3465005.0</td>\n",
       "      <td>omg</td>\n",
       "      <td>Chrome</td>\n",
       "      <td>Windows Desktop</td>\n",
       "      <td>MALE</td>\n",
       "      <td>d1mm9tcy42</td>\n",
       "      <td>en</td>\n",
       "      <td>606881.0</td>\n",
       "      <td>2.0</td>\n",
       "      <td>0.0</td>\n",
       "      <td>Web</td>\n",
       "      <td>0</td>\n",
       "      <td>basic</td>\n",
       "      <td>0.0</td>\n",
       "      <td>20140101000936</td>\n",
       "      <td>10.0</td>\n",
       "      <td>7.0</td>\n",
       "      <td>17.0</td>\n",
       "      <td>2.0</td>\n",
       "      <td>4</td>\n",
       "      <td>4</td>\n",
       "      <td>2</td>\n",
       "      <td>2</td>\n",
       "      <td>0</td>\n",
       "      <td>2014</td>\n",
       "      <td>1</td>\n",
       "      <td>2</td>\n",
       "      <td>0</td>\n",
       "      <td>1</td>\n",
       "      <td>2014.0</td>\n",
       "      <td>1.0</td>\n",
       "      <td>6.0</td>\n",
       "      <td>0</td>\n",
       "      <td>0</td>\n",
       "    </tr>\n",
       "    <tr>\n",
       "      <th>1</th>\n",
       "      <td>show</td>\n",
       "      <td>12.0</td>\n",
       "      <td>p3</td>\n",
       "      <td>view</td>\n",
       "      <td>direct</td>\n",
       "      <td>direct</td>\n",
       "      <td>33.0</td>\n",
       "      <td>1.0</td>\n",
       "      <td>24522.125000</td>\n",
       "      <td>NDF</td>\n",
       "      <td>1.0</td>\n",
       "      <td>Mac Desktop</td>\n",
       "      <td>294265.5</td>\n",
       "      <td>untracked</td>\n",
       "      <td>Firefox</td>\n",
       "      <td>Mac Desktop</td>\n",
       "      <td>-unknown-</td>\n",
       "      <td>yo8nz8bqcq</td>\n",
       "      <td>en</td>\n",
       "      <td>115983.0</td>\n",
       "      <td>36.0</td>\n",
       "      <td>0.0</td>\n",
       "      <td>Web</td>\n",
       "      <td>0</td>\n",
       "      <td>basic</td>\n",
       "      <td>0.0</td>\n",
       "      <td>20140101001558</td>\n",
       "      <td>8.0</td>\n",
       "      <td>4.0</td>\n",
       "      <td>7.0</td>\n",
       "      <td>1.0</td>\n",
       "      <td>1</td>\n",
       "      <td>0</td>\n",
       "      <td>1</td>\n",
       "      <td>2</td>\n",
       "      <td>0</td>\n",
       "      <td>2014</td>\n",
       "      <td>1</td>\n",
       "      <td>2</td>\n",
       "      <td>0</td>\n",
       "      <td>1</td>\n",
       "      <td>2009.0</td>\n",
       "      <td>0.0</td>\n",
       "      <td>0.0</td>\n",
       "      <td>0</td>\n",
       "      <td>0</td>\n",
       "    </tr>\n",
       "    <tr>\n",
       "      <th>2</th>\n",
       "      <td>create</td>\n",
       "      <td>16.0</td>\n",
       "      <td>-unknown-</td>\n",
       "      <td>-unknown-</td>\n",
       "      <td>sem-brand</td>\n",
       "      <td>google</td>\n",
       "      <td>33.0</td>\n",
       "      <td>0.0</td>\n",
       "      <td>71887.156250</td>\n",
       "      <td>NDF</td>\n",
       "      <td>1.0</td>\n",
       "      <td>Windows Desktop</td>\n",
       "      <td>1150194.5</td>\n",
       "      <td>omg</td>\n",
       "      <td>Firefox</td>\n",
       "      <td>Windows Desktop</td>\n",
       "      <td>-unknown-</td>\n",
       "      <td>4grx6yxeby</td>\n",
       "      <td>en</td>\n",
       "      <td>336801.0</td>\n",
       "      <td>53.0</td>\n",
       "      <td>0.0</td>\n",
       "      <td>Web</td>\n",
       "      <td>0</td>\n",
       "      <td>basic</td>\n",
       "      <td>0.0</td>\n",
       "      <td>20140101001639</td>\n",
       "      <td>8.0</td>\n",
       "      <td>6.0</td>\n",
       "      <td>13.0</td>\n",
       "      <td>2.0</td>\n",
       "      <td>1</td>\n",
       "      <td>0</td>\n",
       "      <td>2</td>\n",
       "      <td>2</td>\n",
       "      <td>0</td>\n",
       "      <td>2014</td>\n",
       "      <td>1</td>\n",
       "      <td>2</td>\n",
       "      <td>0</td>\n",
       "      <td>1</td>\n",
       "      <td>2009.0</td>\n",
       "      <td>0.0</td>\n",
       "      <td>0.0</td>\n",
       "      <td>0</td>\n",
       "      <td>0</td>\n",
       "    </tr>\n",
       "    <tr>\n",
       "      <th>3</th>\n",
       "      <td>ajax_refresh_subtotal</td>\n",
       "      <td>160.0</td>\n",
       "      <td>view_search_results</td>\n",
       "      <td>click</td>\n",
       "      <td>direct</td>\n",
       "      <td>direct</td>\n",
       "      <td>33.0</td>\n",
       "      <td>0.0</td>\n",
       "      <td>24384.262500</td>\n",
       "      <td>NDF</td>\n",
       "      <td>1.0</td>\n",
       "      <td>Windows Desktop</td>\n",
       "      <td>3901482.0</td>\n",
       "      <td>linked</td>\n",
       "      <td>Chrome</td>\n",
       "      <td>Windows Desktop</td>\n",
       "      <td>-unknown-</td>\n",
       "      <td>ncf87guaf0</td>\n",
       "      <td>en</td>\n",
       "      <td>732296.0</td>\n",
       "      <td>0.0</td>\n",
       "      <td>0.0</td>\n",
       "      <td>Web</td>\n",
       "      <td>0</td>\n",
       "      <td>basic</td>\n",
       "      <td>0.0</td>\n",
       "      <td>20140101002146</td>\n",
       "      <td>13.0</td>\n",
       "      <td>7.0</td>\n",
       "      <td>19.0</td>\n",
       "      <td>3.0</td>\n",
       "      <td>4</td>\n",
       "      <td>0</td>\n",
       "      <td>2</td>\n",
       "      <td>2</td>\n",
       "      <td>0</td>\n",
       "      <td>2014</td>\n",
       "      <td>1</td>\n",
       "      <td>2</td>\n",
       "      <td>0</td>\n",
       "      <td>1</td>\n",
       "      <td>2009.0</td>\n",
       "      <td>0.0</td>\n",
       "      <td>0.0</td>\n",
       "      <td>0</td>\n",
       "      <td>0</td>\n",
       "    </tr>\n",
       "    <tr>\n",
       "      <th>4</th>\n",
       "      <td>index</td>\n",
       "      <td>8.0</td>\n",
       "      <td>-unknown-</td>\n",
       "      <td>-unknown-</td>\n",
       "      <td>direct</td>\n",
       "      <td>direct</td>\n",
       "      <td>33.0</td>\n",
       "      <td>1.0</td>\n",
       "      <td>2163.187500</td>\n",
       "      <td>GB</td>\n",
       "      <td>0.0</td>\n",
       "      <td>iPhone</td>\n",
       "      <td>17305.5</td>\n",
       "      <td>untracked</td>\n",
       "      <td>-unknown-</td>\n",
       "      <td>iPhone</td>\n",
       "      <td>-unknown-</td>\n",
       "      <td>4rvqpxoh3h</td>\n",
       "      <td>en</td>\n",
       "      <td>14750.5</td>\n",
       "      <td>21.0</td>\n",
       "      <td>1.0</td>\n",
       "      <td>iOS</td>\n",
       "      <td>25</td>\n",
       "      <td>basic</td>\n",
       "      <td>0.0</td>\n",
       "      <td>20140101002619</td>\n",
       "      <td>1.0</td>\n",
       "      <td>1.0</td>\n",
       "      <td>7.0</td>\n",
       "      <td>1.0</td>\n",
       "      <td>1</td>\n",
       "      <td>0</td>\n",
       "      <td>1</td>\n",
       "      <td>1</td>\n",
       "      <td>1</td>\n",
       "      <td>2014</td>\n",
       "      <td>1</td>\n",
       "      <td>2</td>\n",
       "      <td>0</td>\n",
       "      <td>1</td>\n",
       "      <td>2014.0</td>\n",
       "      <td>1.0</td>\n",
       "      <td>4.0</td>\n",
       "      <td>1</td>\n",
       "      <td>0</td>\n",
       "    </tr>\n",
       "  </tbody>\n",
       "</table>\n",
       "</div>"
      ],
      "text/plain": [
       "                  action  action_count        action_detail action_type  \\\n",
       "0                   show         127.0                   p3        view   \n",
       "1                   show          12.0                   p3        view   \n",
       "2                 create          16.0            -unknown-   -unknown-   \n",
       "3  ajax_refresh_subtotal         160.0  view_search_results       click   \n",
       "4                  index           8.0            -unknown-   -unknown-   \n",
       "\n",
       "  affiliate_channel affiliate_provider   age  apple_device  avg_duration  \\\n",
       "0     sem-non-brand             google  62.0           0.0  27283.503937   \n",
       "1            direct             direct  33.0           1.0  24522.125000   \n",
       "2         sem-brand             google  33.0           0.0  71887.156250   \n",
       "3            direct             direct  33.0           0.0  24384.262500   \n",
       "4            direct             direct  33.0           1.0   2163.187500   \n",
       "\n",
       "  country_destination  desktop_device      device_type   duration  \\\n",
       "0               other             1.0  Windows Desktop  3465005.0   \n",
       "1                 NDF             1.0      Mac Desktop   294265.5   \n",
       "2                 NDF             1.0  Windows Desktop  1150194.5   \n",
       "3                 NDF             1.0  Windows Desktop  3901482.0   \n",
       "4                  GB             0.0           iPhone    17305.5   \n",
       "\n",
       "  first_affiliate_tracked first_browser first_device_type     gender  \\\n",
       "0                     omg        Chrome   Windows Desktop       MALE   \n",
       "1               untracked       Firefox       Mac Desktop  -unknown-   \n",
       "2                     omg       Firefox   Windows Desktop  -unknown-   \n",
       "3                  linked        Chrome   Windows Desktop  -unknown-   \n",
       "4               untracked     -unknown-            iPhone  -unknown-   \n",
       "\n",
       "           id language  max_duration  min_duration  mobile_device signup_app  \\\n",
       "0  d1mm9tcy42       en      606881.0           2.0            0.0        Web   \n",
       "1  yo8nz8bqcq       en      115983.0          36.0            0.0        Web   \n",
       "2  4grx6yxeby       en      336801.0          53.0            0.0        Web   \n",
       "3  ncf87guaf0       en      732296.0           0.0            0.0        Web   \n",
       "4  4rvqpxoh3h       en       14750.5          21.0            1.0        iOS   \n",
       "\n",
       "   signup_flow signup_method  tablet_device  timestamp_first_active  \\\n",
       "0            0         basic            0.0          20140101000936   \n",
       "1            0         basic            0.0          20140101001558   \n",
       "2            0         basic            0.0          20140101001639   \n",
       "3            0         basic            0.0          20140101002146   \n",
       "4           25         basic            0.0          20140101002619   \n",
       "\n",
       "   unique_action_details  unique_action_types  unique_actions  \\\n",
       "0                   10.0                  7.0            17.0   \n",
       "1                    8.0                  4.0             7.0   \n",
       "2                    8.0                  6.0            13.0   \n",
       "3                   13.0                  7.0            19.0   \n",
       "4                    1.0                  1.0             7.0   \n",
       "\n",
       "   unique_device_types  action_count_quartile  age_group  duration_group  \\\n",
       "0                  2.0                      4          4               2   \n",
       "1                  1.0                      1          0               1   \n",
       "2                  2.0                      1          0               2   \n",
       "3                  3.0                      4          0               2   \n",
       "4                  1.0                      1          0               1   \n",
       "\n",
       "   avg_duration_group  signup_flow_simple  year_account_created  \\\n",
       "0                   2                   0                  2014   \n",
       "1                   2                   0                  2014   \n",
       "2                   2                   0                  2014   \n",
       "3                   2                   0                  2014   \n",
       "4                   1                   1                  2014   \n",
       "\n",
       "   month_account_created  weekday_account_created  \\\n",
       "0                      1                        2   \n",
       "1                      1                        2   \n",
       "2                      1                        2   \n",
       "3                      1                        2   \n",
       "4                      1                        2   \n",
       "\n",
       "   business_day_account_created  holiday_account_created  year_first_booking  \\\n",
       "0                             0                        1              2014.0   \n",
       "1                             0                        1              2009.0   \n",
       "2                             0                        1              2009.0   \n",
       "3                             0                        1              2009.0   \n",
       "4                             0                        1              2014.0   \n",
       "\n",
       "   month_first_booking  weekday_first_booking  business_day_first_booking  \\\n",
       "0                  1.0                    6.0                           0   \n",
       "1                  0.0                    0.0                           0   \n",
       "2                  0.0                    0.0                           0   \n",
       "3                  0.0                    0.0                           0   \n",
       "4                  1.0                    4.0                           1   \n",
       "\n",
       "   holiday_first_booking  \n",
       "0                      0  \n",
       "1                      0  \n",
       "2                      0  \n",
       "3                      0  \n",
       "4                      0  "
      ]
     },
     "execution_count": 91,
     "metadata": {},
     "output_type": "execute_result"
    }
   ],
   "source": [
    "df.head()"
   ]
  },
  {
   "cell_type": "code",
   "execution_count": null,
   "metadata": {
    "collapsed": false,
    "scrolled": true
   },
   "outputs": [
    {
     "data": {
      "text/plain": [
       "Chrome                  78671\n",
       "Safari                  53302\n",
       "-unknown-               44394\n",
       "Firefox                 38665\n",
       "Mobile Safari           29636\n",
       "IE                      24744\n",
       "Chrome Mobile            3186\n",
       "Android Browser          1577\n",
       "AOL Explorer              254\n",
       "Opera                     228\n",
       "Silk                      172\n",
       "IE Mobile                 118\n",
       "BlackBerry Browser         89\n",
       "Chromium                   83\n",
       "Mobile Firefox             64\n",
       "Maxthon                    60\n",
       "Apple Mail                 45\n",
       "Sogou Explorer             43\n",
       "SiteKiosk                  27\n",
       "RockMelt                   24\n",
       "Iron                       24\n",
       "Yandex.Browser             14\n",
       "IceWeasel                  14\n",
       "Pale Moon                  13\n",
       "CometBird                  12\n",
       "SeaMonkey                  12\n",
       "Camino                      9\n",
       "TenFourFox                  8\n",
       "Opera Mini                  8\n",
       "wOSBrowser                  7\n",
       "CoolNovo                    6\n",
       "Avant Browser               4\n",
       "Opera Mobile                4\n",
       "Mozilla                     3\n",
       "Flock                       2\n",
       "Comodo Dragon               2\n",
       "SlimBrowser                 2\n",
       "OmniWeb                     2\n",
       "Crazy Browser               2\n",
       "TheWorld Browser            2\n",
       "IceDragon                   1\n",
       "Conkeror                    1\n",
       "Googlebot                   1\n",
       "Kindle Browser              1\n",
       "IBrowse                     1\n",
       "Nintendo Browser            1\n",
       "Outlook 2007                1\n",
       "NetNewsWire                 1\n",
       "Epic                        1\n",
       "PS Vita browser             1\n",
       "Google Earth                1\n",
       "Palm Pre web browser        1\n",
       "UC Browser                  1\n",
       "Arora                       1\n",
       "Stainless                   1\n",
       "Name: first_browser, dtype: int64"
      ]
     },
     "execution_count": 92,
     "metadata": {},
     "output_type": "execute_result"
    }
   ],
   "source": [
    "df.first_browser.value_counts()"
   ]
  },
  {
   "cell_type": "code",
   "execution_count": null,
   "metadata": {
    "collapsed": true
   },
   "outputs": [],
   "source": [
    "# Create a new feature for those using mobile browsers\n",
    "mobile_browsers = ['Mobile Safari','Chrome Mobile','IE Mobile','Mobile Firefox','Android Browser']\n",
    "df.loc[df.first_browser.isin(mobile_browsers), \"first_browser\"] = \"Mobile\""
   ]
  },
  {
   "cell_type": "code",
   "execution_count": null,
   "metadata": {
    "collapsed": false
   },
   "outputs": [
    {
     "name": "stdout",
     "output_type": "stream",
     "text": [
      "['AOL Explorer', 'Opera', 'Silk', 'BlackBerry Browser', 'Chromium', 'Maxthon', 'Apple Mail', 'Sogou Explorer', 'SiteKiosk', 'RockMelt', 'Iron', 'Yandex.Browser', 'IceWeasel', 'Pale Moon', 'CometBird', 'SeaMonkey', 'Camino', 'TenFourFox', 'Opera Mini', 'wOSBrowser', 'CoolNovo', 'Opera Mobile', 'Avant Browser', 'Mozilla', 'Crazy Browser', 'SlimBrowser', 'TheWorld Browser', 'Flock', 'Comodo Dragon', 'OmniWeb', 'Conkeror', 'IBrowse', 'Nintendo Browser', 'Arora', 'Stainless', 'IceDragon', 'Epic', 'Googlebot', 'Outlook 2007', 'NetNewsWire', 'Google Earth', 'Palm Pre web browser', 'PS Vita browser', 'Kindle Browser', 'UC Browser']\n"
     ]
    }
   ],
   "source": [
    "# The cut_off is set at 0.5% of the data. If a value is not common enough, it will be grouped into something generic.\n",
    "cut_off = 1378\n",
    "\n",
    "other_browsers = []\n",
    "for browser, count in df.first_browser.value_counts().iteritems():\n",
    "    if count < cut_off:\n",
    "        other_browsers.append(browser)\n",
    "   \n",
    "df.loc[df.first_browser.isin(other_browsers), \"first_browser\"] = \"Other\"\n",
    "\n",
    "print(other_browsers)"
   ]
  },
  {
   "cell_type": "code",
   "execution_count": null,
   "metadata": {
    "collapsed": false
   },
   "outputs": [
    {
     "data": {
      "text/plain": [
       "Chrome       78671\n",
       "Safari       53302\n",
       "-unknown-    44394\n",
       "Firefox      38665\n",
       "Mobile       34581\n",
       "IE           24744\n",
       "Other         1190\n",
       "Name: first_browser, dtype: int64"
      ]
     },
     "execution_count": 95,
     "metadata": {},
     "output_type": "execute_result"
    }
   ],
   "source": [
    "df.first_browser.value_counts()"
   ]
  },
  {
   "cell_type": "code",
   "execution_count": null,
   "metadata": {
    "collapsed": false,
    "scrolled": true
   },
   "outputs": [
    {
     "data": {
      "text/plain": [
       "en           265538\n",
       "zh             2634\n",
       "fr             1508\n",
       "es             1174\n",
       "ko             1116\n",
       "de              977\n",
       "it              633\n",
       "ru              508\n",
       "ja              345\n",
       "pt              322\n",
       "sv              176\n",
       "nl              134\n",
       "tr               92\n",
       "da               75\n",
       "pl               75\n",
       "no               51\n",
       "cs               49\n",
       "el               30\n",
       "th               28\n",
       "hu               25\n",
       "id               23\n",
       "fi               20\n",
       "ca                6\n",
       "is                5\n",
       "hr                2\n",
       "-unknown-         1\n",
       "Name: language, dtype: int64"
      ]
     },
     "execution_count": 96,
     "metadata": {},
     "output_type": "execute_result"
    }
   ],
   "source": [
    "df.language.value_counts()"
   ]
  },
  {
   "cell_type": "markdown",
   "metadata": {},
   "source": [
    "I think that language might be a more important feature than some others, so I will decrease the cut off to 275, or 0.1% of the data."
   ]
  },
  {
   "cell_type": "code",
   "execution_count": null,
   "metadata": {
    "collapsed": false
   },
   "outputs": [
    {
     "name": "stdout",
     "output_type": "stream",
     "text": [
      "['sv', 'nl', 'tr', 'da', 'pl', 'no', 'cs', 'el', 'th', 'hu', 'id', 'fi', 'ca', 'is', 'hr', '-unknown-']\n"
     ]
    }
   ],
   "source": [
    "other_languages = []\n",
    "for language, count in df.language.value_counts().iteritems():\n",
    "    if count < 275:\n",
    "        other_languages.append(language)\n",
    "    \n",
    "print(other_languages)\n",
    "\n",
    "df.loc[df.language.isin(other_languages), \"language\"] = \"Other\""
   ]
  },
  {
   "cell_type": "code",
   "execution_count": null,
   "metadata": {
    "collapsed": false
   },
   "outputs": [
    {
     "data": {
      "text/plain": [
       "en       265538\n",
       "zh         2634\n",
       "fr         1508\n",
       "es         1174\n",
       "ko         1116\n",
       "de          977\n",
       "Other       792\n",
       "it          633\n",
       "ru          508\n",
       "ja          345\n",
       "pt          322\n",
       "Name: language, dtype: int64"
      ]
     },
     "execution_count": 98,
     "metadata": {},
     "output_type": "execute_result"
    }
   ],
   "source": [
    "df.language.value_counts()"
   ]
  },
  {
   "cell_type": "code",
   "execution_count": null,
   "metadata": {
    "collapsed": true
   },
   "outputs": [],
   "source": [
    "# New feature for languages that are not English.\n",
    "df['not_English'] = df.language.map(lambda x: 0 if x == 'en' else 1)"
   ]
  },
  {
   "cell_type": "code",
   "execution_count": null,
   "metadata": {
    "collapsed": false,
    "scrolled": true
   },
   "outputs": [
    {
     "data": {
      "text/plain": [
       "missing                                         140064\n",
       "show                                             62664\n",
       "search_results                                    9979\n",
       "index                                             8054\n",
       "create                                            6464\n",
       "dashboard                                         5549\n",
       "active                                            5198\n",
       "update                                            5087\n",
       "search                                            4962\n",
       "requested                                         3156\n",
       "authenticate                                      2294\n",
       "edit                                              2284\n",
       "personalize                                       2119\n",
       "header_userpic                                    1861\n",
       "ask_question                                      1753\n",
       "ajax_refresh_subtotal                             1704\n",
       "lookup                                            1158\n",
       "identity                                          1012\n",
       "message                                            709\n",
       "cancellation_policies                              704\n",
       "click                                              605\n",
       "track_page_view                                    561\n",
       "confirm_email                                      538\n",
       "qt2                                                469\n",
       "ajax_photo_widget_form_iframe                      445\n",
       "reviews                                            425\n",
       "ajax_check_dates                                   374\n",
       "notifications                                      342\n",
       "calendar_tab_inner2                                286\n",
       "callback                                           283\n",
       "                                                 ...  \n",
       "recent_reservations                                  2\n",
       "airbnb_picks                                         2\n",
       "11                                                   2\n",
       "apply                                                2\n",
       "phone_verification_number_submitted_for_sms          2\n",
       "my                                                   1\n",
       "phone_verification_number_submitted_for_call         1\n",
       "confirmation                                         1\n",
       "book                                                 1\n",
       "travel_plans_previous                                1\n",
       "rate                                                 1\n",
       "badge                                                1\n",
       "top_destinations                                     1\n",
       "show_personalize                                     1\n",
       "spoken_languages                                     1\n",
       "concierge                                            1\n",
       "new_session                                          1\n",
       "place_worth                                          1\n",
       "other_hosting_reviews_first                          1\n",
       "acculynk_pin_pad_inactive                            1\n",
       "view                                                 1\n",
       "ajax_price_and_availability                          1\n",
       "clickthrough                                         1\n",
       "google_importer                                      1\n",
       "ajax_referral_banner_type                            1\n",
       "photography                                          1\n",
       "review_page                                          1\n",
       "salute                                               1\n",
       "home_safety_landing                                  1\n",
       "requirements                                         1\n",
       "Name: action, dtype: int64"
      ]
     },
     "execution_count": 100,
     "metadata": {},
     "output_type": "execute_result"
    }
   ],
   "source": [
    "df.action.value_counts()"
   ]
  },
  {
   "cell_type": "code",
   "execution_count": null,
   "metadata": {
    "collapsed": false
   },
   "outputs": [
    {
     "name": "stdout",
     "output_type": "stream",
     "text": [
      "['lookup', 'identity', 'message', 'cancellation_policies', 'click', 'track_page_view', 'confirm_email', 'qt2', 'ajax_photo_widget_form_iframe', 'reviews', 'ajax_check_dates', 'notifications', 'calendar_tab_inner2', 'callback', 'message_to_host_focus', 'similar_listings', 'edit_verification', 'apply_reservation', 'ajax_get_referrals_amt', 'manage_listing', 'unavailabilities', 'payment_methods', 'impressions', 'collections', 'campaigns', 'tos_confirm', 'coupon_field_focus', 'faq_category', 'travel_plans_current', 'faq', 'similar_listings_v2', 'pending', 'complete_status', 'new', 'references', 'populate_help_dropdown', 'endpoint_error', 'available', 'set_password', 'agree_terms_check', 'apply_coupon_click', 'account', 'custom_recommended_destinations', 'status', 'kba_update', 'message_to_host_change', '10', 'reviews_new', 'login', 'referrer_status', 'at_checkpoint', 'populate_from_facebook', 'signup_login', 'decision_tree', 'tell_a_friend', 'hosting_social_proof', 'position', 'create_multiple', 'listings', 'settings', 'contact_new', 'this_hosting_reviews', 'jumio_token', 'ajax_image_upload', 'terms', 'kba', 'profile_pic', 'delete', 'ajax_lwlb_contact', 'coupon_code_click', 'facebook_auto_login', 'phone_verification_error', '12', 'department', 'issue', 'itinerary', 'ajax_statsd', 'glob', 'open_graph_setting', 'forgot_password', 'authorize', 'about_us', 'connect', 'privacy', 'payout_preferences', 'social_connections', 'patch', 'signup_modal', 'localization_settings', 'read_policy_click', 'apply_code', 'this_hosting_reviews_3000', 'request_new_confirm_email', 'signed_out_modal', 'payment_instruments', 'pending_tickets', 'update_cached', 'host_summary', 'reputation', 'login_modal', 'ajax_google_translate_description', 'verify', 'other_hosting_reviews', 'office_location', 'departments', 'set_user', '15', 'recommend', 'invalid_action', 'hospitality', 'remove_dashboard_alert', 'change_currency', 'cancellation_policy_click', 'signature', 'pay', 'my_reservations', 'recommendations', 'mobile_landing_page', 'ajax_referral_banner_experiment_type', 'handle_vanity_url', 'ajax_google_translate', 'change', 'recent_reservations', 'airbnb_picks', '11', 'apply', 'phone_verification_number_submitted_for_sms', 'my', 'phone_verification_number_submitted_for_call', 'confirmation', 'book', 'travel_plans_previous', 'rate', 'badge', 'top_destinations', 'show_personalize', 'spoken_languages', 'concierge', 'new_session', 'place_worth', 'other_hosting_reviews_first', 'acculynk_pin_pad_inactive', 'view', 'ajax_price_and_availability', 'clickthrough', 'google_importer', 'ajax_referral_banner_type', 'photography', 'review_page', 'salute', 'home_safety_landing', 'requirements']\n"
     ]
    }
   ],
   "source": [
    "other_actions = []\n",
    "for action, count in df.action.value_counts().iteritems():\n",
    "    if count < cut_off:\n",
    "        other_actions.append(action)\n",
    "    \n",
    "print(other_actions)\n",
    "\n",
    "df.loc[df.action.isin(other_actions), \"action\"] = \"Other\""
   ]
  },
  {
   "cell_type": "code",
   "execution_count": null,
   "metadata": {
    "collapsed": false
   },
   "outputs": [
    {
     "data": {
      "text/plain": [
       "missing                  140064\n",
       "show                      62664\n",
       "Other                     12355\n",
       "search_results             9979\n",
       "index                      8054\n",
       "create                     6464\n",
       "dashboard                  5549\n",
       "active                     5198\n",
       "update                     5087\n",
       "search                     4962\n",
       "requested                  3156\n",
       "authenticate               2294\n",
       "edit                       2284\n",
       "personalize                2119\n",
       "header_userpic             1861\n",
       "ask_question               1753\n",
       "ajax_refresh_subtotal      1704\n",
       "Name: action, dtype: int64"
      ]
     },
     "execution_count": 102,
     "metadata": {},
     "output_type": "execute_result"
    }
   ],
   "source": [
    "df.action.value_counts()"
   ]
  },
  {
   "cell_type": "code",
   "execution_count": null,
   "metadata": {
    "collapsed": false,
    "scrolled": true
   },
   "outputs": [
    {
     "data": {
      "text/plain": [
       "missing                        140069\n",
       "-unknown-                       34464\n",
       "p3                              29932\n",
       "view_search_results             27361\n",
       "user_profile                    11608\n",
       "dashboard                        4652\n",
       "update_listing                   4343\n",
       "header_userpic                   2460\n",
       "p5                               2392\n",
       "create_user                      2008\n",
       "message_thread                   1777\n",
       "change_trip_characteristics      1514\n",
       "contact_host                     1391\n",
       "edit_profile                     1135\n",
       "confirm_email_link                963\n",
       "wishlist_content_update           952\n",
       "message_post                      756\n",
       "cancellation_policies             731\n",
       "track_page_view                   588\n",
       "login                             560\n",
       "signup                            495\n",
       "create_phone_numbers              459\n",
       "lookup                            405\n",
       "similar_listings                  372\n",
       "list_your_space                   359\n",
       "p1                                307\n",
       "change_contact_host_dates         255\n",
       "book_it                           253\n",
       "unavailable_dates                 220\n",
       "listing_reviews                   213\n",
       "                                ...  \n",
       "view_reservations                   7\n",
       "view_listing                        7\n",
       "set_password_page                   7\n",
       "forgot_password                     7\n",
       "read_policy_click                   6\n",
       "signup_modal                        5\n",
       "listing_recommendations             5\n",
       "listing_descriptions                5\n",
       "apply_coupon_click                  4\n",
       "account_privacy_settings            4\n",
       "previous_trips                      4\n",
       "user_tax_forms                      3\n",
       "your_reservations                   3\n",
       "login_modal                         3\n",
       "user_listings                       3\n",
       "modify_reservations                 3\n",
       "cancellation_policy_click           3\n",
       "admin_templates                     2\n",
       "profile_reviews                     2\n",
       "translations                        2\n",
       "change_or_alter                     2\n",
       "oauth_login                         1\n",
       "user_profile_content_update         1\n",
       "complete_booking                    1\n",
       "modify_users                        1\n",
       "friends_wishlists                   1\n",
       "airbnb_picks_wishlists              1\n",
       "alteration_field                    1\n",
       "host_home                           1\n",
       "guest_receipt                       1\n",
       "Name: action_detail, dtype: int64"
      ]
     },
     "execution_count": 103,
     "metadata": {},
     "output_type": "execute_result"
    }
   ],
   "source": [
    "df.action_detail.value_counts()"
   ]
  },
  {
   "cell_type": "code",
   "execution_count": null,
   "metadata": {
    "collapsed": false
   },
   "outputs": [
    {
     "name": "stdout",
     "output_type": "stream",
     "text": [
      "['edit_profile', 'confirm_email_link', 'wishlist_content_update', 'message_post', 'cancellation_policies', 'track_page_view', 'login', 'signup', 'create_phone_numbers', 'lookup', 'similar_listings', 'list_your_space', 'p1', 'change_contact_host_dates', 'book_it', 'unavailable_dates', 'listing_reviews', 'message_to_host_focus', 'manage_listing', 'user_wishlists', 'oauth_response', 'account_notification_settings', 'apply_coupon', 'login_page', 'p4', 'update_listing_description', 'message_inbox', 'profile_verifications', 'your_trips', 'your_listings', 'trip_availability', 'update_user_profile', 'notifications', 'profile_references', 'create_listing', 'signup_login_page', 'wishlist', 'user_reviews', 'pending', 'message_to_host_change', 'reservations', 'instant_book', 'request_to_book', 'set_password', 'at_checkpoint', 'listing_reviews_page', 'coupon_field_focus', 'user_social_connections', 'update_user', 'terms_and_privacy', 'account_payment_methods', 'coupon_code_click', 'account_payout_preferences', 'guest_itinerary', 'view_reservations', 'view_listing', 'set_password_page', 'forgot_password', 'read_policy_click', 'signup_modal', 'listing_recommendations', 'listing_descriptions', 'apply_coupon_click', 'account_privacy_settings', 'previous_trips', 'user_tax_forms', 'your_reservations', 'login_modal', 'user_listings', 'modify_reservations', 'cancellation_policy_click', 'admin_templates', 'profile_reviews', 'translations', 'change_or_alter', 'oauth_login', 'user_profile_content_update', 'complete_booking', 'modify_users', 'friends_wishlists', 'airbnb_picks_wishlists', 'alteration_field', 'host_home', 'guest_receipt']\n"
     ]
    }
   ],
   "source": [
    "other_action_details = []\n",
    "for action_detail, count in df.action_detail.value_counts().iteritems():\n",
    "    if count < cut_off:\n",
    "        other_action_details.append(action_detail)\n",
    "    \n",
    "print(other_action_details)\n",
    "\n",
    "df.loc[df.action_detail.isin(other_action_details), \"action_detail\"] = \"Other\""
   ]
  },
  {
   "cell_type": "code",
   "execution_count": null,
   "metadata": {
    "collapsed": false
   },
   "outputs": [
    {
     "data": {
      "text/plain": [
       "missing                        140069\n",
       "-unknown-                       34464\n",
       "p3                              29932\n",
       "view_search_results             27361\n",
       "user_profile                    11608\n",
       "Other                           11576\n",
       "dashboard                        4652\n",
       "update_listing                   4343\n",
       "header_userpic                   2460\n",
       "p5                               2392\n",
       "create_user                      2008\n",
       "message_thread                   1777\n",
       "change_trip_characteristics      1514\n",
       "contact_host                     1391\n",
       "Name: action_detail, dtype: int64"
      ]
     },
     "execution_count": 105,
     "metadata": {},
     "output_type": "execute_result"
    }
   ],
   "source": [
    "df.action_detail.value_counts()"
   ]
  },
  {
   "cell_type": "code",
   "execution_count": null,
   "metadata": {
    "collapsed": false
   },
   "outputs": [
    {
     "data": {
      "text/plain": [
       "missing             140070\n",
       "view                 77695\n",
       "-unknown-            17573\n",
       "click                17307\n",
       "data                 14198\n",
       "submit                7056\n",
       "message_post           990\n",
       "track_page_view        293\n",
       "partner_callback       132\n",
       "booking_request        122\n",
       "lookup                 109\n",
       "modify                   2\n",
       "Name: action_type, dtype: int64"
      ]
     },
     "execution_count": 106,
     "metadata": {},
     "output_type": "execute_result"
    }
   ],
   "source": [
    "df.action_type.value_counts()"
   ]
  },
  {
   "cell_type": "code",
   "execution_count": null,
   "metadata": {
    "collapsed": false
   },
   "outputs": [
    {
     "name": "stdout",
     "output_type": "stream",
     "text": [
      "['message_post', 'track_page_view', 'partner_callback', 'booking_request', 'lookup', 'modify']\n"
     ]
    }
   ],
   "source": [
    "other_action_types = []\n",
    "for action_type, count in df.action_type.value_counts().iteritems():\n",
    "    if count < 1378:\n",
    "        other_action_types.append(action_type)\n",
    "    \n",
    "print(other_action_types)\n",
    "\n",
    "df.loc[df.action_type.isin(other_action_types), \"action_type\"] = \"Other\""
   ]
  },
  {
   "cell_type": "code",
   "execution_count": null,
   "metadata": {
    "collapsed": false
   },
   "outputs": [
    {
     "data": {
      "text/plain": [
       "missing      140070\n",
       "view          77695\n",
       "-unknown-     17573\n",
       "click         17307\n",
       "data          14198\n",
       "submit         7056\n",
       "Other          1648\n",
       "Name: action_type, dtype: int64"
      ]
     },
     "execution_count": 108,
     "metadata": {},
     "output_type": "execute_result"
    }
   ],
   "source": [
    "df.action_type.value_counts()"
   ]
  },
  {
   "cell_type": "code",
   "execution_count": null,
   "metadata": {
    "collapsed": false
   },
   "outputs": [
    {
     "data": {
      "text/plain": [
       "direct                 181270\n",
       "google                  65956\n",
       "other                   13036\n",
       "facebook                 3996\n",
       "bing                     3719\n",
       "craigslist               3475\n",
       "padmapper                 836\n",
       "vast                      830\n",
       "yahoo                     653\n",
       "facebook-open-graph       566\n",
       "gsp                       455\n",
       "meetup                    358\n",
       "email-marketing           270\n",
       "naver                      66\n",
       "baidu                      32\n",
       "yandex                     18\n",
       "wayn                        8\n",
       "daum                        3\n",
       "Name: affiliate_provider, dtype: int64"
      ]
     },
     "execution_count": 109,
     "metadata": {},
     "output_type": "execute_result"
    }
   ],
   "source": [
    "df.affiliate_provider.value_counts()"
   ]
  },
  {
   "cell_type": "code",
   "execution_count": null,
   "metadata": {
    "collapsed": false
   },
   "outputs": [
    {
     "name": "stdout",
     "output_type": "stream",
     "text": [
      "['padmapper', 'vast', 'yahoo', 'facebook-open-graph', 'gsp', 'meetup', 'email-marketing', 'naver', 'baidu', 'yandex', 'wayn', 'daum']\n"
     ]
    }
   ],
   "source": [
    "other_affiliate_providers = []\n",
    "for affiliate_provider, count in df.affiliate_provider.value_counts().iteritems():\n",
    "    if count < cut_off:\n",
    "        other_affiliate_providers.append(affiliate_provider)\n",
    "    \n",
    "print(other_affiliate_providers)\n",
    "\n",
    "df.loc[df.affiliate_provider.isin(other_affiliate_providers), \"affiliate_provider\"] = \"other\""
   ]
  },
  {
   "cell_type": "code",
   "execution_count": null,
   "metadata": {
    "collapsed": false
   },
   "outputs": [
    {
     "data": {
      "text/plain": [
       "direct        181270\n",
       "google         65956\n",
       "other          17131\n",
       "facebook        3996\n",
       "bing            3719\n",
       "craigslist      3475\n",
       "Name: affiliate_provider, dtype: int64"
      ]
     },
     "execution_count": 111,
     "metadata": {},
     "output_type": "execute_result"
    }
   ],
   "source": [
    "df.affiliate_provider.value_counts()"
   ]
  },
  {
   "cell_type": "code",
   "execution_count": null,
   "metadata": {
    "collapsed": false
   },
   "outputs": [
    {
     "data": {
      "text/plain": [
       "missing                             140064\n",
       "Mac Desktop                          44271\n",
       "Windows Desktop                      37221\n",
       "iPhone                               26571\n",
       "iPad Tablet                           8879\n",
       "Android Phone                         7666\n",
       "-unknown-                             5801\n",
       "Android App Unknown Phone/Tablet      2634\n",
       "Tablet                                1468\n",
       "Linux Desktop                          428\n",
       "Chromebook                             374\n",
       "iPodtouch                               85\n",
       "Windows Phone                           56\n",
       "Blackberry                              27\n",
       "Opera Phone                              2\n",
       "Name: device_type, dtype: int64"
      ]
     },
     "execution_count": 112,
     "metadata": {},
     "output_type": "execute_result"
    }
   ],
   "source": [
    "df.device_type.value_counts()"
   ]
  },
  {
   "cell_type": "code",
   "execution_count": null,
   "metadata": {
    "collapsed": false
   },
   "outputs": [
    {
     "name": "stdout",
     "output_type": "stream",
     "text": [
      "['Linux Desktop', 'Chromebook', 'iPodtouch', 'Windows Phone', 'Blackberry', 'Opera Phone']\n"
     ]
    }
   ],
   "source": [
    "other_device_types = []\n",
    "for device_type, count in df.device_type.value_counts().iteritems():\n",
    "    if count < 1378:\n",
    "        other_device_types.append(device_type)\n",
    "    \n",
    "print(other_device_types)\n",
    "\n",
    "df.loc[df.device_type.isin(other_device_types), \"device_type\"] = \"Other\""
   ]
  },
  {
   "cell_type": "code",
   "execution_count": null,
   "metadata": {
    "collapsed": false
   },
   "outputs": [
    {
     "data": {
      "text/plain": [
       "missing                             140064\n",
       "Mac Desktop                          44271\n",
       "Windows Desktop                      37221\n",
       "iPhone                               26571\n",
       "iPad Tablet                           8879\n",
       "Android Phone                         7666\n",
       "-unknown-                             5801\n",
       "Android App Unknown Phone/Tablet      2634\n",
       "Tablet                                1468\n",
       "Other                                  972\n",
       "Name: device_type, dtype: int64"
      ]
     },
     "execution_count": 114,
     "metadata": {},
     "output_type": "execute_result"
    }
   ],
   "source": [
    "df.device_type.value_counts()"
   ]
  },
  {
   "cell_type": "code",
   "execution_count": null,
   "metadata": {
    "collapsed": false
   },
   "outputs": [
    {
     "data": {
      "text/plain": [
       "basic       198222\n",
       "facebook     74864\n",
       "google        2438\n",
       "weibo           23\n",
       "Name: signup_method, dtype: int64"
      ]
     },
     "execution_count": 115,
     "metadata": {},
     "output_type": "execute_result"
    }
   ],
   "source": [
    "df.signup_method.value_counts()"
   ]
  },
  {
   "cell_type": "code",
   "execution_count": null,
   "metadata": {
    "collapsed": true
   },
   "outputs": [],
   "source": [
    "# Create a new dataframe for the labels\n",
    "labels = pd.DataFrame(df.country_destination)\n",
    "df = df.drop(\"country_destination\", axis = 1)"
   ]
  },
  {
   "cell_type": "code",
   "execution_count": null,
   "metadata": {
    "collapsed": false
   },
   "outputs": [
    {
     "data": {
      "text/html": [
       "<div>\n",
       "<table border=\"1\" class=\"dataframe\">\n",
       "  <thead>\n",
       "    <tr style=\"text-align: right;\">\n",
       "      <th></th>\n",
       "      <th>country_destination</th>\n",
       "    </tr>\n",
       "  </thead>\n",
       "  <tbody>\n",
       "    <tr>\n",
       "      <th>0</th>\n",
       "      <td>other</td>\n",
       "    </tr>\n",
       "    <tr>\n",
       "      <th>1</th>\n",
       "      <td>NDF</td>\n",
       "    </tr>\n",
       "    <tr>\n",
       "      <th>2</th>\n",
       "      <td>NDF</td>\n",
       "    </tr>\n",
       "    <tr>\n",
       "      <th>3</th>\n",
       "      <td>NDF</td>\n",
       "    </tr>\n",
       "    <tr>\n",
       "      <th>4</th>\n",
       "      <td>GB</td>\n",
       "    </tr>\n",
       "  </tbody>\n",
       "</table>\n",
       "</div>"
      ],
      "text/plain": [
       "  country_destination\n",
       "0               other\n",
       "1                 NDF\n",
       "2                 NDF\n",
       "3                 NDF\n",
       "4                  GB"
      ]
     },
     "execution_count": 117,
     "metadata": {},
     "output_type": "execute_result"
    }
   ],
   "source": [
    "labels.head()"
   ]
  },
  {
   "cell_type": "code",
   "execution_count": null,
   "metadata": {
    "collapsed": true
   },
   "outputs": [],
   "source": [
    "# Drop id since it is no longer needed.\n",
    "df = df.drop('id', axis = 1)"
   ]
  },
  {
   "cell_type": "code",
   "execution_count": null,
   "metadata": {
    "collapsed": true
   },
   "outputs": [],
   "source": [
    "# Group all features as either continuous (cont) or categorical (cat)\n",
    "cont_features = []\n",
    "cat_features = []\n",
    "\n",
    "for feature in df.columns:\n",
    "    if df[feature].dtype == float or df[feature].dtype == int:\n",
    "        cont_features.append(feature)\n",
    "    elif df[feature].dtype == object:\n",
    "        cat_features.append(feature)"
   ]
  },
  {
   "cell_type": "code",
   "execution_count": null,
   "metadata": {
    "collapsed": false
   },
   "outputs": [
    {
     "name": "stdout",
     "output_type": "stream",
     "text": [
      "['action', 'action_detail', 'action_type', 'affiliate_channel', 'affiliate_provider', 'device_type', 'first_affiliate_tracked', 'first_browser', 'first_device_type', 'gender', 'language', 'signup_app', 'signup_method']\n",
      "\n",
      "['action_count', 'age', 'apple_device', 'avg_duration', 'desktop_device', 'duration', 'max_duration', 'min_duration', 'mobile_device', 'signup_flow', 'tablet_device', 'timestamp_first_active', 'unique_action_details', 'unique_action_types', 'unique_actions', 'unique_device_types', 'action_count_quartile', 'age_group', 'duration_group', 'avg_duration_group', 'signup_flow_simple', 'year_account_created', 'month_account_created', 'weekday_account_created', 'business_day_account_created', 'holiday_account_created', 'year_first_booking', 'month_first_booking', 'weekday_first_booking', 'business_day_first_booking', 'holiday_first_booking', 'not_English']\n",
      "\n",
      "45\n",
      "45\n"
     ]
    }
   ],
   "source": [
    "# Check to ensure that we have all of the features\n",
    "print(cat_features)\n",
    "print()\n",
    "print(cont_features)\n",
    "print()\n",
    "print(len(cat_features) + len(cont_features))\n",
    "print(df.shape[1])"
   ]
  },
  {
   "cell_type": "code",
   "execution_count": null,
   "metadata": {
    "collapsed": false
   },
   "outputs": [],
   "source": [
    "# Although dates have continuous values, they should be treated as categorical features.\n",
    "date_features = ['year_account_created','month_account_created','weekday_account_created',\n",
    "                      'year_first_booking','month_first_booking','weekday_first_booking']\n",
    "for feature in date_features:\n",
    "    cont_features.remove(feature)\n",
    "    cat_features.append(feature)"
   ]
  },
  {
   "cell_type": "code",
   "execution_count": null,
   "metadata": {
    "collapsed": false,
    "scrolled": true
   },
   "outputs": [
    {
     "name": "stdout",
     "output_type": "stream",
     "text": [
      "action is complete\n",
      "action_detail is complete\n",
      "action_type is complete\n",
      "affiliate_channel is complete\n",
      "affiliate_provider is complete\n",
      "device_type is complete\n",
      "first_affiliate_tracked is complete\n",
      "first_browser is complete\n",
      "first_device_type is complete\n",
      "gender is complete\n",
      "language is complete\n",
      "signup_app is complete\n",
      "signup_method is complete\n",
      "year_account_created is complete\n",
      "month_account_created is complete\n",
      "weekday_account_created is complete\n",
      "year_first_booking is complete\n",
      "month_first_booking is complete\n",
      "weekday_first_booking is complete\n"
     ]
    }
   ],
   "source": [
    "for feature in cat_features:\n",
    "    # Create dummies of each value of a categorical feature\n",
    "    dummies = pd.get_dummies(df[feature], prefix = feature, drop_first = False)\n",
    "    # Drop the unneeded feature\n",
    "    df = df.drop(feature, axis = 1)\n",
    "    df = pd.concat([df, dummies], axis=1)\n",
    "    print(\"{} is complete\".format(feature))"
   ]
  },
  {
   "cell_type": "code",
   "execution_count": null,
   "metadata": {
    "collapsed": false,
    "scrolled": true
   },
   "outputs": [
    {
     "name": "stderr",
     "output_type": "stream",
     "text": [
      "//anaconda/lib/python3.5/site-packages/sklearn/preprocessing/data.py:321: DeprecationWarning: Passing 1d arrays as data is deprecated in 0.17 and will raise ValueError in 0.19. Reshape your data either using X.reshape(-1, 1) if your data has a single feature or X.reshape(1, -1) if it contains a single sample.\n",
      "  warnings.warn(DEPRECATION_MSG_1D, DeprecationWarning)\n",
      "//anaconda/lib/python3.5/site-packages/sklearn/preprocessing/data.py:356: DeprecationWarning: Passing 1d arrays as data is deprecated in 0.17 and will raise ValueError in 0.19. Reshape your data either using X.reshape(-1, 1) if your data has a single feature or X.reshape(1, -1) if it contains a single sample.\n",
      "  warnings.warn(DEPRECATION_MSG_1D, DeprecationWarning)\n",
      "//anaconda/lib/python3.5/site-packages/sklearn/preprocessing/data.py:321: DeprecationWarning: Passing 1d arrays as data is deprecated in 0.17 and will raise ValueError in 0.19. Reshape your data either using X.reshape(-1, 1) if your data has a single feature or X.reshape(1, -1) if it contains a single sample.\n",
      "  warnings.warn(DEPRECATION_MSG_1D, DeprecationWarning)\n",
      "//anaconda/lib/python3.5/site-packages/sklearn/preprocessing/data.py:356: DeprecationWarning: Passing 1d arrays as data is deprecated in 0.17 and will raise ValueError in 0.19. Reshape your data either using X.reshape(-1, 1) if your data has a single feature or X.reshape(1, -1) if it contains a single sample.\n",
      "  warnings.warn(DEPRECATION_MSG_1D, DeprecationWarning)\n",
      "//anaconda/lib/python3.5/site-packages/sklearn/preprocessing/data.py:321: DeprecationWarning: Passing 1d arrays as data is deprecated in 0.17 and will raise ValueError in 0.19. Reshape your data either using X.reshape(-1, 1) if your data has a single feature or X.reshape(1, -1) if it contains a single sample.\n",
      "  warnings.warn(DEPRECATION_MSG_1D, DeprecationWarning)\n",
      "//anaconda/lib/python3.5/site-packages/sklearn/preprocessing/data.py:356: DeprecationWarning: Passing 1d arrays as data is deprecated in 0.17 and will raise ValueError in 0.19. Reshape your data either using X.reshape(-1, 1) if your data has a single feature or X.reshape(1, -1) if it contains a single sample.\n",
      "  warnings.warn(DEPRECATION_MSG_1D, DeprecationWarning)\n",
      "//anaconda/lib/python3.5/site-packages/sklearn/preprocessing/data.py:321: DeprecationWarning: Passing 1d arrays as data is deprecated in 0.17 and will raise ValueError in 0.19. Reshape your data either using X.reshape(-1, 1) if your data has a single feature or X.reshape(1, -1) if it contains a single sample.\n",
      "  warnings.warn(DEPRECATION_MSG_1D, DeprecationWarning)\n",
      "//anaconda/lib/python3.5/site-packages/sklearn/preprocessing/data.py:356: DeprecationWarning: Passing 1d arrays as data is deprecated in 0.17 and will raise ValueError in 0.19. Reshape your data either using X.reshape(-1, 1) if your data has a single feature or X.reshape(1, -1) if it contains a single sample.\n",
      "  warnings.warn(DEPRECATION_MSG_1D, DeprecationWarning)\n",
      "//anaconda/lib/python3.5/site-packages/sklearn/preprocessing/data.py:321: DeprecationWarning: Passing 1d arrays as data is deprecated in 0.17 and will raise ValueError in 0.19. Reshape your data either using X.reshape(-1, 1) if your data has a single feature or X.reshape(1, -1) if it contains a single sample.\n",
      "  warnings.warn(DEPRECATION_MSG_1D, DeprecationWarning)\n",
      "//anaconda/lib/python3.5/site-packages/sklearn/preprocessing/data.py:356: DeprecationWarning: Passing 1d arrays as data is deprecated in 0.17 and will raise ValueError in 0.19. Reshape your data either using X.reshape(-1, 1) if your data has a single feature or X.reshape(1, -1) if it contains a single sample.\n",
      "  warnings.warn(DEPRECATION_MSG_1D, DeprecationWarning)\n",
      "//anaconda/lib/python3.5/site-packages/sklearn/preprocessing/data.py:321: DeprecationWarning: Passing 1d arrays as data is deprecated in 0.17 and will raise ValueError in 0.19. Reshape your data either using X.reshape(-1, 1) if your data has a single feature or X.reshape(1, -1) if it contains a single sample.\n",
      "  warnings.warn(DEPRECATION_MSG_1D, DeprecationWarning)\n",
      "//anaconda/lib/python3.5/site-packages/sklearn/preprocessing/data.py:356: DeprecationWarning: Passing 1d arrays as data is deprecated in 0.17 and will raise ValueError in 0.19. Reshape your data either using X.reshape(-1, 1) if your data has a single feature or X.reshape(1, -1) if it contains a single sample.\n",
      "  warnings.warn(DEPRECATION_MSG_1D, DeprecationWarning)\n",
      "//anaconda/lib/python3.5/site-packages/sklearn/preprocessing/data.py:321: DeprecationWarning: Passing 1d arrays as data is deprecated in 0.17 and will raise ValueError in 0.19. Reshape your data either using X.reshape(-1, 1) if your data has a single feature or X.reshape(1, -1) if it contains a single sample.\n",
      "  warnings.warn(DEPRECATION_MSG_1D, DeprecationWarning)\n",
      "//anaconda/lib/python3.5/site-packages/sklearn/preprocessing/data.py:356: DeprecationWarning: Passing 1d arrays as data is deprecated in 0.17 and will raise ValueError in 0.19. Reshape your data either using X.reshape(-1, 1) if your data has a single feature or X.reshape(1, -1) if it contains a single sample.\n",
      "  warnings.warn(DEPRECATION_MSG_1D, DeprecationWarning)\n",
      "//anaconda/lib/python3.5/site-packages/sklearn/preprocessing/data.py:321: DeprecationWarning: Passing 1d arrays as data is deprecated in 0.17 and will raise ValueError in 0.19. Reshape your data either using X.reshape(-1, 1) if your data has a single feature or X.reshape(1, -1) if it contains a single sample.\n",
      "  warnings.warn(DEPRECATION_MSG_1D, DeprecationWarning)\n",
      "//anaconda/lib/python3.5/site-packages/sklearn/preprocessing/data.py:356: DeprecationWarning: Passing 1d arrays as data is deprecated in 0.17 and will raise ValueError in 0.19. Reshape your data either using X.reshape(-1, 1) if your data has a single feature or X.reshape(1, -1) if it contains a single sample.\n",
      "  warnings.warn(DEPRECATION_MSG_1D, DeprecationWarning)\n",
      "//anaconda/lib/python3.5/site-packages/sklearn/preprocessing/data.py:321: DeprecationWarning: Passing 1d arrays as data is deprecated in 0.17 and will raise ValueError in 0.19. Reshape your data either using X.reshape(-1, 1) if your data has a single feature or X.reshape(1, -1) if it contains a single sample.\n",
      "  warnings.warn(DEPRECATION_MSG_1D, DeprecationWarning)\n",
      "//anaconda/lib/python3.5/site-packages/sklearn/preprocessing/data.py:356: DeprecationWarning: Passing 1d arrays as data is deprecated in 0.17 and will raise ValueError in 0.19. Reshape your data either using X.reshape(-1, 1) if your data has a single feature or X.reshape(1, -1) if it contains a single sample.\n",
      "  warnings.warn(DEPRECATION_MSG_1D, DeprecationWarning)\n",
      "//anaconda/lib/python3.5/site-packages/sklearn/utils/validation.py:429: DataConversionWarning: Data with input dtype int64 was converted to float64 by MinMaxScaler.\n",
      "  warnings.warn(msg, _DataConversionWarning)\n",
      "//anaconda/lib/python3.5/site-packages/sklearn/preprocessing/data.py:321: DeprecationWarning: Passing 1d arrays as data is deprecated in 0.17 and will raise ValueError in 0.19. Reshape your data either using X.reshape(-1, 1) if your data has a single feature or X.reshape(1, -1) if it contains a single sample.\n",
      "  warnings.warn(DEPRECATION_MSG_1D, DeprecationWarning)\n",
      "//anaconda/lib/python3.5/site-packages/sklearn/preprocessing/data.py:356: DeprecationWarning: Passing 1d arrays as data is deprecated in 0.17 and will raise ValueError in 0.19. Reshape your data either using X.reshape(-1, 1) if your data has a single feature or X.reshape(1, -1) if it contains a single sample.\n",
      "  warnings.warn(DEPRECATION_MSG_1D, DeprecationWarning)\n",
      "//anaconda/lib/python3.5/site-packages/sklearn/preprocessing/data.py:321: DeprecationWarning: Passing 1d arrays as data is deprecated in 0.17 and will raise ValueError in 0.19. Reshape your data either using X.reshape(-1, 1) if your data has a single feature or X.reshape(1, -1) if it contains a single sample.\n",
      "  warnings.warn(DEPRECATION_MSG_1D, DeprecationWarning)\n",
      "//anaconda/lib/python3.5/site-packages/sklearn/preprocessing/data.py:356: DeprecationWarning: Passing 1d arrays as data is deprecated in 0.17 and will raise ValueError in 0.19. Reshape your data either using X.reshape(-1, 1) if your data has a single feature or X.reshape(1, -1) if it contains a single sample.\n",
      "  warnings.warn(DEPRECATION_MSG_1D, DeprecationWarning)\n",
      "//anaconda/lib/python3.5/site-packages/sklearn/preprocessing/data.py:321: DeprecationWarning: Passing 1d arrays as data is deprecated in 0.17 and will raise ValueError in 0.19. Reshape your data either using X.reshape(-1, 1) if your data has a single feature or X.reshape(1, -1) if it contains a single sample.\n",
      "  warnings.warn(DEPRECATION_MSG_1D, DeprecationWarning)\n",
      "//anaconda/lib/python3.5/site-packages/sklearn/preprocessing/data.py:356: DeprecationWarning: Passing 1d arrays as data is deprecated in 0.17 and will raise ValueError in 0.19. Reshape your data either using X.reshape(-1, 1) if your data has a single feature or X.reshape(1, -1) if it contains a single sample.\n",
      "  warnings.warn(DEPRECATION_MSG_1D, DeprecationWarning)\n",
      "//anaconda/lib/python3.5/site-packages/sklearn/preprocessing/data.py:321: DeprecationWarning: Passing 1d arrays as data is deprecated in 0.17 and will raise ValueError in 0.19. Reshape your data either using X.reshape(-1, 1) if your data has a single feature or X.reshape(1, -1) if it contains a single sample.\n",
      "  warnings.warn(DEPRECATION_MSG_1D, DeprecationWarning)\n",
      "//anaconda/lib/python3.5/site-packages/sklearn/preprocessing/data.py:356: DeprecationWarning: Passing 1d arrays as data is deprecated in 0.17 and will raise ValueError in 0.19. Reshape your data either using X.reshape(-1, 1) if your data has a single feature or X.reshape(1, -1) if it contains a single sample.\n",
      "  warnings.warn(DEPRECATION_MSG_1D, DeprecationWarning)\n",
      "//anaconda/lib/python3.5/site-packages/sklearn/preprocessing/data.py:321: DeprecationWarning: Passing 1d arrays as data is deprecated in 0.17 and will raise ValueError in 0.19. Reshape your data either using X.reshape(-1, 1) if your data has a single feature or X.reshape(1, -1) if it contains a single sample.\n",
      "  warnings.warn(DEPRECATION_MSG_1D, DeprecationWarning)\n",
      "//anaconda/lib/python3.5/site-packages/sklearn/preprocessing/data.py:356: DeprecationWarning: Passing 1d arrays as data is deprecated in 0.17 and will raise ValueError in 0.19. Reshape your data either using X.reshape(-1, 1) if your data has a single feature or X.reshape(1, -1) if it contains a single sample.\n",
      "  warnings.warn(DEPRECATION_MSG_1D, DeprecationWarning)\n",
      "//anaconda/lib/python3.5/site-packages/sklearn/preprocessing/data.py:321: DeprecationWarning: Passing 1d arrays as data is deprecated in 0.17 and will raise ValueError in 0.19. Reshape your data either using X.reshape(-1, 1) if your data has a single feature or X.reshape(1, -1) if it contains a single sample.\n",
      "  warnings.warn(DEPRECATION_MSG_1D, DeprecationWarning)\n",
      "//anaconda/lib/python3.5/site-packages/sklearn/preprocessing/data.py:356: DeprecationWarning: Passing 1d arrays as data is deprecated in 0.17 and will raise ValueError in 0.19. Reshape your data either using X.reshape(-1, 1) if your data has a single feature or X.reshape(1, -1) if it contains a single sample.\n",
      "  warnings.warn(DEPRECATION_MSG_1D, DeprecationWarning)\n",
      "//anaconda/lib/python3.5/site-packages/sklearn/preprocessing/data.py:321: DeprecationWarning: Passing 1d arrays as data is deprecated in 0.17 and will raise ValueError in 0.19. Reshape your data either using X.reshape(-1, 1) if your data has a single feature or X.reshape(1, -1) if it contains a single sample.\n",
      "  warnings.warn(DEPRECATION_MSG_1D, DeprecationWarning)\n",
      "//anaconda/lib/python3.5/site-packages/sklearn/preprocessing/data.py:356: DeprecationWarning: Passing 1d arrays as data is deprecated in 0.17 and will raise ValueError in 0.19. Reshape your data either using X.reshape(-1, 1) if your data has a single feature or X.reshape(1, -1) if it contains a single sample.\n",
      "  warnings.warn(DEPRECATION_MSG_1D, DeprecationWarning)\n",
      "//anaconda/lib/python3.5/site-packages/sklearn/preprocessing/data.py:321: DeprecationWarning: Passing 1d arrays as data is deprecated in 0.17 and will raise ValueError in 0.19. Reshape your data either using X.reshape(-1, 1) if your data has a single feature or X.reshape(1, -1) if it contains a single sample.\n",
      "  warnings.warn(DEPRECATION_MSG_1D, DeprecationWarning)\n",
      "//anaconda/lib/python3.5/site-packages/sklearn/preprocessing/data.py:356: DeprecationWarning: Passing 1d arrays as data is deprecated in 0.17 and will raise ValueError in 0.19. Reshape your data either using X.reshape(-1, 1) if your data has a single feature or X.reshape(1, -1) if it contains a single sample.\n",
      "  warnings.warn(DEPRECATION_MSG_1D, DeprecationWarning)\n",
      "//anaconda/lib/python3.5/site-packages/sklearn/preprocessing/data.py:321: DeprecationWarning: Passing 1d arrays as data is deprecated in 0.17 and will raise ValueError in 0.19. Reshape your data either using X.reshape(-1, 1) if your data has a single feature or X.reshape(1, -1) if it contains a single sample.\n",
      "  warnings.warn(DEPRECATION_MSG_1D, DeprecationWarning)\n",
      "//anaconda/lib/python3.5/site-packages/sklearn/preprocessing/data.py:356: DeprecationWarning: Passing 1d arrays as data is deprecated in 0.17 and will raise ValueError in 0.19. Reshape your data either using X.reshape(-1, 1) if your data has a single feature or X.reshape(1, -1) if it contains a single sample.\n",
      "  warnings.warn(DEPRECATION_MSG_1D, DeprecationWarning)\n",
      "//anaconda/lib/python3.5/site-packages/sklearn/preprocessing/data.py:321: DeprecationWarning: Passing 1d arrays as data is deprecated in 0.17 and will raise ValueError in 0.19. Reshape your data either using X.reshape(-1, 1) if your data has a single feature or X.reshape(1, -1) if it contains a single sample.\n",
      "  warnings.warn(DEPRECATION_MSG_1D, DeprecationWarning)\n",
      "//anaconda/lib/python3.5/site-packages/sklearn/preprocessing/data.py:356: DeprecationWarning: Passing 1d arrays as data is deprecated in 0.17 and will raise ValueError in 0.19. Reshape your data either using X.reshape(-1, 1) if your data has a single feature or X.reshape(1, -1) if it contains a single sample.\n",
      "  warnings.warn(DEPRECATION_MSG_1D, DeprecationWarning)\n",
      "//anaconda/lib/python3.5/site-packages/sklearn/preprocessing/data.py:321: DeprecationWarning: Passing 1d arrays as data is deprecated in 0.17 and will raise ValueError in 0.19. Reshape your data either using X.reshape(-1, 1) if your data has a single feature or X.reshape(1, -1) if it contains a single sample.\n",
      "  warnings.warn(DEPRECATION_MSG_1D, DeprecationWarning)\n",
      "//anaconda/lib/python3.5/site-packages/sklearn/preprocessing/data.py:356: DeprecationWarning: Passing 1d arrays as data is deprecated in 0.17 and will raise ValueError in 0.19. Reshape your data either using X.reshape(-1, 1) if your data has a single feature or X.reshape(1, -1) if it contains a single sample.\n",
      "  warnings.warn(DEPRECATION_MSG_1D, DeprecationWarning)\n",
      "//anaconda/lib/python3.5/site-packages/sklearn/preprocessing/data.py:321: DeprecationWarning: Passing 1d arrays as data is deprecated in 0.17 and will raise ValueError in 0.19. Reshape your data either using X.reshape(-1, 1) if your data has a single feature or X.reshape(1, -1) if it contains a single sample.\n",
      "  warnings.warn(DEPRECATION_MSG_1D, DeprecationWarning)\n",
      "//anaconda/lib/python3.5/site-packages/sklearn/preprocessing/data.py:356: DeprecationWarning: Passing 1d arrays as data is deprecated in 0.17 and will raise ValueError in 0.19. Reshape your data either using X.reshape(-1, 1) if your data has a single feature or X.reshape(1, -1) if it contains a single sample.\n",
      "  warnings.warn(DEPRECATION_MSG_1D, DeprecationWarning)\n",
      "//anaconda/lib/python3.5/site-packages/sklearn/preprocessing/data.py:321: DeprecationWarning: Passing 1d arrays as data is deprecated in 0.17 and will raise ValueError in 0.19. Reshape your data either using X.reshape(-1, 1) if your data has a single feature or X.reshape(1, -1) if it contains a single sample.\n",
      "  warnings.warn(DEPRECATION_MSG_1D, DeprecationWarning)\n",
      "//anaconda/lib/python3.5/site-packages/sklearn/preprocessing/data.py:356: DeprecationWarning: Passing 1d arrays as data is deprecated in 0.17 and will raise ValueError in 0.19. Reshape your data either using X.reshape(-1, 1) if your data has a single feature or X.reshape(1, -1) if it contains a single sample.\n",
      "  warnings.warn(DEPRECATION_MSG_1D, DeprecationWarning)\n",
      "//anaconda/lib/python3.5/site-packages/sklearn/preprocessing/data.py:321: DeprecationWarning: Passing 1d arrays as data is deprecated in 0.17 and will raise ValueError in 0.19. Reshape your data either using X.reshape(-1, 1) if your data has a single feature or X.reshape(1, -1) if it contains a single sample.\n",
      "  warnings.warn(DEPRECATION_MSG_1D, DeprecationWarning)\n",
      "//anaconda/lib/python3.5/site-packages/sklearn/preprocessing/data.py:356: DeprecationWarning: Passing 1d arrays as data is deprecated in 0.17 and will raise ValueError in 0.19. Reshape your data either using X.reshape(-1, 1) if your data has a single feature or X.reshape(1, -1) if it contains a single sample.\n",
      "  warnings.warn(DEPRECATION_MSG_1D, DeprecationWarning)\n",
      "//anaconda/lib/python3.5/site-packages/sklearn/preprocessing/data.py:321: DeprecationWarning: Passing 1d arrays as data is deprecated in 0.17 and will raise ValueError in 0.19. Reshape your data either using X.reshape(-1, 1) if your data has a single feature or X.reshape(1, -1) if it contains a single sample.\n",
      "  warnings.warn(DEPRECATION_MSG_1D, DeprecationWarning)\n",
      "//anaconda/lib/python3.5/site-packages/sklearn/preprocessing/data.py:356: DeprecationWarning: Passing 1d arrays as data is deprecated in 0.17 and will raise ValueError in 0.19. Reshape your data either using X.reshape(-1, 1) if your data has a single feature or X.reshape(1, -1) if it contains a single sample.\n",
      "  warnings.warn(DEPRECATION_MSG_1D, DeprecationWarning)\n",
      "//anaconda/lib/python3.5/site-packages/sklearn/preprocessing/data.py:321: DeprecationWarning: Passing 1d arrays as data is deprecated in 0.17 and will raise ValueError in 0.19. Reshape your data either using X.reshape(-1, 1) if your data has a single feature or X.reshape(1, -1) if it contains a single sample.\n",
      "  warnings.warn(DEPRECATION_MSG_1D, DeprecationWarning)\n",
      "//anaconda/lib/python3.5/site-packages/sklearn/preprocessing/data.py:356: DeprecationWarning: Passing 1d arrays as data is deprecated in 0.17 and will raise ValueError in 0.19. Reshape your data either using X.reshape(-1, 1) if your data has a single feature or X.reshape(1, -1) if it contains a single sample.\n",
      "  warnings.warn(DEPRECATION_MSG_1D, DeprecationWarning)\n",
      "//anaconda/lib/python3.5/site-packages/sklearn/preprocessing/data.py:321: DeprecationWarning: Passing 1d arrays as data is deprecated in 0.17 and will raise ValueError in 0.19. Reshape your data either using X.reshape(-1, 1) if your data has a single feature or X.reshape(1, -1) if it contains a single sample.\n",
      "  warnings.warn(DEPRECATION_MSG_1D, DeprecationWarning)\n",
      "//anaconda/lib/python3.5/site-packages/sklearn/preprocessing/data.py:356: DeprecationWarning: Passing 1d arrays as data is deprecated in 0.17 and will raise ValueError in 0.19. Reshape your data either using X.reshape(-1, 1) if your data has a single feature or X.reshape(1, -1) if it contains a single sample.\n",
      "  warnings.warn(DEPRECATION_MSG_1D, DeprecationWarning)\n"
     ]
    }
   ],
   "source": [
    "min_max_scaler = preprocessing.MinMaxScaler()\n",
    "# Normalize the continuous features\n",
    "for feature in cont_features:\n",
    "    df.loc[:,feature] = min_max_scaler.fit_transform(df[feature])"
   ]
  },
  {
   "cell_type": "code",
   "execution_count": null,
   "metadata": {
    "collapsed": false
   },
   "outputs": [
    {
     "data": {
      "text/html": [
       "<div>\n",
       "<table border=\"1\" class=\"dataframe\">\n",
       "  <thead>\n",
       "    <tr style=\"text-align: right;\">\n",
       "      <th></th>\n",
       "      <th>action_count</th>\n",
       "      <th>age</th>\n",
       "      <th>apple_device</th>\n",
       "      <th>avg_duration</th>\n",
       "      <th>desktop_device</th>\n",
       "      <th>duration</th>\n",
       "      <th>max_duration</th>\n",
       "      <th>min_duration</th>\n",
       "      <th>mobile_device</th>\n",
       "      <th>signup_flow</th>\n",
       "      <th>tablet_device</th>\n",
       "      <th>timestamp_first_active</th>\n",
       "      <th>unique_action_details</th>\n",
       "      <th>unique_action_types</th>\n",
       "      <th>unique_actions</th>\n",
       "      <th>unique_device_types</th>\n",
       "      <th>action_count_quartile</th>\n",
       "      <th>age_group</th>\n",
       "      <th>duration_group</th>\n",
       "      <th>avg_duration_group</th>\n",
       "      <th>signup_flow_simple</th>\n",
       "      <th>business_day_account_created</th>\n",
       "      <th>holiday_account_created</th>\n",
       "      <th>business_day_first_booking</th>\n",
       "      <th>holiday_first_booking</th>\n",
       "      <th>not_English</th>\n",
       "      <th>action_Other</th>\n",
       "      <th>action_active</th>\n",
       "      <th>action_ajax_refresh_subtotal</th>\n",
       "      <th>action_ask_question</th>\n",
       "      <th>action_authenticate</th>\n",
       "      <th>action_create</th>\n",
       "      <th>action_dashboard</th>\n",
       "      <th>action_edit</th>\n",
       "      <th>action_header_userpic</th>\n",
       "      <th>action_index</th>\n",
       "      <th>action_missing</th>\n",
       "      <th>action_personalize</th>\n",
       "      <th>action_requested</th>\n",
       "      <th>action_search</th>\n",
       "      <th>action_search_results</th>\n",
       "      <th>action_show</th>\n",
       "      <th>action_update</th>\n",
       "      <th>action_detail_-unknown-</th>\n",
       "      <th>action_detail_Other</th>\n",
       "      <th>action_detail_change_trip_characteristics</th>\n",
       "      <th>action_detail_contact_host</th>\n",
       "      <th>action_detail_create_user</th>\n",
       "      <th>action_detail_dashboard</th>\n",
       "      <th>action_detail_header_userpic</th>\n",
       "      <th>action_detail_message_thread</th>\n",
       "      <th>action_detail_missing</th>\n",
       "      <th>action_detail_p3</th>\n",
       "      <th>action_detail_p5</th>\n",
       "      <th>action_detail_update_listing</th>\n",
       "      <th>action_detail_user_profile</th>\n",
       "      <th>action_detail_view_search_results</th>\n",
       "      <th>action_type_-unknown-</th>\n",
       "      <th>action_type_Other</th>\n",
       "      <th>action_type_click</th>\n",
       "      <th>action_type_data</th>\n",
       "      <th>action_type_missing</th>\n",
       "      <th>action_type_submit</th>\n",
       "      <th>action_type_view</th>\n",
       "      <th>affiliate_channel_api</th>\n",
       "      <th>affiliate_channel_content</th>\n",
       "      <th>affiliate_channel_direct</th>\n",
       "      <th>affiliate_channel_other</th>\n",
       "      <th>affiliate_channel_remarketing</th>\n",
       "      <th>affiliate_channel_sem-brand</th>\n",
       "      <th>affiliate_channel_sem-non-brand</th>\n",
       "      <th>affiliate_channel_seo</th>\n",
       "      <th>affiliate_provider_bing</th>\n",
       "      <th>affiliate_provider_craigslist</th>\n",
       "      <th>affiliate_provider_direct</th>\n",
       "      <th>affiliate_provider_facebook</th>\n",
       "      <th>affiliate_provider_google</th>\n",
       "      <th>affiliate_provider_other</th>\n",
       "      <th>device_type_-unknown-</th>\n",
       "      <th>device_type_Android App Unknown Phone/Tablet</th>\n",
       "      <th>device_type_Android Phone</th>\n",
       "      <th>device_type_Mac Desktop</th>\n",
       "      <th>device_type_Other</th>\n",
       "      <th>device_type_Tablet</th>\n",
       "      <th>device_type_Windows Desktop</th>\n",
       "      <th>device_type_iPad Tablet</th>\n",
       "      <th>device_type_iPhone</th>\n",
       "      <th>device_type_missing</th>\n",
       "      <th>first_affiliate_tracked_linked</th>\n",
       "      <th>first_affiliate_tracked_local ops</th>\n",
       "      <th>first_affiliate_tracked_marketing</th>\n",
       "      <th>first_affiliate_tracked_omg</th>\n",
       "      <th>first_affiliate_tracked_product</th>\n",
       "      <th>first_affiliate_tracked_tracked-other</th>\n",
       "      <th>first_affiliate_tracked_untracked</th>\n",
       "      <th>first_browser_-unknown-</th>\n",
       "      <th>first_browser_Chrome</th>\n",
       "      <th>first_browser_Firefox</th>\n",
       "      <th>first_browser_IE</th>\n",
       "      <th>first_browser_Mobile</th>\n",
       "      <th>first_browser_Other</th>\n",
       "      <th>first_browser_Safari</th>\n",
       "      <th>first_device_type_Android Phone</th>\n",
       "      <th>first_device_type_Android Tablet</th>\n",
       "      <th>first_device_type_Desktop (Other)</th>\n",
       "      <th>first_device_type_Mac Desktop</th>\n",
       "      <th>first_device_type_Other/Unknown</th>\n",
       "      <th>first_device_type_SmartPhone (Other)</th>\n",
       "      <th>first_device_type_Windows Desktop</th>\n",
       "      <th>first_device_type_iPad</th>\n",
       "      <th>first_device_type_iPhone</th>\n",
       "      <th>gender_-unknown-</th>\n",
       "      <th>gender_FEMALE</th>\n",
       "      <th>gender_MALE</th>\n",
       "      <th>gender_OTHER</th>\n",
       "      <th>language_Other</th>\n",
       "      <th>language_de</th>\n",
       "      <th>language_en</th>\n",
       "      <th>language_es</th>\n",
       "      <th>language_fr</th>\n",
       "      <th>language_it</th>\n",
       "      <th>language_ja</th>\n",
       "      <th>language_ko</th>\n",
       "      <th>language_pt</th>\n",
       "      <th>language_ru</th>\n",
       "      <th>language_zh</th>\n",
       "      <th>signup_app_Android</th>\n",
       "      <th>signup_app_Moweb</th>\n",
       "      <th>signup_app_Web</th>\n",
       "      <th>signup_app_iOS</th>\n",
       "      <th>signup_method_basic</th>\n",
       "      <th>signup_method_facebook</th>\n",
       "      <th>signup_method_google</th>\n",
       "      <th>signup_method_weibo</th>\n",
       "      <th>year_account_created_2010</th>\n",
       "      <th>year_account_created_2011</th>\n",
       "      <th>year_account_created_2012</th>\n",
       "      <th>year_account_created_2013</th>\n",
       "      <th>year_account_created_2014</th>\n",
       "      <th>month_account_created_1</th>\n",
       "      <th>month_account_created_2</th>\n",
       "      <th>month_account_created_3</th>\n",
       "      <th>month_account_created_4</th>\n",
       "      <th>month_account_created_5</th>\n",
       "      <th>month_account_created_6</th>\n",
       "      <th>month_account_created_7</th>\n",
       "      <th>month_account_created_8</th>\n",
       "      <th>month_account_created_9</th>\n",
       "      <th>month_account_created_10</th>\n",
       "      <th>month_account_created_11</th>\n",
       "      <th>month_account_created_12</th>\n",
       "      <th>weekday_account_created_0</th>\n",
       "      <th>weekday_account_created_1</th>\n",
       "      <th>weekday_account_created_2</th>\n",
       "      <th>weekday_account_created_3</th>\n",
       "      <th>weekday_account_created_4</th>\n",
       "      <th>weekday_account_created_5</th>\n",
       "      <th>weekday_account_created_6</th>\n",
       "      <th>year_first_booking_2009.0</th>\n",
       "      <th>year_first_booking_2010.0</th>\n",
       "      <th>year_first_booking_2011.0</th>\n",
       "      <th>year_first_booking_2012.0</th>\n",
       "      <th>year_first_booking_2013.0</th>\n",
       "      <th>year_first_booking_2014.0</th>\n",
       "      <th>year_first_booking_2015.0</th>\n",
       "      <th>month_first_booking_0.0</th>\n",
       "      <th>month_first_booking_1.0</th>\n",
       "      <th>month_first_booking_2.0</th>\n",
       "      <th>month_first_booking_3.0</th>\n",
       "      <th>month_first_booking_4.0</th>\n",
       "      <th>month_first_booking_5.0</th>\n",
       "      <th>month_first_booking_6.0</th>\n",
       "      <th>month_first_booking_7.0</th>\n",
       "      <th>month_first_booking_8.0</th>\n",
       "      <th>month_first_booking_9.0</th>\n",
       "      <th>month_first_booking_10.0</th>\n",
       "      <th>month_first_booking_11.0</th>\n",
       "      <th>month_first_booking_12.0</th>\n",
       "      <th>weekday_first_booking_0.0</th>\n",
       "      <th>weekday_first_booking_1.0</th>\n",
       "      <th>weekday_first_booking_2.0</th>\n",
       "      <th>weekday_first_booking_3.0</th>\n",
       "      <th>weekday_first_booking_4.0</th>\n",
       "      <th>weekday_first_booking_5.0</th>\n",
       "      <th>weekday_first_booking_6.0</th>\n",
       "      <th>weekday_first_booking_7.0</th>\n",
       "    </tr>\n",
       "  </thead>\n",
       "  <tbody>\n",
       "    <tr>\n",
       "      <th>0</th>\n",
       "      <td>0.046623</td>\n",
       "      <td>0.772152</td>\n",
       "      <td>0.0</td>\n",
       "      <td>0.029229</td>\n",
       "      <td>1.0</td>\n",
       "      <td>0.089969</td>\n",
       "      <td>0.337160</td>\n",
       "      <td>0.000039</td>\n",
       "      <td>0.0</td>\n",
       "      <td>0.0</td>\n",
       "      <td>0.0</td>\n",
       "      <td>0.983616</td>\n",
       "      <td>0.181818</td>\n",
       "      <td>0.636364</td>\n",
       "      <td>0.232877</td>\n",
       "      <td>0.333333</td>\n",
       "      <td>1.00</td>\n",
       "      <td>1.0</td>\n",
       "      <td>1.0</td>\n",
       "      <td>1.0</td>\n",
       "      <td>0.0</td>\n",
       "      <td>0.0</td>\n",
       "      <td>1.0</td>\n",
       "      <td>0.0</td>\n",
       "      <td>0.0</td>\n",
       "      <td>0.0</td>\n",
       "      <td>0.0</td>\n",
       "      <td>0.0</td>\n",
       "      <td>0.0</td>\n",
       "      <td>0.0</td>\n",
       "      <td>0.0</td>\n",
       "      <td>0.0</td>\n",
       "      <td>0.0</td>\n",
       "      <td>0.0</td>\n",
       "      <td>0.0</td>\n",
       "      <td>0.0</td>\n",
       "      <td>0.0</td>\n",
       "      <td>0.0</td>\n",
       "      <td>0.0</td>\n",
       "      <td>0.0</td>\n",
       "      <td>0.0</td>\n",
       "      <td>1.0</td>\n",
       "      <td>0.0</td>\n",
       "      <td>0.0</td>\n",
       "      <td>0.0</td>\n",
       "      <td>0.0</td>\n",
       "      <td>0.0</td>\n",
       "      <td>0.0</td>\n",
       "      <td>0.0</td>\n",
       "      <td>0.0</td>\n",
       "      <td>0.0</td>\n",
       "      <td>0.0</td>\n",
       "      <td>1.0</td>\n",
       "      <td>0.0</td>\n",
       "      <td>0.0</td>\n",
       "      <td>0.0</td>\n",
       "      <td>0.0</td>\n",
       "      <td>0.0</td>\n",
       "      <td>0.0</td>\n",
       "      <td>0.0</td>\n",
       "      <td>0.0</td>\n",
       "      <td>0.0</td>\n",
       "      <td>0.0</td>\n",
       "      <td>1.0</td>\n",
       "      <td>0.0</td>\n",
       "      <td>0.0</td>\n",
       "      <td>0.0</td>\n",
       "      <td>0.0</td>\n",
       "      <td>0.0</td>\n",
       "      <td>0.0</td>\n",
       "      <td>1.0</td>\n",
       "      <td>0.0</td>\n",
       "      <td>0.0</td>\n",
       "      <td>0.0</td>\n",
       "      <td>0.0</td>\n",
       "      <td>0.0</td>\n",
       "      <td>1.0</td>\n",
       "      <td>0.0</td>\n",
       "      <td>0.0</td>\n",
       "      <td>0.0</td>\n",
       "      <td>0.0</td>\n",
       "      <td>0.0</td>\n",
       "      <td>0.0</td>\n",
       "      <td>0.0</td>\n",
       "      <td>1.0</td>\n",
       "      <td>0.0</td>\n",
       "      <td>0.0</td>\n",
       "      <td>0.0</td>\n",
       "      <td>0.0</td>\n",
       "      <td>0.0</td>\n",
       "      <td>0.0</td>\n",
       "      <td>1.0</td>\n",
       "      <td>0.0</td>\n",
       "      <td>0.0</td>\n",
       "      <td>0.0</td>\n",
       "      <td>0.0</td>\n",
       "      <td>1.0</td>\n",
       "      <td>0.0</td>\n",
       "      <td>0.0</td>\n",
       "      <td>0.0</td>\n",
       "      <td>0.0</td>\n",
       "      <td>0.0</td>\n",
       "      <td>0.0</td>\n",
       "      <td>0.0</td>\n",
       "      <td>0.0</td>\n",
       "      <td>0.0</td>\n",
       "      <td>0.0</td>\n",
       "      <td>0.0</td>\n",
       "      <td>1.0</td>\n",
       "      <td>0.0</td>\n",
       "      <td>0.0</td>\n",
       "      <td>0.0</td>\n",
       "      <td>0.0</td>\n",
       "      <td>1.0</td>\n",
       "      <td>0.0</td>\n",
       "      <td>0.0</td>\n",
       "      <td>0.0</td>\n",
       "      <td>1.0</td>\n",
       "      <td>0.0</td>\n",
       "      <td>0.0</td>\n",
       "      <td>0.0</td>\n",
       "      <td>0.0</td>\n",
       "      <td>0.0</td>\n",
       "      <td>0.0</td>\n",
       "      <td>0.0</td>\n",
       "      <td>0.0</td>\n",
       "      <td>0.0</td>\n",
       "      <td>0.0</td>\n",
       "      <td>1.0</td>\n",
       "      <td>0.0</td>\n",
       "      <td>1.0</td>\n",
       "      <td>0.0</td>\n",
       "      <td>0.0</td>\n",
       "      <td>0.0</td>\n",
       "      <td>0.0</td>\n",
       "      <td>0.0</td>\n",
       "      <td>0.0</td>\n",
       "      <td>0.0</td>\n",
       "      <td>1.0</td>\n",
       "      <td>1.0</td>\n",
       "      <td>0.0</td>\n",
       "      <td>0.0</td>\n",
       "      <td>0.0</td>\n",
       "      <td>0.0</td>\n",
       "      <td>0.0</td>\n",
       "      <td>0.0</td>\n",
       "      <td>0.0</td>\n",
       "      <td>0.0</td>\n",
       "      <td>0.0</td>\n",
       "      <td>0.0</td>\n",
       "      <td>0.0</td>\n",
       "      <td>0.0</td>\n",
       "      <td>0.0</td>\n",
       "      <td>1.0</td>\n",
       "      <td>0.0</td>\n",
       "      <td>0.0</td>\n",
       "      <td>0.0</td>\n",
       "      <td>0.0</td>\n",
       "      <td>0.0</td>\n",
       "      <td>0.0</td>\n",
       "      <td>0.0</td>\n",
       "      <td>0.0</td>\n",
       "      <td>0.0</td>\n",
       "      <td>1.0</td>\n",
       "      <td>0.0</td>\n",
       "      <td>0.0</td>\n",
       "      <td>1.0</td>\n",
       "      <td>0.0</td>\n",
       "      <td>0.0</td>\n",
       "      <td>0.0</td>\n",
       "      <td>0.0</td>\n",
       "      <td>0.0</td>\n",
       "      <td>0.0</td>\n",
       "      <td>0.0</td>\n",
       "      <td>0.0</td>\n",
       "      <td>0.0</td>\n",
       "      <td>0.0</td>\n",
       "      <td>0.0</td>\n",
       "      <td>0.0</td>\n",
       "      <td>0.0</td>\n",
       "      <td>0.0</td>\n",
       "      <td>0.0</td>\n",
       "      <td>0.0</td>\n",
       "      <td>0.0</td>\n",
       "      <td>1.0</td>\n",
       "      <td>0.0</td>\n",
       "    </tr>\n",
       "    <tr>\n",
       "      <th>1</th>\n",
       "      <td>0.004405</td>\n",
       "      <td>0.405063</td>\n",
       "      <td>1.0</td>\n",
       "      <td>0.026270</td>\n",
       "      <td>1.0</td>\n",
       "      <td>0.007641</td>\n",
       "      <td>0.064436</td>\n",
       "      <td>0.000704</td>\n",
       "      <td>0.0</td>\n",
       "      <td>0.0</td>\n",
       "      <td>0.0</td>\n",
       "      <td>0.983616</td>\n",
       "      <td>0.145455</td>\n",
       "      <td>0.363636</td>\n",
       "      <td>0.095890</td>\n",
       "      <td>0.166667</td>\n",
       "      <td>0.25</td>\n",
       "      <td>0.0</td>\n",
       "      <td>0.5</td>\n",
       "      <td>1.0</td>\n",
       "      <td>0.0</td>\n",
       "      <td>0.0</td>\n",
       "      <td>1.0</td>\n",
       "      <td>0.0</td>\n",
       "      <td>0.0</td>\n",
       "      <td>0.0</td>\n",
       "      <td>0.0</td>\n",
       "      <td>0.0</td>\n",
       "      <td>0.0</td>\n",
       "      <td>0.0</td>\n",
       "      <td>0.0</td>\n",
       "      <td>0.0</td>\n",
       "      <td>0.0</td>\n",
       "      <td>0.0</td>\n",
       "      <td>0.0</td>\n",
       "      <td>0.0</td>\n",
       "      <td>0.0</td>\n",
       "      <td>0.0</td>\n",
       "      <td>0.0</td>\n",
       "      <td>0.0</td>\n",
       "      <td>0.0</td>\n",
       "      <td>1.0</td>\n",
       "      <td>0.0</td>\n",
       "      <td>0.0</td>\n",
       "      <td>0.0</td>\n",
       "      <td>0.0</td>\n",
       "      <td>0.0</td>\n",
       "      <td>0.0</td>\n",
       "      <td>0.0</td>\n",
       "      <td>0.0</td>\n",
       "      <td>0.0</td>\n",
       "      <td>0.0</td>\n",
       "      <td>1.0</td>\n",
       "      <td>0.0</td>\n",
       "      <td>0.0</td>\n",
       "      <td>0.0</td>\n",
       "      <td>0.0</td>\n",
       "      <td>0.0</td>\n",
       "      <td>0.0</td>\n",
       "      <td>0.0</td>\n",
       "      <td>0.0</td>\n",
       "      <td>0.0</td>\n",
       "      <td>0.0</td>\n",
       "      <td>1.0</td>\n",
       "      <td>0.0</td>\n",
       "      <td>0.0</td>\n",
       "      <td>1.0</td>\n",
       "      <td>0.0</td>\n",
       "      <td>0.0</td>\n",
       "      <td>0.0</td>\n",
       "      <td>0.0</td>\n",
       "      <td>0.0</td>\n",
       "      <td>0.0</td>\n",
       "      <td>0.0</td>\n",
       "      <td>1.0</td>\n",
       "      <td>0.0</td>\n",
       "      <td>0.0</td>\n",
       "      <td>0.0</td>\n",
       "      <td>0.0</td>\n",
       "      <td>0.0</td>\n",
       "      <td>0.0</td>\n",
       "      <td>1.0</td>\n",
       "      <td>0.0</td>\n",
       "      <td>0.0</td>\n",
       "      <td>0.0</td>\n",
       "      <td>0.0</td>\n",
       "      <td>0.0</td>\n",
       "      <td>0.0</td>\n",
       "      <td>0.0</td>\n",
       "      <td>0.0</td>\n",
       "      <td>0.0</td>\n",
       "      <td>0.0</td>\n",
       "      <td>0.0</td>\n",
       "      <td>0.0</td>\n",
       "      <td>1.0</td>\n",
       "      <td>0.0</td>\n",
       "      <td>0.0</td>\n",
       "      <td>1.0</td>\n",
       "      <td>0.0</td>\n",
       "      <td>0.0</td>\n",
       "      <td>0.0</td>\n",
       "      <td>0.0</td>\n",
       "      <td>0.0</td>\n",
       "      <td>0.0</td>\n",
       "      <td>0.0</td>\n",
       "      <td>1.0</td>\n",
       "      <td>0.0</td>\n",
       "      <td>0.0</td>\n",
       "      <td>0.0</td>\n",
       "      <td>0.0</td>\n",
       "      <td>0.0</td>\n",
       "      <td>1.0</td>\n",
       "      <td>0.0</td>\n",
       "      <td>0.0</td>\n",
       "      <td>0.0</td>\n",
       "      <td>0.0</td>\n",
       "      <td>0.0</td>\n",
       "      <td>1.0</td>\n",
       "      <td>0.0</td>\n",
       "      <td>0.0</td>\n",
       "      <td>0.0</td>\n",
       "      <td>0.0</td>\n",
       "      <td>0.0</td>\n",
       "      <td>0.0</td>\n",
       "      <td>0.0</td>\n",
       "      <td>0.0</td>\n",
       "      <td>0.0</td>\n",
       "      <td>0.0</td>\n",
       "      <td>1.0</td>\n",
       "      <td>0.0</td>\n",
       "      <td>1.0</td>\n",
       "      <td>0.0</td>\n",
       "      <td>0.0</td>\n",
       "      <td>0.0</td>\n",
       "      <td>0.0</td>\n",
       "      <td>0.0</td>\n",
       "      <td>0.0</td>\n",
       "      <td>0.0</td>\n",
       "      <td>1.0</td>\n",
       "      <td>1.0</td>\n",
       "      <td>0.0</td>\n",
       "      <td>0.0</td>\n",
       "      <td>0.0</td>\n",
       "      <td>0.0</td>\n",
       "      <td>0.0</td>\n",
       "      <td>0.0</td>\n",
       "      <td>0.0</td>\n",
       "      <td>0.0</td>\n",
       "      <td>0.0</td>\n",
       "      <td>0.0</td>\n",
       "      <td>0.0</td>\n",
       "      <td>0.0</td>\n",
       "      <td>0.0</td>\n",
       "      <td>1.0</td>\n",
       "      <td>0.0</td>\n",
       "      <td>0.0</td>\n",
       "      <td>0.0</td>\n",
       "      <td>0.0</td>\n",
       "      <td>1.0</td>\n",
       "      <td>0.0</td>\n",
       "      <td>0.0</td>\n",
       "      <td>0.0</td>\n",
       "      <td>0.0</td>\n",
       "      <td>0.0</td>\n",
       "      <td>0.0</td>\n",
       "      <td>1.0</td>\n",
       "      <td>0.0</td>\n",
       "      <td>0.0</td>\n",
       "      <td>0.0</td>\n",
       "      <td>0.0</td>\n",
       "      <td>0.0</td>\n",
       "      <td>0.0</td>\n",
       "      <td>0.0</td>\n",
       "      <td>0.0</td>\n",
       "      <td>0.0</td>\n",
       "      <td>0.0</td>\n",
       "      <td>0.0</td>\n",
       "      <td>0.0</td>\n",
       "      <td>1.0</td>\n",
       "      <td>0.0</td>\n",
       "      <td>0.0</td>\n",
       "      <td>0.0</td>\n",
       "      <td>0.0</td>\n",
       "      <td>0.0</td>\n",
       "      <td>0.0</td>\n",
       "      <td>0.0</td>\n",
       "    </tr>\n",
       "    <tr>\n",
       "      <th>2</th>\n",
       "      <td>0.005874</td>\n",
       "      <td>0.405063</td>\n",
       "      <td>0.0</td>\n",
       "      <td>0.077012</td>\n",
       "      <td>1.0</td>\n",
       "      <td>0.029865</td>\n",
       "      <td>0.187114</td>\n",
       "      <td>0.001037</td>\n",
       "      <td>0.0</td>\n",
       "      <td>0.0</td>\n",
       "      <td>0.0</td>\n",
       "      <td>0.983616</td>\n",
       "      <td>0.145455</td>\n",
       "      <td>0.545455</td>\n",
       "      <td>0.178082</td>\n",
       "      <td>0.333333</td>\n",
       "      <td>0.25</td>\n",
       "      <td>0.0</td>\n",
       "      <td>1.0</td>\n",
       "      <td>1.0</td>\n",
       "      <td>0.0</td>\n",
       "      <td>0.0</td>\n",
       "      <td>1.0</td>\n",
       "      <td>0.0</td>\n",
       "      <td>0.0</td>\n",
       "      <td>0.0</td>\n",
       "      <td>0.0</td>\n",
       "      <td>0.0</td>\n",
       "      <td>0.0</td>\n",
       "      <td>0.0</td>\n",
       "      <td>0.0</td>\n",
       "      <td>1.0</td>\n",
       "      <td>0.0</td>\n",
       "      <td>0.0</td>\n",
       "      <td>0.0</td>\n",
       "      <td>0.0</td>\n",
       "      <td>0.0</td>\n",
       "      <td>0.0</td>\n",
       "      <td>0.0</td>\n",
       "      <td>0.0</td>\n",
       "      <td>0.0</td>\n",
       "      <td>0.0</td>\n",
       "      <td>0.0</td>\n",
       "      <td>1.0</td>\n",
       "      <td>0.0</td>\n",
       "      <td>0.0</td>\n",
       "      <td>0.0</td>\n",
       "      <td>0.0</td>\n",
       "      <td>0.0</td>\n",
       "      <td>0.0</td>\n",
       "      <td>0.0</td>\n",
       "      <td>0.0</td>\n",
       "      <td>0.0</td>\n",
       "      <td>0.0</td>\n",
       "      <td>0.0</td>\n",
       "      <td>0.0</td>\n",
       "      <td>0.0</td>\n",
       "      <td>1.0</td>\n",
       "      <td>0.0</td>\n",
       "      <td>0.0</td>\n",
       "      <td>0.0</td>\n",
       "      <td>0.0</td>\n",
       "      <td>0.0</td>\n",
       "      <td>0.0</td>\n",
       "      <td>0.0</td>\n",
       "      <td>0.0</td>\n",
       "      <td>0.0</td>\n",
       "      <td>0.0</td>\n",
       "      <td>0.0</td>\n",
       "      <td>1.0</td>\n",
       "      <td>0.0</td>\n",
       "      <td>0.0</td>\n",
       "      <td>0.0</td>\n",
       "      <td>0.0</td>\n",
       "      <td>0.0</td>\n",
       "      <td>0.0</td>\n",
       "      <td>1.0</td>\n",
       "      <td>0.0</td>\n",
       "      <td>0.0</td>\n",
       "      <td>0.0</td>\n",
       "      <td>0.0</td>\n",
       "      <td>0.0</td>\n",
       "      <td>0.0</td>\n",
       "      <td>0.0</td>\n",
       "      <td>1.0</td>\n",
       "      <td>0.0</td>\n",
       "      <td>0.0</td>\n",
       "      <td>0.0</td>\n",
       "      <td>0.0</td>\n",
       "      <td>0.0</td>\n",
       "      <td>0.0</td>\n",
       "      <td>1.0</td>\n",
       "      <td>0.0</td>\n",
       "      <td>0.0</td>\n",
       "      <td>0.0</td>\n",
       "      <td>0.0</td>\n",
       "      <td>0.0</td>\n",
       "      <td>1.0</td>\n",
       "      <td>0.0</td>\n",
       "      <td>0.0</td>\n",
       "      <td>0.0</td>\n",
       "      <td>0.0</td>\n",
       "      <td>0.0</td>\n",
       "      <td>0.0</td>\n",
       "      <td>0.0</td>\n",
       "      <td>0.0</td>\n",
       "      <td>0.0</td>\n",
       "      <td>0.0</td>\n",
       "      <td>1.0</td>\n",
       "      <td>0.0</td>\n",
       "      <td>0.0</td>\n",
       "      <td>1.0</td>\n",
       "      <td>0.0</td>\n",
       "      <td>0.0</td>\n",
       "      <td>0.0</td>\n",
       "      <td>0.0</td>\n",
       "      <td>0.0</td>\n",
       "      <td>1.0</td>\n",
       "      <td>0.0</td>\n",
       "      <td>0.0</td>\n",
       "      <td>0.0</td>\n",
       "      <td>0.0</td>\n",
       "      <td>0.0</td>\n",
       "      <td>0.0</td>\n",
       "      <td>0.0</td>\n",
       "      <td>0.0</td>\n",
       "      <td>0.0</td>\n",
       "      <td>0.0</td>\n",
       "      <td>1.0</td>\n",
       "      <td>0.0</td>\n",
       "      <td>1.0</td>\n",
       "      <td>0.0</td>\n",
       "      <td>0.0</td>\n",
       "      <td>0.0</td>\n",
       "      <td>0.0</td>\n",
       "      <td>0.0</td>\n",
       "      <td>0.0</td>\n",
       "      <td>0.0</td>\n",
       "      <td>1.0</td>\n",
       "      <td>1.0</td>\n",
       "      <td>0.0</td>\n",
       "      <td>0.0</td>\n",
       "      <td>0.0</td>\n",
       "      <td>0.0</td>\n",
       "      <td>0.0</td>\n",
       "      <td>0.0</td>\n",
       "      <td>0.0</td>\n",
       "      <td>0.0</td>\n",
       "      <td>0.0</td>\n",
       "      <td>0.0</td>\n",
       "      <td>0.0</td>\n",
       "      <td>0.0</td>\n",
       "      <td>0.0</td>\n",
       "      <td>1.0</td>\n",
       "      <td>0.0</td>\n",
       "      <td>0.0</td>\n",
       "      <td>0.0</td>\n",
       "      <td>0.0</td>\n",
       "      <td>1.0</td>\n",
       "      <td>0.0</td>\n",
       "      <td>0.0</td>\n",
       "      <td>0.0</td>\n",
       "      <td>0.0</td>\n",
       "      <td>0.0</td>\n",
       "      <td>0.0</td>\n",
       "      <td>1.0</td>\n",
       "      <td>0.0</td>\n",
       "      <td>0.0</td>\n",
       "      <td>0.0</td>\n",
       "      <td>0.0</td>\n",
       "      <td>0.0</td>\n",
       "      <td>0.0</td>\n",
       "      <td>0.0</td>\n",
       "      <td>0.0</td>\n",
       "      <td>0.0</td>\n",
       "      <td>0.0</td>\n",
       "      <td>0.0</td>\n",
       "      <td>0.0</td>\n",
       "      <td>1.0</td>\n",
       "      <td>0.0</td>\n",
       "      <td>0.0</td>\n",
       "      <td>0.0</td>\n",
       "      <td>0.0</td>\n",
       "      <td>0.0</td>\n",
       "      <td>0.0</td>\n",
       "      <td>0.0</td>\n",
       "    </tr>\n",
       "    <tr>\n",
       "      <th>3</th>\n",
       "      <td>0.058737</td>\n",
       "      <td>0.405063</td>\n",
       "      <td>0.0</td>\n",
       "      <td>0.026123</td>\n",
       "      <td>1.0</td>\n",
       "      <td>0.101302</td>\n",
       "      <td>0.406836</td>\n",
       "      <td>0.000000</td>\n",
       "      <td>0.0</td>\n",
       "      <td>0.0</td>\n",
       "      <td>0.0</td>\n",
       "      <td>0.983616</td>\n",
       "      <td>0.236364</td>\n",
       "      <td>0.636364</td>\n",
       "      <td>0.260274</td>\n",
       "      <td>0.500000</td>\n",
       "      <td>1.00</td>\n",
       "      <td>0.0</td>\n",
       "      <td>1.0</td>\n",
       "      <td>1.0</td>\n",
       "      <td>0.0</td>\n",
       "      <td>0.0</td>\n",
       "      <td>1.0</td>\n",
       "      <td>0.0</td>\n",
       "      <td>0.0</td>\n",
       "      <td>0.0</td>\n",
       "      <td>0.0</td>\n",
       "      <td>0.0</td>\n",
       "      <td>1.0</td>\n",
       "      <td>0.0</td>\n",
       "      <td>0.0</td>\n",
       "      <td>0.0</td>\n",
       "      <td>0.0</td>\n",
       "      <td>0.0</td>\n",
       "      <td>0.0</td>\n",
       "      <td>0.0</td>\n",
       "      <td>0.0</td>\n",
       "      <td>0.0</td>\n",
       "      <td>0.0</td>\n",
       "      <td>0.0</td>\n",
       "      <td>0.0</td>\n",
       "      <td>0.0</td>\n",
       "      <td>0.0</td>\n",
       "      <td>0.0</td>\n",
       "      <td>0.0</td>\n",
       "      <td>0.0</td>\n",
       "      <td>0.0</td>\n",
       "      <td>0.0</td>\n",
       "      <td>0.0</td>\n",
       "      <td>0.0</td>\n",
       "      <td>0.0</td>\n",
       "      <td>0.0</td>\n",
       "      <td>0.0</td>\n",
       "      <td>0.0</td>\n",
       "      <td>0.0</td>\n",
       "      <td>0.0</td>\n",
       "      <td>1.0</td>\n",
       "      <td>0.0</td>\n",
       "      <td>0.0</td>\n",
       "      <td>1.0</td>\n",
       "      <td>0.0</td>\n",
       "      <td>0.0</td>\n",
       "      <td>0.0</td>\n",
       "      <td>0.0</td>\n",
       "      <td>0.0</td>\n",
       "      <td>0.0</td>\n",
       "      <td>1.0</td>\n",
       "      <td>0.0</td>\n",
       "      <td>0.0</td>\n",
       "      <td>0.0</td>\n",
       "      <td>0.0</td>\n",
       "      <td>0.0</td>\n",
       "      <td>0.0</td>\n",
       "      <td>0.0</td>\n",
       "      <td>1.0</td>\n",
       "      <td>0.0</td>\n",
       "      <td>0.0</td>\n",
       "      <td>0.0</td>\n",
       "      <td>0.0</td>\n",
       "      <td>0.0</td>\n",
       "      <td>0.0</td>\n",
       "      <td>0.0</td>\n",
       "      <td>0.0</td>\n",
       "      <td>0.0</td>\n",
       "      <td>1.0</td>\n",
       "      <td>0.0</td>\n",
       "      <td>0.0</td>\n",
       "      <td>0.0</td>\n",
       "      <td>1.0</td>\n",
       "      <td>0.0</td>\n",
       "      <td>0.0</td>\n",
       "      <td>0.0</td>\n",
       "      <td>0.0</td>\n",
       "      <td>0.0</td>\n",
       "      <td>0.0</td>\n",
       "      <td>0.0</td>\n",
       "      <td>1.0</td>\n",
       "      <td>0.0</td>\n",
       "      <td>0.0</td>\n",
       "      <td>0.0</td>\n",
       "      <td>0.0</td>\n",
       "      <td>0.0</td>\n",
       "      <td>0.0</td>\n",
       "      <td>0.0</td>\n",
       "      <td>0.0</td>\n",
       "      <td>0.0</td>\n",
       "      <td>0.0</td>\n",
       "      <td>0.0</td>\n",
       "      <td>1.0</td>\n",
       "      <td>0.0</td>\n",
       "      <td>0.0</td>\n",
       "      <td>1.0</td>\n",
       "      <td>0.0</td>\n",
       "      <td>0.0</td>\n",
       "      <td>0.0</td>\n",
       "      <td>0.0</td>\n",
       "      <td>0.0</td>\n",
       "      <td>1.0</td>\n",
       "      <td>0.0</td>\n",
       "      <td>0.0</td>\n",
       "      <td>0.0</td>\n",
       "      <td>0.0</td>\n",
       "      <td>0.0</td>\n",
       "      <td>0.0</td>\n",
       "      <td>0.0</td>\n",
       "      <td>0.0</td>\n",
       "      <td>0.0</td>\n",
       "      <td>0.0</td>\n",
       "      <td>1.0</td>\n",
       "      <td>0.0</td>\n",
       "      <td>1.0</td>\n",
       "      <td>0.0</td>\n",
       "      <td>0.0</td>\n",
       "      <td>0.0</td>\n",
       "      <td>0.0</td>\n",
       "      <td>0.0</td>\n",
       "      <td>0.0</td>\n",
       "      <td>0.0</td>\n",
       "      <td>1.0</td>\n",
       "      <td>1.0</td>\n",
       "      <td>0.0</td>\n",
       "      <td>0.0</td>\n",
       "      <td>0.0</td>\n",
       "      <td>0.0</td>\n",
       "      <td>0.0</td>\n",
       "      <td>0.0</td>\n",
       "      <td>0.0</td>\n",
       "      <td>0.0</td>\n",
       "      <td>0.0</td>\n",
       "      <td>0.0</td>\n",
       "      <td>0.0</td>\n",
       "      <td>0.0</td>\n",
       "      <td>0.0</td>\n",
       "      <td>1.0</td>\n",
       "      <td>0.0</td>\n",
       "      <td>0.0</td>\n",
       "      <td>0.0</td>\n",
       "      <td>0.0</td>\n",
       "      <td>1.0</td>\n",
       "      <td>0.0</td>\n",
       "      <td>0.0</td>\n",
       "      <td>0.0</td>\n",
       "      <td>0.0</td>\n",
       "      <td>0.0</td>\n",
       "      <td>0.0</td>\n",
       "      <td>1.0</td>\n",
       "      <td>0.0</td>\n",
       "      <td>0.0</td>\n",
       "      <td>0.0</td>\n",
       "      <td>0.0</td>\n",
       "      <td>0.0</td>\n",
       "      <td>0.0</td>\n",
       "      <td>0.0</td>\n",
       "      <td>0.0</td>\n",
       "      <td>0.0</td>\n",
       "      <td>0.0</td>\n",
       "      <td>0.0</td>\n",
       "      <td>0.0</td>\n",
       "      <td>1.0</td>\n",
       "      <td>0.0</td>\n",
       "      <td>0.0</td>\n",
       "      <td>0.0</td>\n",
       "      <td>0.0</td>\n",
       "      <td>0.0</td>\n",
       "      <td>0.0</td>\n",
       "      <td>0.0</td>\n",
       "    </tr>\n",
       "    <tr>\n",
       "      <th>4</th>\n",
       "      <td>0.002937</td>\n",
       "      <td>0.405063</td>\n",
       "      <td>1.0</td>\n",
       "      <td>0.002317</td>\n",
       "      <td>0.0</td>\n",
       "      <td>0.000449</td>\n",
       "      <td>0.008195</td>\n",
       "      <td>0.000411</td>\n",
       "      <td>1.0</td>\n",
       "      <td>1.0</td>\n",
       "      <td>0.0</td>\n",
       "      <td>0.983616</td>\n",
       "      <td>0.018182</td>\n",
       "      <td>0.090909</td>\n",
       "      <td>0.095890</td>\n",
       "      <td>0.166667</td>\n",
       "      <td>0.25</td>\n",
       "      <td>0.0</td>\n",
       "      <td>0.5</td>\n",
       "      <td>0.5</td>\n",
       "      <td>1.0</td>\n",
       "      <td>0.0</td>\n",
       "      <td>1.0</td>\n",
       "      <td>1.0</td>\n",
       "      <td>0.0</td>\n",
       "      <td>0.0</td>\n",
       "      <td>0.0</td>\n",
       "      <td>0.0</td>\n",
       "      <td>0.0</td>\n",
       "      <td>0.0</td>\n",
       "      <td>0.0</td>\n",
       "      <td>0.0</td>\n",
       "      <td>0.0</td>\n",
       "      <td>0.0</td>\n",
       "      <td>0.0</td>\n",
       "      <td>1.0</td>\n",
       "      <td>0.0</td>\n",
       "      <td>0.0</td>\n",
       "      <td>0.0</td>\n",
       "      <td>0.0</td>\n",
       "      <td>0.0</td>\n",
       "      <td>0.0</td>\n",
       "      <td>0.0</td>\n",
       "      <td>1.0</td>\n",
       "      <td>0.0</td>\n",
       "      <td>0.0</td>\n",
       "      <td>0.0</td>\n",
       "      <td>0.0</td>\n",
       "      <td>0.0</td>\n",
       "      <td>0.0</td>\n",
       "      <td>0.0</td>\n",
       "      <td>0.0</td>\n",
       "      <td>0.0</td>\n",
       "      <td>0.0</td>\n",
       "      <td>0.0</td>\n",
       "      <td>0.0</td>\n",
       "      <td>0.0</td>\n",
       "      <td>1.0</td>\n",
       "      <td>0.0</td>\n",
       "      <td>0.0</td>\n",
       "      <td>0.0</td>\n",
       "      <td>0.0</td>\n",
       "      <td>0.0</td>\n",
       "      <td>0.0</td>\n",
       "      <td>0.0</td>\n",
       "      <td>0.0</td>\n",
       "      <td>1.0</td>\n",
       "      <td>0.0</td>\n",
       "      <td>0.0</td>\n",
       "      <td>0.0</td>\n",
       "      <td>0.0</td>\n",
       "      <td>0.0</td>\n",
       "      <td>0.0</td>\n",
       "      <td>0.0</td>\n",
       "      <td>1.0</td>\n",
       "      <td>0.0</td>\n",
       "      <td>0.0</td>\n",
       "      <td>0.0</td>\n",
       "      <td>0.0</td>\n",
       "      <td>0.0</td>\n",
       "      <td>0.0</td>\n",
       "      <td>0.0</td>\n",
       "      <td>0.0</td>\n",
       "      <td>0.0</td>\n",
       "      <td>0.0</td>\n",
       "      <td>0.0</td>\n",
       "      <td>1.0</td>\n",
       "      <td>0.0</td>\n",
       "      <td>0.0</td>\n",
       "      <td>0.0</td>\n",
       "      <td>0.0</td>\n",
       "      <td>0.0</td>\n",
       "      <td>0.0</td>\n",
       "      <td>0.0</td>\n",
       "      <td>1.0</td>\n",
       "      <td>1.0</td>\n",
       "      <td>0.0</td>\n",
       "      <td>0.0</td>\n",
       "      <td>0.0</td>\n",
       "      <td>0.0</td>\n",
       "      <td>0.0</td>\n",
       "      <td>0.0</td>\n",
       "      <td>0.0</td>\n",
       "      <td>0.0</td>\n",
       "      <td>0.0</td>\n",
       "      <td>0.0</td>\n",
       "      <td>0.0</td>\n",
       "      <td>0.0</td>\n",
       "      <td>0.0</td>\n",
       "      <td>0.0</td>\n",
       "      <td>1.0</td>\n",
       "      <td>1.0</td>\n",
       "      <td>0.0</td>\n",
       "      <td>0.0</td>\n",
       "      <td>0.0</td>\n",
       "      <td>0.0</td>\n",
       "      <td>0.0</td>\n",
       "      <td>1.0</td>\n",
       "      <td>0.0</td>\n",
       "      <td>0.0</td>\n",
       "      <td>0.0</td>\n",
       "      <td>0.0</td>\n",
       "      <td>0.0</td>\n",
       "      <td>0.0</td>\n",
       "      <td>0.0</td>\n",
       "      <td>0.0</td>\n",
       "      <td>0.0</td>\n",
       "      <td>0.0</td>\n",
       "      <td>0.0</td>\n",
       "      <td>1.0</td>\n",
       "      <td>1.0</td>\n",
       "      <td>0.0</td>\n",
       "      <td>0.0</td>\n",
       "      <td>0.0</td>\n",
       "      <td>0.0</td>\n",
       "      <td>0.0</td>\n",
       "      <td>0.0</td>\n",
       "      <td>0.0</td>\n",
       "      <td>1.0</td>\n",
       "      <td>1.0</td>\n",
       "      <td>0.0</td>\n",
       "      <td>0.0</td>\n",
       "      <td>0.0</td>\n",
       "      <td>0.0</td>\n",
       "      <td>0.0</td>\n",
       "      <td>0.0</td>\n",
       "      <td>0.0</td>\n",
       "      <td>0.0</td>\n",
       "      <td>0.0</td>\n",
       "      <td>0.0</td>\n",
       "      <td>0.0</td>\n",
       "      <td>0.0</td>\n",
       "      <td>0.0</td>\n",
       "      <td>1.0</td>\n",
       "      <td>0.0</td>\n",
       "      <td>0.0</td>\n",
       "      <td>0.0</td>\n",
       "      <td>0.0</td>\n",
       "      <td>0.0</td>\n",
       "      <td>0.0</td>\n",
       "      <td>0.0</td>\n",
       "      <td>0.0</td>\n",
       "      <td>0.0</td>\n",
       "      <td>1.0</td>\n",
       "      <td>0.0</td>\n",
       "      <td>0.0</td>\n",
       "      <td>1.0</td>\n",
       "      <td>0.0</td>\n",
       "      <td>0.0</td>\n",
       "      <td>0.0</td>\n",
       "      <td>0.0</td>\n",
       "      <td>0.0</td>\n",
       "      <td>0.0</td>\n",
       "      <td>0.0</td>\n",
       "      <td>0.0</td>\n",
       "      <td>0.0</td>\n",
       "      <td>0.0</td>\n",
       "      <td>0.0</td>\n",
       "      <td>0.0</td>\n",
       "      <td>0.0</td>\n",
       "      <td>0.0</td>\n",
       "      <td>0.0</td>\n",
       "      <td>1.0</td>\n",
       "      <td>0.0</td>\n",
       "      <td>0.0</td>\n",
       "      <td>0.0</td>\n",
       "    </tr>\n",
       "  </tbody>\n",
       "</table>\n",
       "</div>"
      ],
      "text/plain": [
       "   action_count       age  apple_device  avg_duration  desktop_device  \\\n",
       "0      0.046623  0.772152           0.0      0.029229             1.0   \n",
       "1      0.004405  0.405063           1.0      0.026270             1.0   \n",
       "2      0.005874  0.405063           0.0      0.077012             1.0   \n",
       "3      0.058737  0.405063           0.0      0.026123             1.0   \n",
       "4      0.002937  0.405063           1.0      0.002317             0.0   \n",
       "\n",
       "   duration  max_duration  min_duration  mobile_device  signup_flow  \\\n",
       "0  0.089969      0.337160      0.000039            0.0          0.0   \n",
       "1  0.007641      0.064436      0.000704            0.0          0.0   \n",
       "2  0.029865      0.187114      0.001037            0.0          0.0   \n",
       "3  0.101302      0.406836      0.000000            0.0          0.0   \n",
       "4  0.000449      0.008195      0.000411            1.0          1.0   \n",
       "\n",
       "   tablet_device  timestamp_first_active  unique_action_details  \\\n",
       "0            0.0                0.983616               0.181818   \n",
       "1            0.0                0.983616               0.145455   \n",
       "2            0.0                0.983616               0.145455   \n",
       "3            0.0                0.983616               0.236364   \n",
       "4            0.0                0.983616               0.018182   \n",
       "\n",
       "   unique_action_types  unique_actions  unique_device_types  \\\n",
       "0             0.636364        0.232877             0.333333   \n",
       "1             0.363636        0.095890             0.166667   \n",
       "2             0.545455        0.178082             0.333333   \n",
       "3             0.636364        0.260274             0.500000   \n",
       "4             0.090909        0.095890             0.166667   \n",
       "\n",
       "   action_count_quartile  age_group  duration_group  avg_duration_group  \\\n",
       "0                   1.00        1.0             1.0                 1.0   \n",
       "1                   0.25        0.0             0.5                 1.0   \n",
       "2                   0.25        0.0             1.0                 1.0   \n",
       "3                   1.00        0.0             1.0                 1.0   \n",
       "4                   0.25        0.0             0.5                 0.5   \n",
       "\n",
       "   signup_flow_simple  business_day_account_created  holiday_account_created  \\\n",
       "0                 0.0                           0.0                      1.0   \n",
       "1                 0.0                           0.0                      1.0   \n",
       "2                 0.0                           0.0                      1.0   \n",
       "3                 0.0                           0.0                      1.0   \n",
       "4                 1.0                           0.0                      1.0   \n",
       "\n",
       "   business_day_first_booking  holiday_first_booking  not_English  \\\n",
       "0                         0.0                    0.0          0.0   \n",
       "1                         0.0                    0.0          0.0   \n",
       "2                         0.0                    0.0          0.0   \n",
       "3                         0.0                    0.0          0.0   \n",
       "4                         1.0                    0.0          0.0   \n",
       "\n",
       "   action_Other  action_active  action_ajax_refresh_subtotal  \\\n",
       "0           0.0            0.0                           0.0   \n",
       "1           0.0            0.0                           0.0   \n",
       "2           0.0            0.0                           0.0   \n",
       "3           0.0            0.0                           1.0   \n",
       "4           0.0            0.0                           0.0   \n",
       "\n",
       "   action_ask_question  action_authenticate  action_create  action_dashboard  \\\n",
       "0                  0.0                  0.0            0.0               0.0   \n",
       "1                  0.0                  0.0            0.0               0.0   \n",
       "2                  0.0                  0.0            1.0               0.0   \n",
       "3                  0.0                  0.0            0.0               0.0   \n",
       "4                  0.0                  0.0            0.0               0.0   \n",
       "\n",
       "   action_edit  action_header_userpic  action_index  action_missing  \\\n",
       "0          0.0                    0.0           0.0             0.0   \n",
       "1          0.0                    0.0           0.0             0.0   \n",
       "2          0.0                    0.0           0.0             0.0   \n",
       "3          0.0                    0.0           0.0             0.0   \n",
       "4          0.0                    0.0           1.0             0.0   \n",
       "\n",
       "   action_personalize  action_requested  action_search  action_search_results  \\\n",
       "0                 0.0               0.0            0.0                    0.0   \n",
       "1                 0.0               0.0            0.0                    0.0   \n",
       "2                 0.0               0.0            0.0                    0.0   \n",
       "3                 0.0               0.0            0.0                    0.0   \n",
       "4                 0.0               0.0            0.0                    0.0   \n",
       "\n",
       "   action_show  action_update  action_detail_-unknown-  action_detail_Other  \\\n",
       "0          1.0            0.0                      0.0                  0.0   \n",
       "1          1.0            0.0                      0.0                  0.0   \n",
       "2          0.0            0.0                      1.0                  0.0   \n",
       "3          0.0            0.0                      0.0                  0.0   \n",
       "4          0.0            0.0                      1.0                  0.0   \n",
       "\n",
       "   action_detail_change_trip_characteristics  action_detail_contact_host  \\\n",
       "0                                        0.0                         0.0   \n",
       "1                                        0.0                         0.0   \n",
       "2                                        0.0                         0.0   \n",
       "3                                        0.0                         0.0   \n",
       "4                                        0.0                         0.0   \n",
       "\n",
       "   action_detail_create_user  action_detail_dashboard  \\\n",
       "0                        0.0                      0.0   \n",
       "1                        0.0                      0.0   \n",
       "2                        0.0                      0.0   \n",
       "3                        0.0                      0.0   \n",
       "4                        0.0                      0.0   \n",
       "\n",
       "   action_detail_header_userpic  action_detail_message_thread  \\\n",
       "0                           0.0                           0.0   \n",
       "1                           0.0                           0.0   \n",
       "2                           0.0                           0.0   \n",
       "3                           0.0                           0.0   \n",
       "4                           0.0                           0.0   \n",
       "\n",
       "   action_detail_missing  action_detail_p3  action_detail_p5  \\\n",
       "0                    0.0               1.0               0.0   \n",
       "1                    0.0               1.0               0.0   \n",
       "2                    0.0               0.0               0.0   \n",
       "3                    0.0               0.0               0.0   \n",
       "4                    0.0               0.0               0.0   \n",
       "\n",
       "   action_detail_update_listing  action_detail_user_profile  \\\n",
       "0                           0.0                         0.0   \n",
       "1                           0.0                         0.0   \n",
       "2                           0.0                         0.0   \n",
       "3                           0.0                         0.0   \n",
       "4                           0.0                         0.0   \n",
       "\n",
       "   action_detail_view_search_results  action_type_-unknown-  \\\n",
       "0                                0.0                    0.0   \n",
       "1                                0.0                    0.0   \n",
       "2                                0.0                    1.0   \n",
       "3                                1.0                    0.0   \n",
       "4                                0.0                    1.0   \n",
       "\n",
       "   action_type_Other  action_type_click  action_type_data  \\\n",
       "0                0.0                0.0               0.0   \n",
       "1                0.0                0.0               0.0   \n",
       "2                0.0                0.0               0.0   \n",
       "3                0.0                1.0               0.0   \n",
       "4                0.0                0.0               0.0   \n",
       "\n",
       "   action_type_missing  action_type_submit  action_type_view  \\\n",
       "0                  0.0                 0.0               1.0   \n",
       "1                  0.0                 0.0               1.0   \n",
       "2                  0.0                 0.0               0.0   \n",
       "3                  0.0                 0.0               0.0   \n",
       "4                  0.0                 0.0               0.0   \n",
       "\n",
       "   affiliate_channel_api  affiliate_channel_content  affiliate_channel_direct  \\\n",
       "0                    0.0                        0.0                       0.0   \n",
       "1                    0.0                        0.0                       1.0   \n",
       "2                    0.0                        0.0                       0.0   \n",
       "3                    0.0                        0.0                       1.0   \n",
       "4                    0.0                        0.0                       1.0   \n",
       "\n",
       "   affiliate_channel_other  affiliate_channel_remarketing  \\\n",
       "0                      0.0                            0.0   \n",
       "1                      0.0                            0.0   \n",
       "2                      0.0                            0.0   \n",
       "3                      0.0                            0.0   \n",
       "4                      0.0                            0.0   \n",
       "\n",
       "   affiliate_channel_sem-brand  affiliate_channel_sem-non-brand  \\\n",
       "0                          0.0                              1.0   \n",
       "1                          0.0                              0.0   \n",
       "2                          1.0                              0.0   \n",
       "3                          0.0                              0.0   \n",
       "4                          0.0                              0.0   \n",
       "\n",
       "   affiliate_channel_seo  affiliate_provider_bing  \\\n",
       "0                    0.0                      0.0   \n",
       "1                    0.0                      0.0   \n",
       "2                    0.0                      0.0   \n",
       "3                    0.0                      0.0   \n",
       "4                    0.0                      0.0   \n",
       "\n",
       "   affiliate_provider_craigslist  affiliate_provider_direct  \\\n",
       "0                            0.0                        0.0   \n",
       "1                            0.0                        1.0   \n",
       "2                            0.0                        0.0   \n",
       "3                            0.0                        1.0   \n",
       "4                            0.0                        1.0   \n",
       "\n",
       "   affiliate_provider_facebook  affiliate_provider_google  \\\n",
       "0                          0.0                        1.0   \n",
       "1                          0.0                        0.0   \n",
       "2                          0.0                        1.0   \n",
       "3                          0.0                        0.0   \n",
       "4                          0.0                        0.0   \n",
       "\n",
       "   affiliate_provider_other  device_type_-unknown-  \\\n",
       "0                       0.0                    0.0   \n",
       "1                       0.0                    0.0   \n",
       "2                       0.0                    0.0   \n",
       "3                       0.0                    0.0   \n",
       "4                       0.0                    0.0   \n",
       "\n",
       "   device_type_Android App Unknown Phone/Tablet  device_type_Android Phone  \\\n",
       "0                                           0.0                        0.0   \n",
       "1                                           0.0                        0.0   \n",
       "2                                           0.0                        0.0   \n",
       "3                                           0.0                        0.0   \n",
       "4                                           0.0                        0.0   \n",
       "\n",
       "   device_type_Mac Desktop  device_type_Other  device_type_Tablet  \\\n",
       "0                      0.0                0.0                 0.0   \n",
       "1                      1.0                0.0                 0.0   \n",
       "2                      0.0                0.0                 0.0   \n",
       "3                      0.0                0.0                 0.0   \n",
       "4                      0.0                0.0                 0.0   \n",
       "\n",
       "   device_type_Windows Desktop  device_type_iPad Tablet  device_type_iPhone  \\\n",
       "0                          1.0                      0.0                 0.0   \n",
       "1                          0.0                      0.0                 0.0   \n",
       "2                          1.0                      0.0                 0.0   \n",
       "3                          1.0                      0.0                 0.0   \n",
       "4                          0.0                      0.0                 1.0   \n",
       "\n",
       "   device_type_missing  first_affiliate_tracked_linked  \\\n",
       "0                  0.0                             0.0   \n",
       "1                  0.0                             0.0   \n",
       "2                  0.0                             0.0   \n",
       "3                  0.0                             1.0   \n",
       "4                  0.0                             0.0   \n",
       "\n",
       "   first_affiliate_tracked_local ops  first_affiliate_tracked_marketing  \\\n",
       "0                                0.0                                0.0   \n",
       "1                                0.0                                0.0   \n",
       "2                                0.0                                0.0   \n",
       "3                                0.0                                0.0   \n",
       "4                                0.0                                0.0   \n",
       "\n",
       "   first_affiliate_tracked_omg  first_affiliate_tracked_product  \\\n",
       "0                          1.0                              0.0   \n",
       "1                          0.0                              0.0   \n",
       "2                          1.0                              0.0   \n",
       "3                          0.0                              0.0   \n",
       "4                          0.0                              0.0   \n",
       "\n",
       "   first_affiliate_tracked_tracked-other  first_affiliate_tracked_untracked  \\\n",
       "0                                    0.0                                0.0   \n",
       "1                                    0.0                                1.0   \n",
       "2                                    0.0                                0.0   \n",
       "3                                    0.0                                0.0   \n",
       "4                                    0.0                                1.0   \n",
       "\n",
       "   first_browser_-unknown-  first_browser_Chrome  first_browser_Firefox  \\\n",
       "0                      0.0                   1.0                    0.0   \n",
       "1                      0.0                   0.0                    1.0   \n",
       "2                      0.0                   0.0                    1.0   \n",
       "3                      0.0                   1.0                    0.0   \n",
       "4                      1.0                   0.0                    0.0   \n",
       "\n",
       "   first_browser_IE  first_browser_Mobile  first_browser_Other  \\\n",
       "0               0.0                   0.0                  0.0   \n",
       "1               0.0                   0.0                  0.0   \n",
       "2               0.0                   0.0                  0.0   \n",
       "3               0.0                   0.0                  0.0   \n",
       "4               0.0                   0.0                  0.0   \n",
       "\n",
       "   first_browser_Safari  first_device_type_Android Phone  \\\n",
       "0                   0.0                              0.0   \n",
       "1                   0.0                              0.0   \n",
       "2                   0.0                              0.0   \n",
       "3                   0.0                              0.0   \n",
       "4                   0.0                              0.0   \n",
       "\n",
       "   first_device_type_Android Tablet  first_device_type_Desktop (Other)  \\\n",
       "0                               0.0                                0.0   \n",
       "1                               0.0                                0.0   \n",
       "2                               0.0                                0.0   \n",
       "3                               0.0                                0.0   \n",
       "4                               0.0                                0.0   \n",
       "\n",
       "   first_device_type_Mac Desktop  first_device_type_Other/Unknown  \\\n",
       "0                            0.0                              0.0   \n",
       "1                            1.0                              0.0   \n",
       "2                            0.0                              0.0   \n",
       "3                            0.0                              0.0   \n",
       "4                            0.0                              0.0   \n",
       "\n",
       "   first_device_type_SmartPhone (Other)  first_device_type_Windows Desktop  \\\n",
       "0                                   0.0                                1.0   \n",
       "1                                   0.0                                0.0   \n",
       "2                                   0.0                                1.0   \n",
       "3                                   0.0                                1.0   \n",
       "4                                   0.0                                0.0   \n",
       "\n",
       "   first_device_type_iPad  first_device_type_iPhone  gender_-unknown-  \\\n",
       "0                     0.0                       0.0               0.0   \n",
       "1                     0.0                       0.0               1.0   \n",
       "2                     0.0                       0.0               1.0   \n",
       "3                     0.0                       0.0               1.0   \n",
       "4                     0.0                       1.0               1.0   \n",
       "\n",
       "   gender_FEMALE  gender_MALE  gender_OTHER  language_Other  language_de  \\\n",
       "0            0.0          1.0           0.0             0.0          0.0   \n",
       "1            0.0          0.0           0.0             0.0          0.0   \n",
       "2            0.0          0.0           0.0             0.0          0.0   \n",
       "3            0.0          0.0           0.0             0.0          0.0   \n",
       "4            0.0          0.0           0.0             0.0          0.0   \n",
       "\n",
       "   language_en  language_es  language_fr  language_it  language_ja  \\\n",
       "0          1.0          0.0          0.0          0.0          0.0   \n",
       "1          1.0          0.0          0.0          0.0          0.0   \n",
       "2          1.0          0.0          0.0          0.0          0.0   \n",
       "3          1.0          0.0          0.0          0.0          0.0   \n",
       "4          1.0          0.0          0.0          0.0          0.0   \n",
       "\n",
       "   language_ko  language_pt  language_ru  language_zh  signup_app_Android  \\\n",
       "0          0.0          0.0          0.0          0.0                 0.0   \n",
       "1          0.0          0.0          0.0          0.0                 0.0   \n",
       "2          0.0          0.0          0.0          0.0                 0.0   \n",
       "3          0.0          0.0          0.0          0.0                 0.0   \n",
       "4          0.0          0.0          0.0          0.0                 0.0   \n",
       "\n",
       "   signup_app_Moweb  signup_app_Web  signup_app_iOS  signup_method_basic  \\\n",
       "0               0.0             1.0             0.0                  1.0   \n",
       "1               0.0             1.0             0.0                  1.0   \n",
       "2               0.0             1.0             0.0                  1.0   \n",
       "3               0.0             1.0             0.0                  1.0   \n",
       "4               0.0             0.0             1.0                  1.0   \n",
       "\n",
       "   signup_method_facebook  signup_method_google  signup_method_weibo  \\\n",
       "0                     0.0                   0.0                  0.0   \n",
       "1                     0.0                   0.0                  0.0   \n",
       "2                     0.0                   0.0                  0.0   \n",
       "3                     0.0                   0.0                  0.0   \n",
       "4                     0.0                   0.0                  0.0   \n",
       "\n",
       "   year_account_created_2010  year_account_created_2011  \\\n",
       "0                        0.0                        0.0   \n",
       "1                        0.0                        0.0   \n",
       "2                        0.0                        0.0   \n",
       "3                        0.0                        0.0   \n",
       "4                        0.0                        0.0   \n",
       "\n",
       "   year_account_created_2012  year_account_created_2013  \\\n",
       "0                        0.0                        0.0   \n",
       "1                        0.0                        0.0   \n",
       "2                        0.0                        0.0   \n",
       "3                        0.0                        0.0   \n",
       "4                        0.0                        0.0   \n",
       "\n",
       "   year_account_created_2014  month_account_created_1  \\\n",
       "0                        1.0                      1.0   \n",
       "1                        1.0                      1.0   \n",
       "2                        1.0                      1.0   \n",
       "3                        1.0                      1.0   \n",
       "4                        1.0                      1.0   \n",
       "\n",
       "   month_account_created_2  month_account_created_3  month_account_created_4  \\\n",
       "0                      0.0                      0.0                      0.0   \n",
       "1                      0.0                      0.0                      0.0   \n",
       "2                      0.0                      0.0                      0.0   \n",
       "3                      0.0                      0.0                      0.0   \n",
       "4                      0.0                      0.0                      0.0   \n",
       "\n",
       "   month_account_created_5  month_account_created_6  month_account_created_7  \\\n",
       "0                      0.0                      0.0                      0.0   \n",
       "1                      0.0                      0.0                      0.0   \n",
       "2                      0.0                      0.0                      0.0   \n",
       "3                      0.0                      0.0                      0.0   \n",
       "4                      0.0                      0.0                      0.0   \n",
       "\n",
       "   month_account_created_8  month_account_created_9  month_account_created_10  \\\n",
       "0                      0.0                      0.0                       0.0   \n",
       "1                      0.0                      0.0                       0.0   \n",
       "2                      0.0                      0.0                       0.0   \n",
       "3                      0.0                      0.0                       0.0   \n",
       "4                      0.0                      0.0                       0.0   \n",
       "\n",
       "   month_account_created_11  month_account_created_12  \\\n",
       "0                       0.0                       0.0   \n",
       "1                       0.0                       0.0   \n",
       "2                       0.0                       0.0   \n",
       "3                       0.0                       0.0   \n",
       "4                       0.0                       0.0   \n",
       "\n",
       "   weekday_account_created_0  weekday_account_created_1  \\\n",
       "0                        0.0                        0.0   \n",
       "1                        0.0                        0.0   \n",
       "2                        0.0                        0.0   \n",
       "3                        0.0                        0.0   \n",
       "4                        0.0                        0.0   \n",
       "\n",
       "   weekday_account_created_2  weekday_account_created_3  \\\n",
       "0                        1.0                        0.0   \n",
       "1                        1.0                        0.0   \n",
       "2                        1.0                        0.0   \n",
       "3                        1.0                        0.0   \n",
       "4                        1.0                        0.0   \n",
       "\n",
       "   weekday_account_created_4  weekday_account_created_5  \\\n",
       "0                        0.0                        0.0   \n",
       "1                        0.0                        0.0   \n",
       "2                        0.0                        0.0   \n",
       "3                        0.0                        0.0   \n",
       "4                        0.0                        0.0   \n",
       "\n",
       "   weekday_account_created_6  year_first_booking_2009.0  \\\n",
       "0                        0.0                        0.0   \n",
       "1                        0.0                        1.0   \n",
       "2                        0.0                        1.0   \n",
       "3                        0.0                        1.0   \n",
       "4                        0.0                        0.0   \n",
       "\n",
       "   year_first_booking_2010.0  year_first_booking_2011.0  \\\n",
       "0                        0.0                        0.0   \n",
       "1                        0.0                        0.0   \n",
       "2                        0.0                        0.0   \n",
       "3                        0.0                        0.0   \n",
       "4                        0.0                        0.0   \n",
       "\n",
       "   year_first_booking_2012.0  year_first_booking_2013.0  \\\n",
       "0                        0.0                        0.0   \n",
       "1                        0.0                        0.0   \n",
       "2                        0.0                        0.0   \n",
       "3                        0.0                        0.0   \n",
       "4                        0.0                        0.0   \n",
       "\n",
       "   year_first_booking_2014.0  year_first_booking_2015.0  \\\n",
       "0                        1.0                        0.0   \n",
       "1                        0.0                        0.0   \n",
       "2                        0.0                        0.0   \n",
       "3                        0.0                        0.0   \n",
       "4                        1.0                        0.0   \n",
       "\n",
       "   month_first_booking_0.0  month_first_booking_1.0  month_first_booking_2.0  \\\n",
       "0                      0.0                      1.0                      0.0   \n",
       "1                      1.0                      0.0                      0.0   \n",
       "2                      1.0                      0.0                      0.0   \n",
       "3                      1.0                      0.0                      0.0   \n",
       "4                      0.0                      1.0                      0.0   \n",
       "\n",
       "   month_first_booking_3.0  month_first_booking_4.0  month_first_booking_5.0  \\\n",
       "0                      0.0                      0.0                      0.0   \n",
       "1                      0.0                      0.0                      0.0   \n",
       "2                      0.0                      0.0                      0.0   \n",
       "3                      0.0                      0.0                      0.0   \n",
       "4                      0.0                      0.0                      0.0   \n",
       "\n",
       "   month_first_booking_6.0  month_first_booking_7.0  month_first_booking_8.0  \\\n",
       "0                      0.0                      0.0                      0.0   \n",
       "1                      0.0                      0.0                      0.0   \n",
       "2                      0.0                      0.0                      0.0   \n",
       "3                      0.0                      0.0                      0.0   \n",
       "4                      0.0                      0.0                      0.0   \n",
       "\n",
       "   month_first_booking_9.0  month_first_booking_10.0  \\\n",
       "0                      0.0                       0.0   \n",
       "1                      0.0                       0.0   \n",
       "2                      0.0                       0.0   \n",
       "3                      0.0                       0.0   \n",
       "4                      0.0                       0.0   \n",
       "\n",
       "   month_first_booking_11.0  month_first_booking_12.0  \\\n",
       "0                       0.0                       0.0   \n",
       "1                       0.0                       0.0   \n",
       "2                       0.0                       0.0   \n",
       "3                       0.0                       0.0   \n",
       "4                       0.0                       0.0   \n",
       "\n",
       "   weekday_first_booking_0.0  weekday_first_booking_1.0  \\\n",
       "0                        0.0                        0.0   \n",
       "1                        1.0                        0.0   \n",
       "2                        1.0                        0.0   \n",
       "3                        1.0                        0.0   \n",
       "4                        0.0                        0.0   \n",
       "\n",
       "   weekday_first_booking_2.0  weekday_first_booking_3.0  \\\n",
       "0                        0.0                        0.0   \n",
       "1                        0.0                        0.0   \n",
       "2                        0.0                        0.0   \n",
       "3                        0.0                        0.0   \n",
       "4                        0.0                        0.0   \n",
       "\n",
       "   weekday_first_booking_4.0  weekday_first_booking_5.0  \\\n",
       "0                        0.0                        0.0   \n",
       "1                        0.0                        0.0   \n",
       "2                        0.0                        0.0   \n",
       "3                        0.0                        0.0   \n",
       "4                        1.0                        0.0   \n",
       "\n",
       "   weekday_first_booking_6.0  weekday_first_booking_7.0  \n",
       "0                        1.0                        0.0  \n",
       "1                        0.0                        0.0  \n",
       "2                        0.0                        0.0  \n",
       "3                        0.0                        0.0  \n",
       "4                        0.0                        0.0  "
      ]
     },
     "execution_count": 124,
     "metadata": {},
     "output_type": "execute_result"
    }
   ],
   "source": [
    "df.head()"
   ]
  },
  {
   "cell_type": "code",
   "execution_count": null,
   "metadata": {
    "collapsed": false
   },
   "outputs": [],
   "source": [
    "# Split df into training and testing data\n",
    "df_train = df[:len(train)]\n",
    "df_test = df[len(train):]\n",
    "\n",
    "# Shorten labels to length of the training data\n",
    "y = labels[:len(train)]"
   ]
  },
  {
   "cell_type": "code",
   "execution_count": null,
   "metadata": {
    "collapsed": false,
    "scrolled": true
   },
   "outputs": [
    {
     "data": {
      "text/html": [
       "<div>\n",
       "<table border=\"1\" class=\"dataframe\">\n",
       "  <thead>\n",
       "    <tr style=\"text-align: right;\">\n",
       "      <th></th>\n",
       "      <th>country_destination_AU</th>\n",
       "      <th>country_destination_CA</th>\n",
       "      <th>country_destination_DE</th>\n",
       "      <th>country_destination_ES</th>\n",
       "      <th>country_destination_FR</th>\n",
       "      <th>country_destination_GB</th>\n",
       "      <th>country_destination_IT</th>\n",
       "      <th>country_destination_NDF</th>\n",
       "      <th>country_destination_NL</th>\n",
       "      <th>country_destination_PT</th>\n",
       "      <th>country_destination_US</th>\n",
       "      <th>country_destination_other</th>\n",
       "    </tr>\n",
       "  </thead>\n",
       "  <tbody>\n",
       "    <tr>\n",
       "      <th>0</th>\n",
       "      <td>0.0</td>\n",
       "      <td>0.0</td>\n",
       "      <td>0.0</td>\n",
       "      <td>0.0</td>\n",
       "      <td>0.0</td>\n",
       "      <td>0.0</td>\n",
       "      <td>0.0</td>\n",
       "      <td>0.0</td>\n",
       "      <td>0.0</td>\n",
       "      <td>0.0</td>\n",
       "      <td>0.0</td>\n",
       "      <td>1.0</td>\n",
       "    </tr>\n",
       "    <tr>\n",
       "      <th>1</th>\n",
       "      <td>0.0</td>\n",
       "      <td>0.0</td>\n",
       "      <td>0.0</td>\n",
       "      <td>0.0</td>\n",
       "      <td>0.0</td>\n",
       "      <td>0.0</td>\n",
       "      <td>0.0</td>\n",
       "      <td>1.0</td>\n",
       "      <td>0.0</td>\n",
       "      <td>0.0</td>\n",
       "      <td>0.0</td>\n",
       "      <td>0.0</td>\n",
       "    </tr>\n",
       "    <tr>\n",
       "      <th>2</th>\n",
       "      <td>0.0</td>\n",
       "      <td>0.0</td>\n",
       "      <td>0.0</td>\n",
       "      <td>0.0</td>\n",
       "      <td>0.0</td>\n",
       "      <td>0.0</td>\n",
       "      <td>0.0</td>\n",
       "      <td>1.0</td>\n",
       "      <td>0.0</td>\n",
       "      <td>0.0</td>\n",
       "      <td>0.0</td>\n",
       "      <td>0.0</td>\n",
       "    </tr>\n",
       "    <tr>\n",
       "      <th>3</th>\n",
       "      <td>0.0</td>\n",
       "      <td>0.0</td>\n",
       "      <td>0.0</td>\n",
       "      <td>0.0</td>\n",
       "      <td>0.0</td>\n",
       "      <td>0.0</td>\n",
       "      <td>0.0</td>\n",
       "      <td>1.0</td>\n",
       "      <td>0.0</td>\n",
       "      <td>0.0</td>\n",
       "      <td>0.0</td>\n",
       "      <td>0.0</td>\n",
       "    </tr>\n",
       "    <tr>\n",
       "      <th>4</th>\n",
       "      <td>0.0</td>\n",
       "      <td>0.0</td>\n",
       "      <td>0.0</td>\n",
       "      <td>0.0</td>\n",
       "      <td>0.0</td>\n",
       "      <td>1.0</td>\n",
       "      <td>0.0</td>\n",
       "      <td>0.0</td>\n",
       "      <td>0.0</td>\n",
       "      <td>0.0</td>\n",
       "      <td>0.0</td>\n",
       "      <td>0.0</td>\n",
       "    </tr>\n",
       "  </tbody>\n",
       "</table>\n",
       "</div>"
      ],
      "text/plain": [
       "   country_destination_AU  country_destination_CA  country_destination_DE  \\\n",
       "0                     0.0                     0.0                     0.0   \n",
       "1                     0.0                     0.0                     0.0   \n",
       "2                     0.0                     0.0                     0.0   \n",
       "3                     0.0                     0.0                     0.0   \n",
       "4                     0.0                     0.0                     0.0   \n",
       "\n",
       "   country_destination_ES  country_destination_FR  country_destination_GB  \\\n",
       "0                     0.0                     0.0                     0.0   \n",
       "1                     0.0                     0.0                     0.0   \n",
       "2                     0.0                     0.0                     0.0   \n",
       "3                     0.0                     0.0                     0.0   \n",
       "4                     0.0                     0.0                     1.0   \n",
       "\n",
       "   country_destination_IT  country_destination_NDF  country_destination_NL  \\\n",
       "0                     0.0                      0.0                     0.0   \n",
       "1                     0.0                      1.0                     0.0   \n",
       "2                     0.0                      1.0                     0.0   \n",
       "3                     0.0                      1.0                     0.0   \n",
       "4                     0.0                      0.0                     0.0   \n",
       "\n",
       "   country_destination_PT  country_destination_US  country_destination_other  \n",
       "0                     0.0                     0.0                        1.0  \n",
       "1                     0.0                     0.0                        0.0  \n",
       "2                     0.0                     0.0                        0.0  \n",
       "3                     0.0                     0.0                        0.0  \n",
       "4                     0.0                     0.0                        0.0  "
      ]
     },
     "execution_count": 126,
     "metadata": {},
     "output_type": "execute_result"
    }
   ],
   "source": [
    "# Create dummy features for each country\n",
    "y_dummies = pd.get_dummies(y, drop_first = False)\n",
    "y = pd.concat([y, y_dummies], axis=1)\n",
    "y = y.drop(\"country_destination\", axis = 1)\n",
    "y.head()"
   ]
  },
  {
   "cell_type": "code",
   "execution_count": null,
   "metadata": {
    "collapsed": false
   },
   "outputs": [
    {
     "name": "stdout",
     "output_type": "stream",
     "text": [
      "(213451, 186)\n",
      "(62096, 186)\n",
      "(213451, 12)\n"
     ]
    }
   ],
   "source": [
    "print(df_train.shape)\n",
    "print(df_test.shape)\n",
    "print(y.shape)"
   ]
  },
  {
   "cell_type": "code",
   "execution_count": null,
   "metadata": {
    "collapsed": false
   },
   "outputs": [
    {
     "data": {
      "text/plain": [
       "NDF      124543\n",
       "US        62376\n",
       "other     10094\n",
       "FR         5023\n",
       "IT         2835\n",
       "GB         2324\n",
       "ES         2249\n",
       "CA         1428\n",
       "DE         1061\n",
       "NL          762\n",
       "AU          539\n",
       "PT          217\n",
       "Name: country_destination, dtype: int64"
      ]
     },
     "execution_count": 128,
     "metadata": {},
     "output_type": "execute_result"
    }
   ],
   "source": [
    "# Take a look to see how common each country is.\n",
    "train.country_destination.value_counts() "
   ]
  },
  {
   "cell_type": "code",
   "execution_count": null,
   "metadata": {
    "collapsed": false
   },
   "outputs": [
    {
     "data": {
      "text/plain": [
       "Index(['country_destination_AU', 'country_destination_CA',\n",
       "       'country_destination_DE', 'country_destination_ES',\n",
       "       'country_destination_FR', 'country_destination_GB',\n",
       "       'country_destination_IT', 'country_destination_NDF',\n",
       "       'country_destination_NL', 'country_destination_PT',\n",
       "       'country_destination_US', 'country_destination_other'],\n",
       "      dtype='object')"
      ]
     },
     "execution_count": 129,
     "metadata": {},
     "output_type": "execute_result"
    }
   ],
   "source": [
    "# Find the order of the features\n",
    "y.columns"
   ]
  },
  {
   "cell_type": "markdown",
   "metadata": {},
   "source": [
    "Due to the imbalance in the data, we are going to set the sum of each feature equal to each other. This will help the neural network to train because it won't be biased to reducing the NDF errors since that would have the greatest effect in the cost function."
   ]
  },
  {
   "cell_type": "code",
   "execution_count": null,
   "metadata": {
    "collapsed": false,
    "scrolled": true
   },
   "outputs": [],
   "source": [
    "y[y.columns[0]] *= len(y)/539\n",
    "y[y.columns[1]] *= len(y)/1428\n",
    "y[y.columns[2]] *= len(y)/1061\n",
    "y[y.columns[3]] *= len(y)/2249\n",
    "y[y.columns[4]] *= len(y)/5023\n",
    "y[y.columns[5]] *= len(y)/2324\n",
    "y[y.columns[6]] *= len(y)/2835\n",
    "y[y.columns[7]] *= len(y)/124543\n",
    "y[y.columns[8]] *= len(y)/762\n",
    "y[y.columns[9]] *= len(y)/217\n",
    "y[y.columns[10]] *= len(y)/62376\n",
    "y[y.columns[11]] *= len(y)/10094"
   ]
  },
  {
   "cell_type": "code",
   "execution_count": null,
   "metadata": {
    "collapsed": false
   },
   "outputs": [
    {
     "data": {
      "text/plain": [
       "[213450.99999999805,\n",
       " 213451.00000000515,\n",
       " 213451.00000000218,\n",
       " 213451.00000000844,\n",
       " 213450.99999998632,\n",
       " 213450.99999999162,\n",
       " 213451.00000000955,\n",
       " 213450.99999959889,\n",
       " 213450.99999999884,\n",
       " 213451.00000000067,\n",
       " 213451.00000015536,\n",
       " 213451.00000003129]"
      ]
     },
     "execution_count": 131,
     "metadata": {},
     "output_type": "execute_result"
    }
   ],
   "source": [
    "# Check the sum of each feature\n",
    "totals = []\n",
    "for i in range(12):\n",
    "    totals.append(sum(y[y.columns[i]]))\n",
    "totals"
   ]
  },
  {
   "cell_type": "code",
   "execution_count": null,
   "metadata": {
    "collapsed": false
   },
   "outputs": [],
   "source": [
    "x_train, x_test, y_train, y_test = train_test_split(df_train, y, test_size = 0.2, random_state = 2)"
   ]
  },
  {
   "cell_type": "code",
   "execution_count": null,
   "metadata": {
    "collapsed": false
   },
   "outputs": [],
   "source": [
    "# Tensorflow needs the data in matrices\n",
    "inputX = x_train.as_matrix()\n",
    "inputY = y_train.as_matrix()\n",
    "inputX_test = x_test.as_matrix()\n",
    "inputY_test = y_test.as_matrix()"
   ]
  },
  {
   "cell_type": "code",
   "execution_count": null,
   "metadata": {
    "collapsed": true
   },
   "outputs": [],
   "source": [
    "# Number of input nodes/number of features.\n",
    "input_nodes = 186\n",
    "\n",
    "# Multiplier maintains a fixed ratio of nodes between each layer.\n",
    "mulitplier = 1.33\n",
    "\n",
    "# Number of nodes in each hidden layer\n",
    "hidden_nodes1 = 50\n",
    "hidden_nodes2 = round(hidden_nodes1 * mulitplier)\n",
    "\n",
    "# Percent of nodes to keep during dropout.\n",
    "pkeep = tf.placeholder(tf.float32)"
   ]
  },
  {
   "cell_type": "code",
   "execution_count": null,
   "metadata": {
    "collapsed": false
   },
   "outputs": [],
   "source": [
    "# The standard deviation when setting the values for the weights.\n",
    "std = 1\n",
    "\n",
    "#input\n",
    "features = tf.placeholder(tf.float32, [None, input_nodes])\n",
    "\n",
    "#layer 1\n",
    "W1 = tf.Variable(tf.truncated_normal([input_nodes, hidden_nodes1], stddev = std))\n",
    "b1 = tf.Variable(tf.zeros([hidden_nodes1]))\n",
    "y1 = tf.nn.sigmoid(tf.matmul(features, W1) + b1)\n",
    "\n",
    "#layer 2\n",
    "W2 = tf.Variable(tf.truncated_normal([hidden_nodes1, hidden_nodes2], stddev = std))\n",
    "b2 = tf.Variable(tf.zeros([hidden_nodes2]))\n",
    "y2 = tf.nn.sigmoid(tf.matmul(y1, W2) + b2)\n",
    "#y2 = tf.nn.dropout(y2, pkeep)\n",
    "\n",
    "#layer 3\n",
    "W3 = tf.Variable(tf.truncated_normal([hidden_nodes2, 12], stddev = std)) \n",
    "b3 = tf.Variable(tf.zeros([12]))\n",
    "y3 = tf.nn.softmax(tf.matmul(y2, W3) + b3)\n",
    "\n",
    "#output\n",
    "predictions = y3\n",
    "labels = tf.placeholder(tf.float32, [None, 12])"
   ]
  },
  {
   "cell_type": "code",
   "execution_count": null,
   "metadata": {
    "collapsed": false
   },
   "outputs": [],
   "source": [
    "#Parameters\n",
    "training_epochs = 3000\n",
    "training_dropout = 0.6 # Not using dropout led to the best results.\n",
    "display_step = 10\n",
    "n_samples = inputY.shape[1]\n",
    "batch = tf.Variable(0)\n",
    "\n",
    "learning_rate = tf.train.exponential_decay(\n",
    "  0.05,              #Base learning rate.\n",
    "  batch,             #Current index into the dataset.\n",
    "  len(inputX),       #Decay step.\n",
    "  0.95,              #Decay rate.\n",
    "  staircase=False)"
   ]
  },
  {
   "cell_type": "markdown",
   "metadata": {},
   "source": [
    "Based on the evaluation method of the Kaggle competition, we are going to check the accuracy of the top prediction and the top 5 predictions for each user."
   ]
  },
  {
   "cell_type": "code",
   "execution_count": null,
   "metadata": {
    "collapsed": false
   },
   "outputs": [
    {
     "name": "stdout",
     "output_type": "stream",
     "text": [
      "Accuracy function created.\n"
     ]
    }
   ],
   "source": [
    "# Determine if the predictions are correct\n",
    "correct_prediction = tf.equal(tf.argmax(predictions,1), tf.argmax(labels,1))\n",
    "correct_top5 = tf.nn.in_top_k(predictions, tf.argmax(labels, 1), k = 5)\n",
    "\n",
    "# Calculate the accuracy of the predictions\n",
    "accuracy = tf.reduce_mean(tf.cast(correct_prediction, tf.float32))\n",
    "accuracy_top5 = tf.reduce_mean(tf.cast(correct_top5, tf.float32))\n",
    "\n",
    "print('Accuracy function created.')\n",
    "\n",
    "# Cross entropy\n",
    "cross_entropy = -tf.reduce_sum(labels * tf.log(tf.clip_by_value(predictions,1e-10,1.0)))\n",
    "\n",
    "# Training loss\n",
    "loss = tf.reduce_mean(cross_entropy)\n",
    "\n",
    "#We will optimize our model via AdamOptimizer\n",
    "optimizer = tf.train.AdamOptimizer(learning_rate).minimize(loss)"
   ]
  },
  {
   "cell_type": "code",
   "execution_count": null,
   "metadata": {
    "collapsed": false
   },
   "outputs": [
    {
     "name": "stdout",
     "output_type": "stream",
     "text": [
      "WARNING:tensorflow:From <ipython-input-138-f19d41dba435>:2 in <module>.: initialize_all_variables (from tensorflow.python.ops.variables) is deprecated and will be removed after 2017-03-02.\n",
      "Instructions for updating:\n",
      "Use `tf.global_variables_initializer` instead.\n"
     ]
    }
   ],
   "source": [
    "#Initialize variables and tensorflow session\n",
    "init = tf.initialize_all_variables()\n",
    "session = tf.Session()\n",
    "session.run(init)"
   ]
  },
  {
   "cell_type": "code",
   "execution_count": null,
   "metadata": {
    "collapsed": false,
    "scrolled": true
   },
   "outputs": [
    {
     "name": "stdout",
     "output_type": "stream",
     "text": [
      "WARNING:tensorflow:From <ipython-input-139-6246d5175f43>:9 in <module>.: initialize_all_variables (from tensorflow.python.ops.variables) is deprecated and will be removed after 2017-03-02.\n",
      "Instructions for updating:\n",
      "Use `tf.global_variables_initializer` instead.\n",
      "Epoch: 0 Accuracy = 0.165900 Top 5 Accuracy = 0.509434 Loss =  9022430.000000\n",
      "Epoch: 0 Test-Accuracy = 0.170059 Test-Top 5 Accuracy = 0.512403 Test-Loss =  2246018.000000\n",
      "Epoch: 10 Accuracy = 0.521393 Top 5 Accuracy = 0.650404 Loss =  5307889.000000\n",
      "Epoch: 10 Test-Accuracy = 0.521538 Test-Top 5 Accuracy = 0.651964 Test-Loss =  1341002.750000\n",
      "Epoch: 20 Accuracy = 0.596656 Top 5 Accuracy = 0.671984 Loss =  4771457.000000\n",
      "Epoch: 20 Test-Accuracy = 0.596917 Test-Top 5 Accuracy = 0.674334 Test-Loss =  1207018.000000\n",
      "Epoch: 30 Accuracy = 0.682016 Top 5 Accuracy = 0.849947 Loss =  4566464.500000\n",
      "Epoch: 30 Test-Accuracy = 0.682064 Test-Top 5 Accuracy = 0.850507 Test-Loss =  1164330.750000\n",
      "Epoch: 40 Accuracy = 0.718014 Top 5 Accuracy = 0.891918 Loss =  4473507.500000\n",
      "Epoch: 40 Test-Accuracy = 0.718067 Test-Top 5 Accuracy = 0.889579 Test-Loss =  1148240.000000\n",
      "Epoch: 50 Accuracy = 0.637122 Top 5 Accuracy = 0.859428 Loss =  4422973.000000\n",
      "Epoch: 50 Test-Accuracy = 0.636973 Test-Top 5 Accuracy = 0.857347 Test-Loss =  1146496.500000\n",
      "Epoch: 60 Accuracy = 0.624139 Top 5 Accuracy = 0.827108 Loss =  4371764.000000\n",
      "Epoch: 60 Test-Accuracy = 0.624160 Test-Top 5 Accuracy = 0.824553 Test-Loss =  1149996.125000\n",
      "Epoch: 70 Accuracy = 0.622283 Top 5 Accuracy = 0.819747 Loss =  4315948.500000\n",
      "Epoch: 70 Test-Accuracy = 0.621958 Test-Top 5 Accuracy = 0.816027 Test-Loss =  1153743.000000\n",
      "Epoch: 80 Accuracy = 0.616708 Top 5 Accuracy = 0.802003 Loss =  4252883.000000\n",
      "Epoch: 80 Test-Accuracy = 0.616313 Test-Top 5 Accuracy = 0.796960 Test-Loss =  1160309.500000\n",
      "Epoch: 90 Accuracy = 0.618828 Top 5 Accuracy = 0.809944 Loss =  4182342.250000\n",
      "Epoch: 90 Test-Accuracy = 0.618514 Test-Top 5 Accuracy = 0.802933 Test-Loss =  1168843.250000\n",
      "Epoch: 100 Accuracy = 0.621639 Top 5 Accuracy = 0.821270 Loss =  4105650.500000\n",
      "Epoch: 100 Test-Accuracy = 0.620646 Test-Top 5 Accuracy = 0.813380 Test-Loss =  1178433.125000\n",
      "Epoch: 110 Accuracy = 0.618072 Top 5 Accuracy = 0.815905 Loss =  4027599.500000\n",
      "Epoch: 110 Test-Accuracy = 0.615774 Test-Top 5 Accuracy = 0.808109 Test-Loss =  1189457.125000\n",
      "Epoch: 120 Accuracy = 0.618728 Top 5 Accuracy = 0.820116 Loss =  3952207.500000\n",
      "Epoch: 120 Test-Accuracy = 0.616242 Test-Top 5 Accuracy = 0.811178 Test-Loss =  1201650.625000\n",
      "Epoch: 130 Accuracy = 0.619079 Top 5 Accuracy = 0.828162 Loss =  3886280.000000\n",
      "Epoch: 130 Test-Accuracy = 0.616968 Test-Top 5 Accuracy = 0.818931 Test-Loss =  1216675.000000\n",
      "Epoch: 140 Accuracy = 0.617164 Top 5 Accuracy = 0.826780 Loss =  3831829.250000\n",
      "Epoch: 140 Test-Accuracy = 0.614603 Test-Top 5 Accuracy = 0.815793 Test-Loss =  1230044.000000\n",
      "Epoch: 150 Accuracy = 0.618945 Top 5 Accuracy = 0.835073 Loss =  3784665.000000\n",
      "Epoch: 150 Test-Accuracy = 0.614884 Test-Top 5 Accuracy = 0.823382 Test-Loss =  1247714.000000\n",
      "Epoch: 160 Accuracy = 0.618570 Top 5 Accuracy = 0.835758 Loss =  3740164.250000\n",
      "Epoch: 160 Test-Accuracy = 0.613806 Test-Top 5 Accuracy = 0.823733 Test-Loss =  1259344.750000\n",
      "Epoch: 170 Accuracy = 0.619548 Top 5 Accuracy = 0.841427 Loss =  3696753.000000\n",
      "Epoch: 170 Test-Accuracy = 0.614064 Test-Top 5 Accuracy = 0.829847 Test-Loss =  1275993.500000\n",
      "Epoch: 180 Accuracy = 0.619319 Top 5 Accuracy = 0.842211 Loss =  3655125.000000\n",
      "Epoch: 180 Test-Accuracy = 0.613127 Test-Top 5 Accuracy = 0.829730 Test-Loss =  1289048.625000\n",
      "Epoch: 190 Accuracy = 0.618939 Top 5 Accuracy = 0.845379 Loss =  3613836.500000\n",
      "Epoch: 190 Test-Accuracy = 0.612518 Test-Top 5 Accuracy = 0.832049 Test-Loss =  1302832.875000\n",
      "Epoch: 200 Accuracy = 0.619565 Top 5 Accuracy = 0.852149 Loss =  3573714.000000\n",
      "Epoch: 200 Test-Accuracy = 0.613408 Test-Top 5 Accuracy = 0.838748 Test-Loss =  1317959.250000\n",
      "Epoch: 210 Accuracy = 0.618295 Top 5 Accuracy = 0.849701 Loss =  3533467.500000\n",
      "Epoch: 210 Test-Accuracy = 0.611112 Test-Top 5 Accuracy = 0.835797 Test-Loss =  1332102.000000\n",
      "Epoch: 220 Accuracy = 0.619940 Top 5 Accuracy = 0.859575 Loss =  3494618.250000\n",
      "Epoch: 220 Test-Accuracy = 0.613244 Test-Top 5 Accuracy = 0.846338 Test-Loss =  1346006.500000\n",
      "Epoch: 230 Accuracy = 0.619232 Top 5 Accuracy = 0.855686 Loss =  3456234.000000\n",
      "Epoch: 230 Test-Accuracy = 0.611347 Test-Top 5 Accuracy = 0.843175 Test-Loss =  1356915.125000\n",
      "Epoch: 240 Accuracy = 0.619337 Top 5 Accuracy = 0.855967 Loss =  3419809.000000\n",
      "Epoch: 240 Test-Accuracy = 0.611112 Test-Top 5 Accuracy = 0.843316 Test-Loss =  1371355.750000\n",
      "Epoch: 250 Accuracy = 0.620186 Top 5 Accuracy = 0.861554 Loss =  3388884.500000\n",
      "Epoch: 250 Test-Accuracy = 0.611511 Test-Top 5 Accuracy = 0.849336 Test-Loss =  1388860.750000\n",
      "Epoch: 260 Accuracy = 0.605821 Top 5 Accuracy = 0.819120 Loss =  3545866.000000\n",
      "Epoch: 260 Test-Accuracy = 0.599260 Test-Top 5 Accuracy = 0.804877 Test-Loss =  1530484.250000\n",
      "Epoch: 270 Accuracy = 0.668781 Top 5 Accuracy = 0.948870 Loss =  3421295.000000\n",
      "Epoch: 270 Test-Accuracy = 0.660748 Test-Top 5 Accuracy = 0.935420 Test-Loss =  1489959.000000\n",
      "Epoch: 280 Accuracy = 0.609399 Top 5 Accuracy = 0.813065 Loss =  3357680.250000\n",
      "Epoch: 280 Test-Accuracy = 0.600899 Test-Top 5 Accuracy = 0.798974 Test-Loss =  1430165.750000\n",
      "Epoch: 290 Accuracy = 0.635617 Top 5 Accuracy = 0.907361 Loss =  3300976.500000\n",
      "Epoch: 290 Test-Accuracy = 0.625893 Test-Top 5 Accuracy = 0.892553 Test-Loss =  1440139.250000\n",
      "Epoch: 300 Accuracy = 0.616286 Top 5 Accuracy = 0.846791 Loss =  3264129.750000\n",
      "Epoch: 300 Test-Accuracy = 0.605420 Test-Top 5 Accuracy = 0.831955 Test-Loss =  1438067.625000\n",
      "Epoch: 310 Accuracy = 0.626446 Top 5 Accuracy = 0.886712 Loss =  3236772.500000\n",
      "Epoch: 310 Test-Accuracy = 0.614931 Test-Top 5 Accuracy = 0.871074 Test-Loss =  1444352.750000\n",
      "Epoch: 320 Accuracy = 0.622944 Top 5 Accuracy = 0.874268 Loss =  3211510.000000\n",
      "Epoch: 320 Test-Accuracy = 0.611300 Test-Top 5 Accuracy = 0.857862 Test-Loss =  1459722.125000\n",
      "Epoch: 330 Accuracy = 0.623729 Top 5 Accuracy = 0.877196 Loss =  3188301.750000\n",
      "Epoch: 330 Test-Accuracy = 0.611394 Test-Top 5 Accuracy = 0.861423 Test-Loss =  1469061.375000\n",
      "Epoch: 340 Accuracy = 0.625363 Top 5 Accuracy = 0.883855 Loss =  3166312.000000\n",
      "Epoch: 340 Test-Accuracy = 0.612776 Test-Top 5 Accuracy = 0.867771 Test-Loss =  1480894.250000\n",
      "Epoch: 350 Accuracy = 0.624391 Top 5 Accuracy = 0.881776 Loss =  3145008.500000\n",
      "Epoch: 350 Test-Accuracy = 0.612237 Test-Top 5 Accuracy = 0.864304 Test-Loss =  1491645.125000\n",
      "Epoch: 360 Accuracy = 0.625281 Top 5 Accuracy = 0.885254 Loss =  3124510.000000\n",
      "Epoch: 360 Test-Accuracy = 0.612588 Test-Top 5 Accuracy = 0.867700 Test-Loss =  1503555.000000\n",
      "Epoch: 370 Accuracy = 0.625796 Top 5 Accuracy = 0.887520 Loss =  3104588.500000\n",
      "Epoch: 370 Test-Accuracy = 0.613103 Test-Top 5 Accuracy = 0.869668 Test-Loss =  1516310.125000\n",
      "Epoch: 380 Accuracy = 0.625873 Top 5 Accuracy = 0.887743 Loss =  3085142.000000\n",
      "Epoch: 380 Test-Accuracy = 0.612658 Test-Top 5 Accuracy = 0.869223 Test-Loss =  1529080.250000\n",
      "Epoch: 390 Accuracy = 0.626312 Top 5 Accuracy = 0.890337 Loss =  3065810.750000\n",
      "Epoch: 390 Test-Accuracy = 0.613010 Test-Top 5 Accuracy = 0.871542 Test-Loss =  1541329.000000\n",
      "Epoch: 400 Accuracy = 0.626763 Top 5 Accuracy = 0.891825 Loss =  3046702.250000\n",
      "Epoch: 400 Test-Accuracy = 0.612752 Test-Top 5 Accuracy = 0.872713 Test-Loss =  1553015.000000\n",
      "Epoch: 410 Accuracy = 0.627044 Top 5 Accuracy = 0.893172 Loss =  3027404.000000\n",
      "Epoch: 410 Test-Accuracy = 0.613455 Test-Top 5 Accuracy = 0.873814 Test-Loss =  1564915.250000\n",
      "Epoch: 420 Accuracy = 0.627506 Top 5 Accuracy = 0.894460 Loss =  3008180.000000\n",
      "Epoch: 420 Test-Accuracy = 0.613174 Test-Top 5 Accuracy = 0.875524 Test-Loss =  1576596.500000\n",
      "Epoch: 430 Accuracy = 0.628104 Top 5 Accuracy = 0.895953 Loss =  2989394.000000\n",
      "Epoch: 430 Test-Accuracy = 0.613127 Test-Top 5 Accuracy = 0.877047 Test-Loss =  1588426.000000\n",
      "Epoch: 440 Accuracy = 0.628397 Top 5 Accuracy = 0.897488 Loss =  2971131.000000\n",
      "Epoch: 440 Test-Accuracy = 0.613572 Test-Top 5 Accuracy = 0.878452 Test-Loss =  1599828.250000\n",
      "Epoch: 450 Accuracy = 0.628455 Top 5 Accuracy = 0.900023 Loss =  2979848.000000\n",
      "Epoch: 450 Test-Accuracy = 0.612916 Test-Top 5 Accuracy = 0.881052 Test-Loss =  1611988.500000\n",
      "Epoch: 460 Accuracy = 0.630212 Top 5 Accuracy = 0.904287 Loss =  2936936.750000\n",
      "Epoch: 460 Test-Accuracy = 0.614204 Test-Top 5 Accuracy = 0.884425 Test-Loss =  1620108.375000\n",
      "Epoch: 470 Accuracy = 0.630259 Top 5 Accuracy = 0.903244 Loss =  2924608.750000\n",
      "Epoch: 470 Test-Accuracy = 0.613408 Test-Top 5 Accuracy = 0.883980 Test-Loss =  1630292.500000\n",
      "Epoch: 480 Accuracy = 0.629416 Top 5 Accuracy = 0.902477 Loss =  2905937.000000\n",
      "Epoch: 480 Test-Accuracy = 0.612752 Test-Top 5 Accuracy = 0.882622 Test-Loss =  1641145.000000\n",
      "Epoch: 490 Accuracy = 0.629913 Top 5 Accuracy = 0.903496 Loss =  2888264.750000\n",
      "Epoch: 490 Test-Accuracy = 0.612822 Test-Top 5 Accuracy = 0.883114 Test-Loss =  1652784.000000\n",
      "Epoch: 500 Accuracy = 0.630130 Top 5 Accuracy = 0.905101 Loss =  2872441.500000\n",
      "Epoch: 500 Test-Accuracy = 0.613267 Test-Top 5 Accuracy = 0.884941 Test-Loss =  1664442.250000\n",
      "Epoch: 510 Accuracy = 0.630423 Top 5 Accuracy = 0.906453 Loss =  2857422.500000\n",
      "Epoch: 510 Test-Accuracy = 0.613642 Test-Top 5 Accuracy = 0.886135 Test-Loss =  1675863.750000\n",
      "Epoch: 520 Accuracy = 0.630780 Top 5 Accuracy = 0.907437 Loss =  2842949.250000\n",
      "Epoch: 520 Test-Accuracy = 0.613759 Test-Top 5 Accuracy = 0.887049 Test-Loss =  1687370.625000\n",
      "Epoch: 530 Accuracy = 0.631008 Top 5 Accuracy = 0.908158 Loss =  2828546.500000\n",
      "Epoch: 530 Test-Accuracy = 0.613876 Test-Top 5 Accuracy = 0.887634 Test-Loss =  1698580.375000\n",
      "Epoch: 540 Accuracy = 0.631155 Top 5 Accuracy = 0.909809 Loss =  2814355.000000\n",
      "Epoch: 540 Test-Accuracy = 0.613549 Test-Top 5 Accuracy = 0.888829 Test-Loss =  1709835.875000\n",
      "Epoch: 550 Accuracy = 0.631518 Top 5 Accuracy = 0.911267 Loss =  2800691.750000\n",
      "Epoch: 550 Test-Accuracy = 0.613712 Test-Top 5 Accuracy = 0.890445 Test-Loss =  1720924.250000\n",
      "Epoch: 560 Accuracy = 0.631940 Top 5 Accuracy = 0.912122 Loss =  2787335.750000\n",
      "Epoch: 560 Test-Accuracy = 0.614181 Test-Top 5 Accuracy = 0.891898 Test-Loss =  1731755.875000\n",
      "Epoch: 570 Accuracy = 0.632197 Top 5 Accuracy = 0.913797 Loss =  2774265.750000\n",
      "Epoch: 570 Test-Accuracy = 0.614368 Test-Top 5 Accuracy = 0.893045 Test-Loss =  1742361.250000\n",
      "Epoch: 580 Accuracy = 0.632420 Top 5 Accuracy = 0.914775 Loss =  2761413.500000\n",
      "Epoch: 580 Test-Accuracy = 0.614415 Test-Top 5 Accuracy = 0.893467 Test-Loss =  1753143.250000\n",
      "Epoch: 590 Accuracy = 0.632754 Top 5 Accuracy = 0.915923 Loss =  2751627.500000\n",
      "Epoch: 590 Test-Accuracy = 0.614603 Test-Top 5 Accuracy = 0.895060 Test-Loss =  1765984.125000\n",
      "Epoch: 600 Accuracy = 0.632894 Top 5 Accuracy = 0.916837 Loss =  2748743.500000\n",
      "Epoch: 600 Test-Accuracy = 0.614696 Test-Top 5 Accuracy = 0.894568 Test-Loss =  1775142.500000\n",
      "Epoch: 610 Accuracy = 0.633445 Top 5 Accuracy = 0.918189 Loss =  2729975.000000\n",
      "Epoch: 610 Test-Accuracy = 0.614649 Test-Top 5 Accuracy = 0.896044 Test-Loss =  1782635.500000\n",
      "Epoch: 620 Accuracy = 0.633632 Top 5 Accuracy = 0.918839 Loss =  2715619.500000\n",
      "Epoch: 620 Test-Accuracy = 0.614860 Test-Top 5 Accuracy = 0.896840 Test-Loss =  1796384.750000\n",
      "Epoch: 630 Accuracy = 0.634264 Top 5 Accuracy = 0.920110 Loss =  2702567.500000\n",
      "Epoch: 630 Test-Accuracy = 0.614837 Test-Top 5 Accuracy = 0.897309 Test-Loss =  1808805.250000\n",
      "Epoch: 640 Accuracy = 0.634505 Top 5 Accuracy = 0.921287 Loss =  2691456.000000\n",
      "Epoch: 640 Test-Accuracy = 0.615165 Test-Top 5 Accuracy = 0.898246 Test-Loss =  1822867.625000\n",
      "Epoch: 650 Accuracy = 0.634598 Top 5 Accuracy = 0.922072 Loss =  2681144.750000\n",
      "Epoch: 650 Test-Accuracy = 0.615235 Test-Top 5 Accuracy = 0.898925 Test-Loss =  1836016.250000\n",
      "Epoch: 660 Accuracy = 0.634791 Top 5 Accuracy = 0.923208 Loss =  2670648.750000\n",
      "Epoch: 660 Test-Accuracy = 0.615118 Test-Top 5 Accuracy = 0.899417 Test-Loss =  1848357.250000\n",
      "Epoch: 670 Accuracy = 0.635078 Top 5 Accuracy = 0.924350 Loss =  2660500.000000\n",
      "Epoch: 670 Test-Accuracy = 0.615048 Test-Top 5 Accuracy = 0.900424 Test-Loss =  1860843.750000\n",
      "Epoch: 680 Accuracy = 0.635529 Top 5 Accuracy = 0.925346 Loss =  2650398.250000\n",
      "Epoch: 680 Test-Accuracy = 0.614977 Test-Top 5 Accuracy = 0.901010 Test-Loss =  1874202.125000\n",
      "Epoch: 690 Accuracy = 0.635623 Top 5 Accuracy = 0.926306 Loss =  2640422.250000\n",
      "Epoch: 690 Test-Accuracy = 0.615048 Test-Top 5 Accuracy = 0.902743 Test-Loss =  1887367.750000\n",
      "Epoch: 700 Accuracy = 0.635676 Top 5 Accuracy = 0.927266 Loss =  2630415.250000\n",
      "Epoch: 700 Test-Accuracy = 0.614486 Test-Top 5 Accuracy = 0.903516 Test-Loss =  1900982.250000\n",
      "Epoch: 710 Accuracy = 0.635775 Top 5 Accuracy = 0.928145 Loss =  2620514.500000\n",
      "Epoch: 710 Test-Accuracy = 0.614439 Test-Top 5 Accuracy = 0.904851 Test-Loss =  1914457.500000\n",
      "Epoch: 720 Accuracy = 0.636045 Top 5 Accuracy = 0.929140 Loss =  2610700.500000\n",
      "Epoch: 720 Test-Accuracy = 0.613712 Test-Top 5 Accuracy = 0.906327 Test-Loss =  1928652.500000\n",
      "Epoch: 730 Accuracy = 0.636121 Top 5 Accuracy = 0.929913 Loss =  2601018.000000\n",
      "Epoch: 730 Test-Accuracy = 0.613619 Test-Top 5 Accuracy = 0.907803 Test-Loss =  1943249.000000\n",
      "Epoch: 740 Accuracy = 0.636285 Top 5 Accuracy = 0.931225 Loss =  2597511.500000\n",
      "Epoch: 740 Test-Accuracy = 0.613057 Test-Top 5 Accuracy = 0.908786 Test-Loss =  1958998.500000\n",
      "Epoch: 750 Accuracy = 0.636086 Top 5 Accuracy = 0.932748 Loss =  2589274.000000\n",
      "Epoch: 750 Test-Accuracy = 0.614111 Test-Top 5 Accuracy = 0.911129 Test-Loss =  1975408.000000\n",
      "Epoch: 760 Accuracy = 0.636437 Top 5 Accuracy = 0.932449 Loss =  2576093.500000\n",
      "Epoch: 760 Test-Accuracy = 0.612916 Test-Top 5 Accuracy = 0.911433 Test-Loss =  1986345.750000\n",
      "Epoch: 770 Accuracy = 0.636706 Top 5 Accuracy = 0.933796 Loss =  2566251.750000\n",
      "Epoch: 770 Test-Accuracy = 0.612963 Test-Top 5 Accuracy = 0.912253 Test-Loss =  1999974.250000\n",
      "Epoch: 780 Accuracy = 0.636747 Top 5 Accuracy = 0.935026 Loss =  2556964.500000\n",
      "Epoch: 780 Test-Accuracy = 0.613338 Test-Top 5 Accuracy = 0.913963 Test-Loss =  2014101.000000\n",
      "Epoch: 790 Accuracy = 0.636906 Top 5 Accuracy = 0.935793 Loss =  2548164.250000\n",
      "Epoch: 790 Test-Accuracy = 0.612893 Test-Top 5 Accuracy = 0.914502 Test-Loss =  2030396.875000\n",
      "Epoch: 800 Accuracy = 0.636841 Top 5 Accuracy = 0.936373 Loss =  2539894.500000\n",
      "Epoch: 800 Test-Accuracy = 0.612846 Test-Top 5 Accuracy = 0.915041 Test-Loss =  2041358.750000\n",
      "Epoch: 810 Accuracy = 0.636964 Top 5 Accuracy = 0.937245 Loss =  2531572.500000\n",
      "Epoch: 810 Test-Accuracy = 0.612822 Test-Top 5 Accuracy = 0.916071 Test-Loss =  2055304.375000\n",
      "Epoch: 820 Accuracy = 0.636952 Top 5 Accuracy = 0.938253 Loss =  2523969.500000\n",
      "Epoch: 820 Test-Accuracy = 0.612776 Test-Top 5 Accuracy = 0.917406 Test-Loss =  2068028.250000\n",
      "Epoch: 830 Accuracy = 0.637023 Top 5 Accuracy = 0.939359 Loss =  2520860.000000\n",
      "Epoch: 830 Test-Accuracy = 0.612939 Test-Top 5 Accuracy = 0.918976 Test-Loss =  2083729.500000\n",
      "Epoch: 840 Accuracy = 0.637239 Top 5 Accuracy = 0.939547 Loss =  2510291.750000\n",
      "Epoch: 840 Test-Accuracy = 0.613174 Test-Top 5 Accuracy = 0.918156 Test-Loss =  2093131.375000\n",
      "Epoch: 850 Accuracy = 0.637403 Top 5 Accuracy = 0.940882 Loss =  2501326.250000\n",
      "Epoch: 850 Test-Accuracy = 0.613221 Test-Top 5 Accuracy = 0.919796 Test-Loss =  2105081.750000\n",
      "Epoch: 860 Accuracy = 0.637450 Top 5 Accuracy = 0.942041 Loss =  2493963.750000\n",
      "Epoch: 860 Test-Accuracy = 0.613150 Test-Top 5 Accuracy = 0.920522 Test-Loss =  2120399.750000\n",
      "Epoch: 870 Accuracy = 0.637362 Top 5 Accuracy = 0.942885 Loss =  2486478.000000\n",
      "Epoch: 870 Test-Accuracy = 0.612776 Test-Top 5 Accuracy = 0.920873 Test-Loss =  2134351.750000\n",
      "Epoch: 880 Accuracy = 0.637614 Top 5 Accuracy = 0.943623 Loss =  2479670.750000\n",
      "Epoch: 880 Test-Accuracy = 0.612893 Test-Top 5 Accuracy = 0.921904 Test-Loss =  2146379.750000\n",
      "Epoch: 890 Accuracy = 0.637749 Top 5 Accuracy = 0.943775 Loss =  2475710.500000\n",
      "Epoch: 890 Test-Accuracy = 0.612494 Test-Top 5 Accuracy = 0.921904 Test-Loss =  2160966.000000\n",
      "Epoch: 900 Accuracy = 0.637854 Top 5 Accuracy = 0.944934 Loss =  2464939.500000\n",
      "Epoch: 900 Test-Accuracy = 0.612776 Test-Top 5 Accuracy = 0.923145 Test-Loss =  2169376.500000\n",
      "Epoch: 910 Accuracy = 0.638153 Top 5 Accuracy = 0.946381 Loss =  2459572.500000\n",
      "Epoch: 910 Test-Accuracy = 0.613127 Test-Top 5 Accuracy = 0.924645 Test-Loss =  2182095.500000\n",
      "Epoch: 920 Accuracy = 0.638358 Top 5 Accuracy = 0.947084 Loss =  2450774.250000\n",
      "Epoch: 920 Test-Accuracy = 0.612705 Test-Top 5 Accuracy = 0.924363 Test-Loss =  2194508.750000\n",
      "Epoch: 930 Accuracy = 0.638575 Top 5 Accuracy = 0.947740 Loss =  2443714.500000\n",
      "Epoch: 930 Test-Accuracy = 0.612541 Test-Top 5 Accuracy = 0.924949 Test-Loss =  2206397.000000\n",
      "Epoch: 940 Accuracy = 0.638785 Top 5 Accuracy = 0.948091 Loss =  2439277.750000\n",
      "Epoch: 940 Test-Accuracy = 0.612635 Test-Top 5 Accuracy = 0.925066 Test-Loss =  2218437.000000\n",
      "Epoch: 950 Accuracy = 0.638797 Top 5 Accuracy = 0.948975 Loss =  2431477.000000\n",
      "Epoch: 950 Test-Accuracy = 0.612939 Test-Top 5 Accuracy = 0.926144 Test-Loss =  2228784.000000\n",
      "Epoch: 960 Accuracy = 0.638920 Top 5 Accuracy = 0.949695 Loss =  2424252.500000\n",
      "Epoch: 960 Test-Accuracy = 0.612939 Test-Top 5 Accuracy = 0.926472 Test-Loss =  2247752.250000\n",
      "Epoch: 970 Accuracy = 0.639189 Top 5 Accuracy = 0.950814 Loss =  2417390.000000\n",
      "Epoch: 970 Test-Accuracy = 0.613314 Test-Top 5 Accuracy = 0.927198 Test-Loss =  2246546.250000\n",
      "Epoch: 980 Accuracy = 0.639189 Top 5 Accuracy = 0.951042 Loss =  2409612.500000\n",
      "Epoch: 980 Test-Accuracy = 0.612893 Test-Top 5 Accuracy = 0.927174 Test-Loss =  2267358.000000\n",
      "Epoch: 990 Accuracy = 0.639189 Top 5 Accuracy = 0.951534 Loss =  2402521.750000\n",
      "Epoch: 990 Test-Accuracy = 0.612869 Test-Top 5 Accuracy = 0.927596 Test-Loss =  2278736.250000\n",
      "Epoch: 1000 Accuracy = 0.639418 Top 5 Accuracy = 0.952097 Loss =  2395399.000000\n",
      "Epoch: 1000 Test-Accuracy = 0.612822 Test-Top 5 Accuracy = 0.927854 Test-Loss =  2290171.500000\n",
      "Epoch: 1010 Accuracy = 0.639635 Top 5 Accuracy = 0.952770 Loss =  2389387.750000\n",
      "Epoch: 1010 Test-Accuracy = 0.613291 Test-Top 5 Accuracy = 0.927877 Test-Loss =  2303861.500000\n",
      "Epoch: 1020 Accuracy = 0.639582 Top 5 Accuracy = 0.952840 Loss =  2389624.000000\n",
      "Epoch: 1020 Test-Accuracy = 0.613712 Test-Top 5 Accuracy = 0.928837 Test-Loss =  2322570.000000\n",
      "Epoch: 1030 Accuracy = 0.639430 Top 5 Accuracy = 0.952460 Loss =  2379928.500000\n",
      "Epoch: 1030 Test-Accuracy = 0.613197 Test-Top 5 Accuracy = 0.928205 Test-Loss =  2327114.000000\n",
      "Epoch: 1040 Accuracy = 0.640103 Top 5 Accuracy = 0.954170 Loss =  2371105.750000\n",
      "Epoch: 1040 Test-Accuracy = 0.613783 Test-Top 5 Accuracy = 0.928791 Test-Loss =  2338195.000000\n",
      "Epoch: 1050 Accuracy = 0.639998 Top 5 Accuracy = 0.953578 Loss =  2362986.250000\n",
      "Epoch: 1050 Test-Accuracy = 0.613150 Test-Top 5 Accuracy = 0.928322 Test-Loss =  2357343.750000\n",
      "Epoch: 1060 Accuracy = 0.640326 Top 5 Accuracy = 0.954498 Loss =  2356899.250000\n",
      "Epoch: 1060 Test-Accuracy = 0.613361 Test-Top 5 Accuracy = 0.929470 Test-Loss =  2363334.000000\n",
      "Epoch: 1070 Accuracy = 0.640607 Top 5 Accuracy = 0.955071 Loss =  2351281.750000\n",
      "Epoch: 1070 Test-Accuracy = 0.613549 Test-Top 5 Accuracy = 0.930337 Test-Loss =  2374273.500000\n",
      "Epoch: 1080 Accuracy = 0.640976 Top 5 Accuracy = 0.955030 Loss =  2346180.000000\n",
      "Epoch: 1080 Test-Accuracy = 0.613385 Test-Top 5 Accuracy = 0.929985 Test-Loss =  2390890.000000\n",
      "Epoch: 1090 Accuracy = 0.641544 Top 5 Accuracy = 0.956126 Loss =  2338536.000000\n",
      "Epoch: 1090 Test-Accuracy = 0.613923 Test-Top 5 Accuracy = 0.931648 Test-Loss =  2400878.000000\n",
      "Epoch: 1100 Accuracy = 0.641725 Top 5 Accuracy = 0.956190 Loss =  2332444.000000\n",
      "Epoch: 1100 Test-Accuracy = 0.614181 Test-Top 5 Accuracy = 0.931250 Test-Loss =  2420190.250000\n",
      "Epoch: 1110 Accuracy = 0.641503 Top 5 Accuracy = 0.956366 Loss =  2335543.000000\n",
      "Epoch: 1110 Test-Accuracy = 0.614064 Test-Top 5 Accuracy = 0.931274 Test-Loss =  2441918.500000\n",
      "Epoch: 1120 Accuracy = 0.641930 Top 5 Accuracy = 0.956723 Loss =  2326694.750000\n",
      "Epoch: 1120 Test-Accuracy = 0.614275 Test-Top 5 Accuracy = 0.931883 Test-Loss =  2441634.000000\n",
      "Epoch: 1130 Accuracy = 0.642293 Top 5 Accuracy = 0.957484 Loss =  2318511.000000\n",
      "Epoch: 1130 Test-Accuracy = 0.614626 Test-Top 5 Accuracy = 0.932492 Test-Loss =  2460612.000000\n",
      "Epoch: 1140 Accuracy = 0.642340 Top 5 Accuracy = 0.957525 Loss =  2311091.750000\n",
      "Epoch: 1140 Test-Accuracy = 0.614603 Test-Top 5 Accuracy = 0.931812 Test-Loss =  2470264.250000\n",
      "Epoch: 1150 Accuracy = 0.642814 Top 5 Accuracy = 0.958082 Loss =  2304447.750000\n",
      "Epoch: 1150 Test-Accuracy = 0.615024 Test-Top 5 Accuracy = 0.932820 Test-Loss =  2483530.250000\n",
      "Epoch: 1160 Accuracy = 0.642885 Top 5 Accuracy = 0.958263 Loss =  2298872.000000\n",
      "Epoch: 1160 Test-Accuracy = 0.614907 Test-Top 5 Accuracy = 0.933101 Test-Loss =  2501695.500000\n",
      "Epoch: 1170 Accuracy = 0.643265 Top 5 Accuracy = 0.958837 Loss =  2293050.000000\n",
      "Epoch: 1170 Test-Accuracy = 0.615259 Test-Top 5 Accuracy = 0.933944 Test-Loss =  2508715.750000\n",
      "Epoch: 1180 Accuracy = 0.643576 Top 5 Accuracy = 0.959112 Loss =  2287656.750000\n",
      "Epoch: 1180 Test-Accuracy = 0.615352 Test-Top 5 Accuracy = 0.934530 Test-Loss =  2521155.000000\n",
      "Epoch: 1190 Accuracy = 0.643359 Top 5 Accuracy = 0.959510 Loss =  2288258.750000\n",
      "Epoch: 1190 Test-Accuracy = 0.615376 Test-Top 5 Accuracy = 0.934998 Test-Loss =  2528600.000000\n",
      "Epoch: 1200 Accuracy = 0.643892 Top 5 Accuracy = 0.960928 Loss =  2280958.500000\n",
      "Epoch: 1200 Test-Accuracy = 0.615750 Test-Top 5 Accuracy = 0.936427 Test-Loss =  2541103.750000\n",
      "Epoch: 1210 Accuracy = 0.643822 Top 5 Accuracy = 0.959792 Loss =  2273768.000000\n",
      "Epoch: 1210 Test-Accuracy = 0.615469 Test-Top 5 Accuracy = 0.934951 Test-Loss =  2559193.500000\n",
      "Epoch: 1220 Accuracy = 0.644179 Top 5 Accuracy = 0.960781 Loss =  2266861.000000\n",
      "Epoch: 1220 Test-Accuracy = 0.615118 Test-Top 5 Accuracy = 0.936450 Test-Loss =  2569362.750000\n",
      "Epoch: 1230 Accuracy = 0.644296 Top 5 Accuracy = 0.961302 Loss =  2261465.000000\n",
      "Epoch: 1230 Test-Accuracy = 0.615446 Test-Top 5 Accuracy = 0.936966 Test-Loss =  2579270.250000\n",
      "Epoch: 1240 Accuracy = 0.644302 Top 5 Accuracy = 0.961279 Loss =  2257407.750000\n",
      "Epoch: 1240 Test-Accuracy = 0.615118 Test-Top 5 Accuracy = 0.936849 Test-Loss =  2592246.250000\n",
      "Epoch: 1250 Accuracy = 0.644782 Top 5 Accuracy = 0.962292 Loss =  2251328.000000\n",
      "Epoch: 1250 Test-Accuracy = 0.615165 Test-Top 5 Accuracy = 0.937879 Test-Loss =  2601963.500000\n",
      "Epoch: 1260 Accuracy = 0.644823 Top 5 Accuracy = 0.962204 Loss =  2246036.500000\n",
      "Epoch: 1260 Test-Accuracy = 0.615141 Test-Top 5 Accuracy = 0.938184 Test-Loss =  2619557.500000\n",
      "Epoch: 1270 Accuracy = 0.644823 Top 5 Accuracy = 0.962866 Loss =  2243877.500000\n",
      "Epoch: 1270 Test-Accuracy = 0.615118 Test-Top 5 Accuracy = 0.938394 Test-Loss =  2634694.500000\n",
      "Epoch: 1280 Accuracy = 0.644688 Top 5 Accuracy = 0.962485 Loss =  2237495.500000\n",
      "Epoch: 1280 Test-Accuracy = 0.614696 Test-Top 5 Accuracy = 0.938137 Test-Loss =  2652082.000000\n",
      "Epoch: 1290 Accuracy = 0.645672 Top 5 Accuracy = 0.964582 Loss =  2232758.500000\n",
      "Epoch: 1290 Test-Accuracy = 0.615376 Test-Top 5 Accuracy = 0.940432 Test-Loss =  2647461.250000\n",
      "Epoch: 1300 Accuracy = 0.644624 Top 5 Accuracy = 0.963358 Loss =  2227615.500000\n",
      "Epoch: 1300 Test-Accuracy = 0.614298 Test-Top 5 Accuracy = 0.939004 Test-Loss =  2678091.500000\n",
      "Epoch: 1310 Accuracy = 0.645491 Top 5 Accuracy = 0.964681 Loss =  2223090.000000\n",
      "Epoch: 1310 Test-Accuracy = 0.614884 Test-Top 5 Accuracy = 0.940643 Test-Loss =  2674678.000000\n",
      "Epoch: 1320 Accuracy = 0.645303 Top 5 Accuracy = 0.964611 Loss =  2215818.750000\n",
      "Epoch: 1320 Test-Accuracy = 0.614486 Test-Top 5 Accuracy = 0.940643 Test-Loss =  2693712.000000\n",
      "Epoch: 1330 Accuracy = 0.645286 Top 5 Accuracy = 0.965162 Loss =  2213908.250000\n",
      "Epoch: 1330 Test-Accuracy = 0.614720 Test-Top 5 Accuracy = 0.940643 Test-Loss =  2709291.000000\n",
      "Epoch: 1340 Accuracy = 0.645789 Top 5 Accuracy = 0.965349 Loss =  2206027.250000\n",
      "Epoch: 1340 Test-Accuracy = 0.614486 Test-Top 5 Accuracy = 0.940643 Test-Loss =  2718647.500000\n",
      "Epoch: 1350 Accuracy = 0.645819 Top 5 Accuracy = 0.965607 Loss =  2207134.500000\n",
      "Epoch: 1350 Test-Accuracy = 0.614743 Test-Top 5 Accuracy = 0.941369 Test-Loss =  2725136.250000\n",
      "Epoch: 1360 Accuracy = 0.645965 Top 5 Accuracy = 0.966462 Loss =  2199840.000000\n",
      "Epoch: 1360 Test-Accuracy = 0.615095 Test-Top 5 Accuracy = 0.941838 Test-Loss =  2742745.500000\n",
      "Epoch: 1370 Accuracy = 0.646223 Top 5 Accuracy = 0.965812 Loss =  2193124.500000\n",
      "Epoch: 1370 Test-Accuracy = 0.614509 Test-Top 5 Accuracy = 0.940924 Test-Loss =  2754396.500000\n",
      "Epoch: 1380 Accuracy = 0.646691 Top 5 Accuracy = 0.967299 Loss =  2188037.250000\n",
      "Epoch: 1380 Test-Accuracy = 0.615446 Test-Top 5 Accuracy = 0.942541 Test-Loss =  2756704.750000\n",
      "Epoch: 1390 Accuracy = 0.646188 Top 5 Accuracy = 0.966667 Loss =  2185089.250000\n",
      "Epoch: 1390 Test-Accuracy = 0.615024 Test-Top 5 Accuracy = 0.941768 Test-Loss =  2778436.250000\n",
      "Epoch: 1400 Accuracy = 0.646498 Top 5 Accuracy = 0.966772 Loss =  2178445.500000\n",
      "Epoch: 1400 Test-Accuracy = 0.614977 Test-Top 5 Accuracy = 0.941486 Test-Loss =  2783100.000000\n",
      "Epoch: 1410 Accuracy = 0.646808 Top 5 Accuracy = 0.967065 Loss =  2177806.250000\n",
      "Epoch: 1410 Test-Accuracy = 0.615422 Test-Top 5 Accuracy = 0.942658 Test-Loss =  2786615.500000\n",
      "Epoch: 1420 Accuracy = 0.646756 Top 5 Accuracy = 0.967311 Loss =  2169892.500000\n",
      "Epoch: 1420 Test-Accuracy = 0.615001 Test-Top 5 Accuracy = 0.942259 Test-Loss =  2803569.750000\n",
      "Epoch: 1430 Accuracy = 0.646504 Top 5 Accuracy = 0.966842 Loss =  2166717.500000\n",
      "Epoch: 1430 Test-Accuracy = 0.614158 Test-Top 5 Accuracy = 0.941299 Test-Loss =  2818313.500000\n",
      "Epoch: 1440 Accuracy = 0.646680 Top 5 Accuracy = 0.967557 Loss =  2164130.500000\n",
      "Epoch: 1440 Test-Accuracy = 0.614486 Test-Top 5 Accuracy = 0.942775 Test-Loss =  2818750.000000\n",
      "Epoch: 1450 Accuracy = 0.647505 Top 5 Accuracy = 0.968945 Loss =  2158136.500000\n",
      "Epoch: 1450 Test-Accuracy = 0.615305 Test-Top 5 Accuracy = 0.944040 Test-Loss =  2826777.250000\n",
      "Epoch: 1460 Accuracy = 0.646791 Top 5 Accuracy = 0.967381 Loss =  2152875.250000\n",
      "Epoch: 1460 Test-Accuracy = 0.614181 Test-Top 5 Accuracy = 0.941065 Test-Loss =  2849334.500000\n",
      "Epoch: 1470 Accuracy = 0.647909 Top 5 Accuracy = 0.968992 Loss =  2147634.000000\n",
      "Epoch: 1470 Test-Accuracy = 0.615493 Test-Top 5 Accuracy = 0.943852 Test-Loss =  2845585.500000\n",
      "Epoch: 1480 Accuracy = 0.647734 Top 5 Accuracy = 0.968822 Loss =  2147202.000000\n",
      "Epoch: 1480 Test-Accuracy = 0.615540 Test-Top 5 Accuracy = 0.943876 Test-Loss =  2854938.000000\n",
      "Epoch: 1490 Accuracy = 0.647710 Top 5 Accuracy = 0.968851 Loss =  2140588.000000\n",
      "Epoch: 1490 Test-Accuracy = 0.615376 Test-Top 5 Accuracy = 0.943407 Test-Loss =  2872957.500000\n",
      "Epoch: 1500 Accuracy = 0.647775 Top 5 Accuracy = 0.968722 Loss =  2134431.250000\n",
      "Epoch: 1500 Test-Accuracy = 0.615399 Test-Top 5 Accuracy = 0.943056 Test-Loss =  2882432.000000\n",
      "Epoch: 1510 Accuracy = 0.647494 Top 5 Accuracy = 0.968910 Loss =  2130041.500000\n",
      "Epoch: 1510 Test-Accuracy = 0.615352 Test-Top 5 Accuracy = 0.943009 Test-Loss =  2893115.750000\n",
      "Epoch: 1520 Accuracy = 0.647394 Top 5 Accuracy = 0.969038 Loss =  2127296.500000\n",
      "Epoch: 1520 Test-Accuracy = 0.614860 Test-Top 5 Accuracy = 0.943407 Test-Loss =  2906832.750000\n",
      "Epoch: 1530 Accuracy = 0.647458 Top 5 Accuracy = 0.969302 Loss =  2123920.000000\n",
      "Epoch: 1530 Test-Accuracy = 0.615118 Test-Top 5 Accuracy = 0.944180 Test-Loss =  2913661.250000\n",
      "Epoch: 1540 Accuracy = 0.648589 Top 5 Accuracy = 0.971726 Loss =  2118354.000000\n",
      "Epoch: 1540 Test-Accuracy = 0.616195 Test-Top 5 Accuracy = 0.946288 Test-Loss =  2914184.500000\n",
      "Epoch: 1550 Accuracy = 0.649016 Top 5 Accuracy = 0.972306 Loss =  2115613.750000\n",
      "Epoch: 1550 Test-Accuracy = 0.616523 Test-Top 5 Accuracy = 0.947834 Test-Loss =  2920663.000000\n",
      "Epoch: 1560 Accuracy = 0.648542 Top 5 Accuracy = 0.971486 Loss =  2110375.000000\n",
      "Epoch: 1560 Test-Accuracy = 0.616102 Test-Top 5 Accuracy = 0.946288 Test-Loss =  2942552.250000\n",
      "Epoch: 1570 Accuracy = 0.648190 Top 5 Accuracy = 0.971082 Loss =  2105796.750000\n",
      "Epoch: 1570 Test-Accuracy = 0.615095 Test-Top 5 Accuracy = 0.945328 Test-Loss =  2953548.500000\n",
      "Epoch: 1580 Accuracy = 0.647212 Top 5 Accuracy = 0.970046 Loss =  2107247.750000\n",
      "Epoch: 1580 Test-Accuracy = 0.614181 Test-Top 5 Accuracy = 0.943923 Test-Loss =  2982694.500000\n",
      "Epoch: 1590 Accuracy = 0.650135 Top 5 Accuracy = 0.974186 Loss =  2100167.750000\n",
      "Epoch: 1590 Test-Accuracy = 0.617250 Test-Top 5 Accuracy = 0.948397 Test-Loss =  2962164.000000\n",
      "Epoch: 1600 Accuracy = 0.648021 Top 5 Accuracy = 0.970608 Loss =  2092607.250000\n",
      "Epoch: 1600 Test-Accuracy = 0.614368 Test-Top 5 Accuracy = 0.944227 Test-Loss =  2994607.000000\n",
      "Epoch: 1610 Accuracy = 0.650029 Top 5 Accuracy = 0.973343 Loss =  2088638.250000\n",
      "Epoch: 1610 Test-Accuracy = 0.616242 Test-Top 5 Accuracy = 0.947483 Test-Loss =  2989836.500000\n",
      "Epoch: 1620 Accuracy = 0.649151 Top 5 Accuracy = 0.971937 Loss =  2082992.000000\n",
      "Epoch: 1620 Test-Accuracy = 0.614813 Test-Top 5 Accuracy = 0.945445 Test-Loss =  3008547.000000\n",
      "Epoch: 1630 Accuracy = 0.649848 Top 5 Accuracy = 0.973226 Loss =  2080199.375000\n",
      "Epoch: 1630 Test-Accuracy = 0.615821 Test-Top 5 Accuracy = 0.946616 Test-Loss =  3010231.250000\n",
      "Epoch: 1640 Accuracy = 0.649906 Top 5 Accuracy = 0.973062 Loss =  2078709.500000\n",
      "Epoch: 1640 Test-Accuracy = 0.615422 Test-Top 5 Accuracy = 0.946827 Test-Loss =  3027298.250000\n",
      "Epoch: 1650 Accuracy = 0.650867 Top 5 Accuracy = 0.974543 Loss =  2075473.875000\n",
      "Epoch: 1650 Test-Accuracy = 0.616922 Test-Top 5 Accuracy = 0.948397 Test-Loss =  3023039.750000\n",
      "Epoch: 1660 Accuracy = 0.650205 Top 5 Accuracy = 0.972921 Loss =  2069283.750000\n",
      "Epoch: 1660 Test-Accuracy = 0.615586 Test-Top 5 Accuracy = 0.946593 Test-Loss =  3046530.250000\n",
      "Epoch: 1670 Accuracy = 0.650761 Top 5 Accuracy = 0.973940 Loss =  2064156.125000\n",
      "Epoch: 1670 Test-Accuracy = 0.616125 Test-Top 5 Accuracy = 0.947670 Test-Loss =  3048980.250000\n",
      "Epoch: 1680 Accuracy = 0.650919 Top 5 Accuracy = 0.973934 Loss =  2059496.625000\n",
      "Epoch: 1680 Test-Accuracy = 0.616055 Test-Top 5 Accuracy = 0.947577 Test-Loss =  3061358.250000\n",
      "Epoch: 1690 Accuracy = 0.651728 Top 5 Accuracy = 0.975281 Loss =  2064817.250000\n",
      "Epoch: 1690 Test-Accuracy = 0.617460 Test-Top 5 Accuracy = 0.948912 Test-Loss =  3065214.500000\n",
      "Epoch: 1700 Accuracy = 0.649818 Top 5 Accuracy = 0.973079 Loss =  2058106.250000\n",
      "Epoch: 1700 Test-Accuracy = 0.615399 Test-Top 5 Accuracy = 0.946242 Test-Loss =  3085262.500000\n",
      "Epoch: 1710 Accuracy = 0.651927 Top 5 Accuracy = 0.975398 Loss =  2053624.500000\n",
      "Epoch: 1710 Test-Accuracy = 0.617109 Test-Top 5 Accuracy = 0.948842 Test-Loss =  3089841.750000\n",
      "Epoch: 1720 Accuracy = 0.650170 Top 5 Accuracy = 0.973313 Loss =  2047960.875000\n",
      "Epoch: 1720 Test-Accuracy = 0.615493 Test-Top 5 Accuracy = 0.946242 Test-Loss =  3105028.750000\n",
      "Epoch: 1730 Accuracy = 0.651540 Top 5 Accuracy = 0.975182 Loss =  2042486.625000\n",
      "Epoch: 1730 Test-Accuracy = 0.616523 Test-Top 5 Accuracy = 0.948280 Test-Loss =  3109925.000000\n",
      "Epoch: 1740 Accuracy = 0.651054 Top 5 Accuracy = 0.974959 Loss =  2039258.500000\n",
      "Epoch: 1740 Test-Accuracy = 0.616219 Test-Top 5 Accuracy = 0.947647 Test-Loss =  3123861.250000\n",
      "Epoch: 1750 Accuracy = 0.650656 Top 5 Accuracy = 0.974754 Loss =  2037568.875000\n",
      "Epoch: 1750 Test-Accuracy = 0.616008 Test-Top 5 Accuracy = 0.947647 Test-Loss =  3131712.750000\n",
      "Epoch: 1760 Accuracy = 0.651476 Top 5 Accuracy = 0.975240 Loss =  2032484.750000\n",
      "Epoch: 1760 Test-Accuracy = 0.616570 Test-Top 5 Accuracy = 0.948490 Test-Loss =  3140497.000000\n",
      "Epoch: 1770 Accuracy = 0.651365 Top 5 Accuracy = 0.975627 Loss =  2029305.375000\n",
      "Epoch: 1770 Test-Accuracy = 0.616477 Test-Top 5 Accuracy = 0.949053 Test-Loss =  3150976.000000\n",
      "Epoch: 1780 Accuracy = 0.652120 Top 5 Accuracy = 0.977091 Loss =  2028626.250000\n",
      "Epoch: 1780 Test-Accuracy = 0.616687 Test-Top 5 Accuracy = 0.950669 Test-Loss =  3153050.000000\n",
      "Epoch: 1790 Accuracy = 0.651728 Top 5 Accuracy = 0.976323 Loss =  2024737.875000\n",
      "Epoch: 1790 Test-Accuracy = 0.616500 Test-Top 5 Accuracy = 0.949825 Test-Loss =  3170407.250000\n",
      "Epoch: 1800 Accuracy = 0.651552 Top 5 Accuracy = 0.976739 Loss =  2021782.500000\n",
      "Epoch: 1800 Test-Accuracy = 0.616078 Test-Top 5 Accuracy = 0.949989 Test-Loss =  3171258.750000\n",
      "Epoch: 1810 Accuracy = 0.652483 Top 5 Accuracy = 0.977706 Loss =  2017960.000000\n",
      "Epoch: 1810 Test-Accuracy = 0.617132 Test-Top 5 Accuracy = 0.950903 Test-Loss =  3185601.000000\n",
      "Epoch: 1820 Accuracy = 0.652026 Top 5 Accuracy = 0.977342 Loss =  2014126.750000\n",
      "Epoch: 1820 Test-Accuracy = 0.616687 Test-Top 5 Accuracy = 0.950247 Test-Loss =  3195146.250000\n",
      "Epoch: 1830 Accuracy = 0.650644 Top 5 Accuracy = 0.975357 Loss =  2014717.500000\n",
      "Epoch: 1830 Test-Accuracy = 0.614931 Test-Top 5 Accuracy = 0.948725 Test-Loss =  3208618.000000\n",
      "Epoch: 1840 Accuracy = 0.650826 Top 5 Accuracy = 0.975960 Loss =  2009982.625000\n",
      "Epoch: 1840 Test-Accuracy = 0.615188 Test-Top 5 Accuracy = 0.949521 Test-Loss =  3224227.250000\n",
      "Epoch: 1850 Accuracy = 0.653274 Top 5 Accuracy = 0.979550 Loss =  2013813.500000\n",
      "Epoch: 1850 Test-Accuracy = 0.617999 Test-Top 5 Accuracy = 0.953035 Test-Loss =  3207965.500000\n",
      "Epoch: 1860 Accuracy = 0.650984 Top 5 Accuracy = 0.976136 Loss =  2006054.125000\n",
      "Epoch: 1860 Test-Accuracy = 0.615259 Test-Top 5 Accuracy = 0.949685 Test-Loss =  3237213.750000\n",
      "Epoch: 1870 Accuracy = 0.652290 Top 5 Accuracy = 0.977770 Loss =  2000678.250000\n",
      "Epoch: 1870 Test-Accuracy = 0.616617 Test-Top 5 Accuracy = 0.950341 Test-Loss =  3242853.000000\n",
      "Epoch: 1880 Accuracy = 0.652553 Top 5 Accuracy = 0.978631 Loss =  1998126.625000\n",
      "Epoch: 1880 Test-Accuracy = 0.616594 Test-Top 5 Accuracy = 0.951559 Test-Loss =  3239581.500000\n",
      "Epoch: 1890 Accuracy = 0.651376 Top 5 Accuracy = 0.976950 Loss =  1994687.000000\n",
      "Epoch: 1890 Test-Accuracy = 0.615657 Test-Top 5 Accuracy = 0.950130 Test-Loss =  3261173.750000\n",
      "Epoch: 1900 Accuracy = 0.651160 Top 5 Accuracy = 0.976827 Loss =  1992578.500000\n",
      "Epoch: 1900 Test-Accuracy = 0.615282 Test-Top 5 Accuracy = 0.949966 Test-Loss =  3263632.000000\n",
      "Epoch: 1910 Accuracy = 0.652319 Top 5 Accuracy = 0.978736 Loss =  1990503.625000\n",
      "Epoch: 1910 Test-Accuracy = 0.616430 Test-Top 5 Accuracy = 0.952051 Test-Loss =  3271236.500000\n",
      "Epoch: 1920 Accuracy = 0.653174 Top 5 Accuracy = 0.979082 Loss =  1986442.250000\n",
      "Epoch: 1920 Test-Accuracy = 0.617109 Test-Top 5 Accuracy = 0.952238 Test-Loss =  3285592.750000\n",
      "Epoch: 1930 Accuracy = 0.652922 Top 5 Accuracy = 0.979029 Loss =  1985008.250000\n",
      "Epoch: 1930 Test-Accuracy = 0.616781 Test-Top 5 Accuracy = 0.952519 Test-Loss =  3282521.000000\n",
      "Epoch: 1940 Accuracy = 0.653525 Top 5 Accuracy = 0.979638 Loss =  1981577.750000\n",
      "Epoch: 1940 Test-Accuracy = 0.617624 Test-Top 5 Accuracy = 0.953058 Test-Loss =  3295340.500000\n",
      "Epoch: 1950 Accuracy = 0.653935 Top 5 Accuracy = 0.980915 Loss =  1978082.750000\n",
      "Epoch: 1950 Test-Accuracy = 0.617320 Test-Top 5 Accuracy = 0.953948 Test-Loss =  3299154.000000\n",
      "Epoch: 1960 Accuracy = 0.652313 Top 5 Accuracy = 0.978818 Loss =  1974552.500000\n",
      "Epoch: 1960 Test-Accuracy = 0.615727 Test-Top 5 Accuracy = 0.952308 Test-Loss =  3312952.500000\n",
      "Epoch: 1970 Accuracy = 0.654257 Top 5 Accuracy = 0.980973 Loss =  1976741.000000\n",
      "Epoch: 1970 Test-Accuracy = 0.618163 Test-Top 5 Accuracy = 0.954112 Test-Loss =  3316082.500000\n",
      "Epoch: 1980 Accuracy = 0.653028 Top 5 Accuracy = 0.979386 Loss =  1972220.500000\n",
      "Epoch: 1980 Test-Accuracy = 0.617156 Test-Top 5 Accuracy = 0.952590 Test-Loss =  3329828.750000\n",
      "Epoch: 1990 Accuracy = 0.654170 Top 5 Accuracy = 0.981032 Loss =  1972091.500000\n",
      "Epoch: 1990 Test-Accuracy = 0.617695 Test-Top 5 Accuracy = 0.954065 Test-Loss =  3328398.500000\n",
      "Epoch: 2000 Accuracy = 0.653408 Top 5 Accuracy = 0.980101 Loss =  1966708.125000\n",
      "Epoch: 2000 Test-Accuracy = 0.618023 Test-Top 5 Accuracy = 0.953433 Test-Loss =  3347232.750000\n",
      "Epoch: 2010 Accuracy = 0.653151 Top 5 Accuracy = 0.979539 Loss =  1961945.125000\n",
      "Epoch: 2010 Test-Accuracy = 0.616922 Test-Top 5 Accuracy = 0.952402 Test-Loss =  3346944.000000\n",
      "Epoch: 2020 Accuracy = 0.653356 Top 5 Accuracy = 0.980294 Loss =  1959715.500000\n",
      "Epoch: 2020 Test-Accuracy = 0.617437 Test-Top 5 Accuracy = 0.952988 Test-Loss =  3361398.000000\n",
      "Epoch: 2030 Accuracy = 0.653719 Top 5 Accuracy = 0.980692 Loss =  1954679.750000\n",
      "Epoch: 2030 Test-Accuracy = 0.617507 Test-Top 5 Accuracy = 0.953386 Test-Loss =  3365930.500000\n",
      "Epoch: 2040 Accuracy = 0.653918 Top 5 Accuracy = 0.980985 Loss =  1953237.250000\n",
      "Epoch: 2040 Test-Accuracy = 0.618069 Test-Top 5 Accuracy = 0.953573 Test-Loss =  3374416.500000\n",
      "Epoch: 2050 Accuracy = 0.654802 Top 5 Accuracy = 0.981963 Loss =  1949512.000000\n",
      "Epoch: 2050 Test-Accuracy = 0.618561 Test-Top 5 Accuracy = 0.954862 Test-Loss =  3375240.500000\n",
      "Epoch: 2060 Accuracy = 0.652992 Top 5 Accuracy = 0.979738 Loss =  1947692.750000\n",
      "Epoch: 2060 Test-Accuracy = 0.617039 Test-Top 5 Accuracy = 0.952308 Test-Loss =  3400486.500000\n",
      "Epoch: 2070 Accuracy = 0.654919 Top 5 Accuracy = 0.982244 Loss =  1945114.875000\n",
      "Epoch: 2070 Test-Accuracy = 0.619006 Test-Top 5 Accuracy = 0.954651 Test-Loss =  3385847.500000\n",
      "Epoch: 2080 Accuracy = 0.653426 Top 5 Accuracy = 0.980505 Loss =  1942137.250000\n",
      "Epoch: 2080 Test-Accuracy = 0.617671 Test-Top 5 Accuracy = 0.952683 Test-Loss =  3411603.500000\n",
      "Epoch: 2090 Accuracy = 0.654357 Top 5 Accuracy = 0.981658 Loss =  1938651.875000\n",
      "Epoch: 2090 Test-Accuracy = 0.618116 Test-Top 5 Accuracy = 0.954159 Test-Loss =  3407766.500000\n",
      "Epoch: 2100 Accuracy = 0.654146 Top 5 Accuracy = 0.981424 Loss =  1937035.000000\n",
      "Epoch: 2100 Test-Accuracy = 0.617812 Test-Top 5 Accuracy = 0.953995 Test-Loss =  3423393.500000\n",
      "Epoch: 2110 Accuracy = 0.654246 Top 5 Accuracy = 0.981682 Loss =  1933944.625000\n",
      "Epoch: 2110 Test-Accuracy = 0.618140 Test-Top 5 Accuracy = 0.953901 Test-Loss =  3424594.750000\n",
      "Epoch: 2120 Accuracy = 0.652899 Top 5 Accuracy = 0.980036 Loss =  1931825.625000\n",
      "Epoch: 2120 Test-Accuracy = 0.616031 Test-Top 5 Accuracy = 0.951863 Test-Loss =  3445383.750000\n",
      "Epoch: 2130 Accuracy = 0.654773 Top 5 Accuracy = 0.982642 Loss =  1931266.750000\n",
      "Epoch: 2130 Test-Accuracy = 0.617765 Test-Top 5 Accuracy = 0.955611 Test-Loss =  3435830.500000\n",
      "Epoch: 2140 Accuracy = 0.654363 Top 5 Accuracy = 0.981331 Loss =  1928146.750000\n",
      "Epoch: 2140 Test-Accuracy = 0.617624 Test-Top 5 Accuracy = 0.953316 Test-Loss =  3453455.500000\n",
      "Epoch: 2150 Accuracy = 0.654943 Top 5 Accuracy = 0.982543 Loss =  1925880.500000\n",
      "Epoch: 2150 Test-Accuracy = 0.617929 Test-Top 5 Accuracy = 0.955026 Test-Loss =  3458761.500000\n",
      "Epoch: 2160 Accuracy = 0.654591 Top 5 Accuracy = 0.982373 Loss =  1922320.750000\n",
      "Epoch: 2160 Test-Accuracy = 0.617695 Test-Top 5 Accuracy = 0.954627 Test-Loss =  3457967.000000\n",
      "Epoch: 2170 Accuracy = 0.654978 Top 5 Accuracy = 0.982262 Loss =  1918719.625000\n",
      "Epoch: 2170 Test-Accuracy = 0.617905 Test-Top 5 Accuracy = 0.954370 Test-Loss =  3478985.500000\n",
      "Epoch: 2180 Accuracy = 0.656571 Top 5 Accuracy = 0.983919 Loss =  1917736.500000\n",
      "Epoch: 2180 Test-Accuracy = 0.619873 Test-Top 5 Accuracy = 0.956642 Test-Loss =  3475361.500000\n",
      "Epoch: 2190 Accuracy = 0.654480 Top 5 Accuracy = 0.982145 Loss =  1916299.375000\n",
      "Epoch: 2190 Test-Accuracy = 0.617695 Test-Top 5 Accuracy = 0.954534 Test-Loss =  3479088.500000\n",
      "Epoch: 2200 Accuracy = 0.655130 Top 5 Accuracy = 0.982572 Loss =  1913632.250000\n",
      "Epoch: 2200 Test-Accuracy = 0.617929 Test-Top 5 Accuracy = 0.954979 Test-Loss =  3500575.000000\n",
      "Epoch: 2210 Accuracy = 0.655663 Top 5 Accuracy = 0.983123 Loss =  1914395.500000\n",
      "Epoch: 2210 Test-Accuracy = 0.618655 Test-Top 5 Accuracy = 0.955752 Test-Loss =  3484969.250000\n",
      "Epoch: 2220 Accuracy = 0.655774 Top 5 Accuracy = 0.983123 Loss =  1909353.875000\n",
      "Epoch: 2220 Test-Accuracy = 0.618842 Test-Top 5 Accuracy = 0.955354 Test-Loss =  3513091.250000\n",
      "Epoch: 2230 Accuracy = 0.656055 Top 5 Accuracy = 0.983257 Loss =  1904775.500000\n",
      "Epoch: 2230 Test-Accuracy = 0.618491 Test-Top 5 Accuracy = 0.955822 Test-Loss =  3521884.500000\n",
      "Epoch: 2240 Accuracy = 0.655932 Top 5 Accuracy = 0.983163 Loss =  1903761.875000\n",
      "Epoch: 2240 Test-Accuracy = 0.618514 Test-Top 5 Accuracy = 0.955845 Test-Loss =  3518323.500000\n",
      "Epoch: 2250 Accuracy = 0.655628 Top 5 Accuracy = 0.982584 Loss =  1901637.375000\n",
      "Epoch: 2250 Test-Accuracy = 0.617976 Test-Top 5 Accuracy = 0.954721 Test-Loss =  3540861.750000\n",
      "Epoch: 2260 Accuracy = 0.655552 Top 5 Accuracy = 0.982654 Loss =  1899311.125000\n",
      "Epoch: 2260 Test-Accuracy = 0.617952 Test-Top 5 Accuracy = 0.954979 Test-Loss =  3534831.500000\n",
      "Epoch: 2270 Accuracy = 0.655183 Top 5 Accuracy = 0.982150 Loss =  1899078.625000\n",
      "Epoch: 2270 Test-Accuracy = 0.617226 Test-Top 5 Accuracy = 0.954323 Test-Loss =  3556326.500000\n",
      "Epoch: 2280 Accuracy = 0.655768 Top 5 Accuracy = 0.983310 Loss =  1893951.750000\n",
      "Epoch: 2280 Test-Accuracy = 0.617976 Test-Top 5 Accuracy = 0.955845 Test-Loss =  3549348.000000\n",
      "Epoch: 2290 Accuracy = 0.658322 Top 5 Accuracy = 0.985160 Loss =  1893266.500000\n",
      "Epoch: 2290 Test-Accuracy = 0.620295 Test-Top 5 Accuracy = 0.957181 Test-Loss =  3549977.750000\n",
      "Epoch: 2300 Accuracy = 0.656401 Top 5 Accuracy = 0.983609 Loss =  1894619.375000\n",
      "Epoch: 2300 Test-Accuracy = 0.618397 Test-Top 5 Accuracy = 0.955518 Test-Loss =  3584580.000000\n",
      "Epoch: 2310 Accuracy = 0.655733 Top 5 Accuracy = 0.983076 Loss =  1888310.000000\n",
      "Epoch: 2310 Test-Accuracy = 0.617554 Test-Top 5 Accuracy = 0.955424 Test-Loss =  3569114.000000\n",
      "Epoch: 2320 Accuracy = 0.657601 Top 5 Accuracy = 0.984557 Loss =  1886903.000000\n",
      "Epoch: 2320 Test-Accuracy = 0.619639 Test-Top 5 Accuracy = 0.956900 Test-Loss =  3575298.000000\n",
      "Epoch: 2330 Accuracy = 0.657554 Top 5 Accuracy = 0.984458 Loss =  1886466.000000\n",
      "Epoch: 2330 Test-Accuracy = 0.619873 Test-Top 5 Accuracy = 0.956337 Test-Loss =  3595119.500000\n",
      "Epoch: 2340 Accuracy = 0.656418 Top 5 Accuracy = 0.983544 Loss =  1883548.875000\n",
      "Epoch: 2340 Test-Accuracy = 0.618210 Test-Top 5 Accuracy = 0.955377 Test-Loss =  3594672.000000\n",
      "Epoch: 2350 Accuracy = 0.655780 Top 5 Accuracy = 0.982783 Loss =  1882102.250000\n",
      "Epoch: 2350 Test-Accuracy = 0.617414 Test-Top 5 Accuracy = 0.954674 Test-Loss =  3609957.750000\n",
      "Epoch: 2360 Accuracy = 0.656278 Top 5 Accuracy = 0.983732 Loss =  1888402.875000\n",
      "Epoch: 2360 Test-Accuracy = 0.618796 Test-Top 5 Accuracy = 0.955658 Test-Loss =  3611172.500000\n",
      "Epoch: 2370 Accuracy = 0.655985 Top 5 Accuracy = 0.983562 Loss =  1877432.500000\n",
      "Epoch: 2370 Test-Accuracy = 0.618163 Test-Top 5 Accuracy = 0.955330 Test-Loss =  3623707.750000\n",
      "Epoch: 2380 Accuracy = 0.656395 Top 5 Accuracy = 0.983855 Loss =  1876925.250000\n",
      "Epoch: 2380 Test-Accuracy = 0.618163 Test-Top 5 Accuracy = 0.955728 Test-Loss =  3617167.000000\n",
      "Epoch: 2390 Accuracy = 0.658298 Top 5 Accuracy = 0.985254 Loss =  1873197.625000\n",
      "Epoch: 2390 Test-Accuracy = 0.619686 Test-Top 5 Accuracy = 0.956923 Test-Loss =  3628210.750000\n",
      "Epoch: 2400 Accuracy = 0.658749 Top 5 Accuracy = 0.985389 Loss =  1870515.625000\n",
      "Epoch: 2400 Test-Accuracy = 0.619826 Test-Top 5 Accuracy = 0.957157 Test-Loss =  3647437.000000\n",
      "Epoch: 2410 Accuracy = 0.659639 Top 5 Accuracy = 0.986010 Loss =  1868539.750000\n",
      "Epoch: 2410 Test-Accuracy = 0.620529 Test-Top 5 Accuracy = 0.957626 Test-Loss =  3645456.000000\n",
      "Epoch: 2420 Accuracy = 0.657150 Top 5 Accuracy = 0.984159 Loss =  1876191.500000\n",
      "Epoch: 2420 Test-Accuracy = 0.618796 Test-Top 5 Accuracy = 0.956127 Test-Loss =  3644602.000000\n",
      "Epoch: 2430 Accuracy = 0.655932 Top 5 Accuracy = 0.983134 Loss =  1875856.625000\n",
      "Epoch: 2430 Test-Accuracy = 0.616453 Test-Top 5 Accuracy = 0.954745 Test-Loss =  3683556.500000\n",
      "Epoch: 2440 Accuracy = 0.660348 Top 5 Accuracy = 0.986531 Loss =  1865729.500000\n",
      "Epoch: 2440 Test-Accuracy = 0.620997 Test-Top 5 Accuracy = 0.958001 Test-Loss =  3676840.500000\n",
      "Epoch: 2450 Accuracy = 0.656828 Top 5 Accuracy = 0.983480 Loss =  1860971.125000\n",
      "Epoch: 2450 Test-Accuracy = 0.617460 Test-Top 5 Accuracy = 0.955166 Test-Loss =  3686473.500000\n",
      "Epoch: 2460 Accuracy = 0.658304 Top 5 Accuracy = 0.985096 Loss =  1860178.000000\n",
      "Epoch: 2460 Test-Accuracy = 0.618538 Test-Top 5 Accuracy = 0.956361 Test-Loss =  3677436.500000\n",
      "Epoch: 2470 Accuracy = 0.657215 Top 5 Accuracy = 0.984089 Loss =  1855072.000000\n",
      "Epoch: 2470 Test-Accuracy = 0.617648 Test-Top 5 Accuracy = 0.955916 Test-Loss =  3693729.250000\n",
      "Epoch: 2480 Accuracy = 0.658005 Top 5 Accuracy = 0.984616 Loss =  1853965.750000\n",
      "Epoch: 2480 Test-Accuracy = 0.618257 Test-Top 5 Accuracy = 0.956548 Test-Loss =  3707164.250000\n",
      "Epoch: 2490 Accuracy = 0.657882 Top 5 Accuracy = 0.984551 Loss =  1851519.375000\n",
      "Epoch: 2490 Test-Accuracy = 0.617835 Test-Top 5 Accuracy = 0.956150 Test-Loss =  3711633.250000\n",
      "Epoch: 2500 Accuracy = 0.657168 Top 5 Accuracy = 0.984358 Loss =  1856212.250000\n",
      "Epoch: 2500 Test-Accuracy = 0.617905 Test-Top 5 Accuracy = 0.955822 Test-Loss =  3701866.000000\n",
      "Epoch: 2510 Accuracy = 0.653695 Top 5 Accuracy = 0.980926 Loss =  1851312.750000\n",
      "Epoch: 2510 Test-Accuracy = 0.614532 Test-Top 5 Accuracy = 0.952262 Test-Loss =  3732493.000000\n",
      "Epoch: 2520 Accuracy = 0.659610 Top 5 Accuracy = 0.986086 Loss =  1848748.750000\n",
      "Epoch: 2520 Test-Accuracy = 0.620084 Test-Top 5 Accuracy = 0.957930 Test-Loss =  3724539.000000\n",
      "Epoch: 2530 Accuracy = 0.659019 Top 5 Accuracy = 0.985717 Loss =  1846959.500000\n",
      "Epoch: 2530 Test-Accuracy = 0.619686 Test-Top 5 Accuracy = 0.957743 Test-Loss =  3738445.500000\n",
      "Epoch: 2540 Accuracy = 0.656032 Top 5 Accuracy = 0.982836 Loss =  1843560.625000\n",
      "Epoch: 2540 Test-Accuracy = 0.616922 Test-Top 5 Accuracy = 0.954932 Test-Loss =  3743749.000000\n",
      "Epoch: 2550 Accuracy = 0.663967 Top 5 Accuracy = 0.988364 Loss =  1840385.375000\n",
      "Epoch: 2550 Test-Accuracy = 0.623855 Test-Top 5 Accuracy = 0.960366 Test-Loss =  3750802.000000\n",
      "Epoch: 2560 Accuracy = 0.661484 Top 5 Accuracy = 0.987380 Loss =  1838597.500000\n",
      "Epoch: 2560 Test-Accuracy = 0.621114 Test-Top 5 Accuracy = 0.959429 Test-Loss =  3760095.250000\n",
      "Epoch: 2570 Accuracy = 0.656576 Top 5 Accuracy = 0.982970 Loss =  1837828.500000\n",
      "Epoch: 2570 Test-Accuracy = 0.616430 Test-Top 5 Accuracy = 0.954815 Test-Loss =  3772278.250000\n",
      "Epoch: 2580 Accuracy = 0.660330 Top 5 Accuracy = 0.986712 Loss =  1834041.125000\n",
      "Epoch: 2580 Test-Accuracy = 0.619826 Test-Top 5 Accuracy = 0.958399 Test-Loss =  3771557.500000\n",
      "Epoch: 2590 Accuracy = 0.660295 Top 5 Accuracy = 0.986601 Loss =  1838473.250000\n",
      "Epoch: 2590 Test-Accuracy = 0.620014 Test-Top 5 Accuracy = 0.958328 Test-Loss =  3784936.000000\n",
      "Epoch: 2600 Accuracy = 0.660348 Top 5 Accuracy = 0.987052 Loss =  1841798.000000\n",
      "Epoch: 2600 Test-Accuracy = 0.620716 Test-Top 5 Accuracy = 0.958633 Test-Loss =  3776836.000000\n",
      "Epoch: 2610 Accuracy = 0.659868 Top 5 Accuracy = 0.986425 Loss =  1834760.625000\n",
      "Epoch: 2610 Test-Accuracy = 0.620037 Test-Top 5 Accuracy = 0.958352 Test-Loss =  3801035.000000\n",
      "Epoch: 2620 Accuracy = 0.656325 Top 5 Accuracy = 0.982847 Loss =  1826926.250000\n",
      "Epoch: 2620 Test-Accuracy = 0.617109 Test-Top 5 Accuracy = 0.955190 Test-Loss =  3795124.000000\n",
      "Epoch: 2630 Accuracy = 0.655610 Top 5 Accuracy = 0.982513 Loss =  1824609.000000\n",
      "Epoch: 2630 Test-Accuracy = 0.616734 Test-Top 5 Accuracy = 0.954440 Test-Loss =  3806889.500000\n",
      "Epoch: 2640 Accuracy = 0.653748 Top 5 Accuracy = 0.980897 Loss =  1826868.000000\n",
      "Epoch: 2640 Test-Accuracy = 0.614696 Test-Top 5 Accuracy = 0.952566 Test-Loss =  3821515.750000\n",
      "Epoch: 2650 Accuracy = 0.662468 Top 5 Accuracy = 0.988007 Loss =  1821247.625000\n",
      "Epoch: 2650 Test-Accuracy = 0.622098 Test-Top 5 Accuracy = 0.959898 Test-Loss =  3815637.000000\n",
      "Epoch: 2660 Accuracy = 0.658099 Top 5 Accuracy = 0.985570 Loss =  1820030.750000\n",
      "Epoch: 2660 Test-Accuracy = 0.618819 Test-Top 5 Accuracy = 0.957110 Test-Loss =  3817045.000000\n",
      "Epoch: 2670 Accuracy = 0.657496 Top 5 Accuracy = 0.984786 Loss =  1816869.750000\n",
      "Epoch: 2670 Test-Accuracy = 0.618327 Test-Top 5 Accuracy = 0.956455 Test-Loss =  3838001.500000\n",
      "Epoch: 2680 Accuracy = 0.662966 Top 5 Accuracy = 0.988674 Loss =  1817508.250000\n",
      "Epoch: 2680 Test-Accuracy = 0.623410 Test-Top 5 Accuracy = 0.960202 Test-Loss =  3834675.500000\n",
      "Epoch: 2690 Accuracy = 0.655212 Top 5 Accuracy = 0.982332 Loss =  1814466.000000\n",
      "Epoch: 2690 Test-Accuracy = 0.615399 Test-Top 5 Accuracy = 0.953831 Test-Loss =  3850601.500000\n",
      "Epoch: 2700 Accuracy = 0.655487 Top 5 Accuracy = 0.982912 Loss =  1814248.250000\n",
      "Epoch: 2700 Test-Accuracy = 0.616453 Test-Top 5 Accuracy = 0.954674 Test-Loss =  3845103.000000\n",
      "Epoch: 2710 Accuracy = 0.662456 Top 5 Accuracy = 0.987807 Loss =  1811359.500000\n",
      "Epoch: 2710 Test-Accuracy = 0.622192 Test-Top 5 Accuracy = 0.959874 Test-Loss =  3868683.250000\n",
      "Epoch: 2720 Accuracy = 0.661788 Top 5 Accuracy = 0.987796 Loss =  1812505.000000\n",
      "Epoch: 2720 Test-Accuracy = 0.621958 Test-Top 5 Accuracy = 0.959453 Test-Loss =  3861417.500000\n",
      "Epoch: 2730 Accuracy = 0.664640 Top 5 Accuracy = 0.988393 Loss =  1805953.875000\n",
      "Epoch: 2730 Test-Accuracy = 0.624019 Test-Top 5 Accuracy = 0.960811 Test-Loss =  3874309.000000\n",
      "Epoch: 2740 Accuracy = 0.655944 Top 5 Accuracy = 0.983240 Loss =  1814995.500000\n",
      "Epoch: 2740 Test-Accuracy = 0.616641 Test-Top 5 Accuracy = 0.955119 Test-Loss =  3865395.500000\n",
      "Epoch: 2750 Accuracy = 0.660248 Top 5 Accuracy = 0.987228 Loss =  1809850.000000\n",
      "Epoch: 2750 Test-Accuracy = 0.620435 Test-Top 5 Accuracy = 0.958727 Test-Loss =  3890314.500000\n",
      "Epoch: 2760 Accuracy = 0.659106 Top 5 Accuracy = 0.986478 Loss =  1802453.250000\n",
      "Epoch: 2760 Test-Accuracy = 0.619545 Test-Top 5 Accuracy = 0.957555 Test-Loss =  3889498.000000\n",
      "Epoch: 2770 Accuracy = 0.657642 Top 5 Accuracy = 0.984874 Loss =  1799563.500000\n",
      "Epoch: 2770 Test-Accuracy = 0.618093 Test-Top 5 Accuracy = 0.955822 Test-Loss =  3895853.000000\n",
      "Epoch: 2780 Accuracy = 0.659669 Top 5 Accuracy = 0.986466 Loss =  1798764.125000\n",
      "Epoch: 2780 Test-Accuracy = 0.619873 Test-Top 5 Accuracy = 0.957555 Test-Loss =  3902038.250000\n",
      "Epoch: 2790 Accuracy = 0.657666 Top 5 Accuracy = 0.984967 Loss =  1794555.875000\n",
      "Epoch: 2790 Test-Accuracy = 0.618046 Test-Top 5 Accuracy = 0.956009 Test-Loss =  3910401.250000\n",
      "Epoch: 2800 Accuracy = 0.663563 Top 5 Accuracy = 0.988633 Loss =  1805250.250000\n",
      "Epoch: 2800 Test-Accuracy = 0.623480 Test-Top 5 Accuracy = 0.960109 Test-Loss =  3921772.500000\n",
      "Epoch: 2810 Accuracy = 0.664219 Top 5 Accuracy = 0.988165 Loss =  1793099.375000\n",
      "Epoch: 2810 Test-Accuracy = 0.623504 Test-Top 5 Accuracy = 0.959898 Test-Loss =  3919615.250000\n",
      "Epoch: 2820 Accuracy = 0.660459 Top 5 Accuracy = 0.987339 Loss =  1791986.500000\n",
      "Epoch: 2820 Test-Accuracy = 0.620295 Test-Top 5 Accuracy = 0.958914 Test-Loss =  3931441.000000\n",
      "Epoch: 2830 Accuracy = 0.658708 Top 5 Accuracy = 0.985787 Loss =  1790927.375000\n",
      "Epoch: 2830 Test-Accuracy = 0.619264 Test-Top 5 Accuracy = 0.956736 Test-Loss =  3928774.750000\n",
      "Epoch: 2840 Accuracy = 0.660313 Top 5 Accuracy = 0.986706 Loss =  1786639.500000\n",
      "Epoch: 2840 Test-Accuracy = 0.620060 Test-Top 5 Accuracy = 0.957860 Test-Loss =  3946427.750000\n",
      "Epoch: 2850 Accuracy = 0.665495 Top 5 Accuracy = 0.988393 Loss =  1790617.250000\n",
      "Epoch: 2850 Test-Accuracy = 0.624769 Test-Top 5 Accuracy = 0.959453 Test-Loss =  3953658.750000\n",
      "Epoch: 2860 Accuracy = 0.659106 Top 5 Accuracy = 0.985377 Loss =  1795613.125000\n",
      "Epoch: 2860 Test-Accuracy = 0.619545 Test-Top 5 Accuracy = 0.956876 Test-Loss =  3938747.750000\n",
      "Epoch: 2870 Accuracy = 0.649596 Top 5 Accuracy = 0.971797 Loss =  1801798.750000\n",
      "Epoch: 2870 Test-Accuracy = 0.611300 Test-Top 5 Accuracy = 0.942939 Test-Loss =  3958055.000000\n",
      "Epoch: 2880 Accuracy = 0.660717 Top 5 Accuracy = 0.987878 Loss =  1788744.250000\n",
      "Epoch: 2880 Test-Accuracy = 0.621419 Test-Top 5 Accuracy = 0.958703 Test-Loss =  3965945.500000\n",
      "Epoch: 2890 Accuracy = 0.661718 Top 5 Accuracy = 0.986607 Loss =  1781995.250000\n",
      "Epoch: 2890 Test-Accuracy = 0.621700 Test-Top 5 Accuracy = 0.958118 Test-Loss =  3968165.000000\n",
      "Epoch: 2900 Accuracy = 0.662737 Top 5 Accuracy = 0.987128 Loss =  1777899.000000\n",
      "Epoch: 2900 Test-Accuracy = 0.622590 Test-Top 5 Accuracy = 0.958328 Test-Loss =  3974060.250000\n",
      "Epoch: 2910 Accuracy = 0.661215 Top 5 Accuracy = 0.986911 Loss =  1775375.000000\n",
      "Epoch: 2910 Test-Accuracy = 0.621021 Test-Top 5 Accuracy = 0.958094 Test-Loss =  3978348.500000\n",
      "Epoch: 2920 Accuracy = 0.661425 Top 5 Accuracy = 0.986654 Loss =  1773545.625000\n",
      "Epoch: 2920 Test-Accuracy = 0.620857 Test-Top 5 Accuracy = 0.957930 Test-Loss =  3986303.500000\n",
      "Epoch: 2930 Accuracy = 0.661683 Top 5 Accuracy = 0.986759 Loss =  1771951.000000\n",
      "Epoch: 2930 Test-Accuracy = 0.621068 Test-Top 5 Accuracy = 0.958047 Test-Loss =  3991109.500000\n",
      "Epoch: 2940 Accuracy = 0.661215 Top 5 Accuracy = 0.986525 Loss =  1771377.125000\n",
      "Epoch: 2940 Test-Accuracy = 0.620482 Test-Top 5 Accuracy = 0.957883 Test-Loss =  3999385.500000\n",
      "Epoch: 2950 Accuracy = 0.662433 Top 5 Accuracy = 0.987128 Loss =  1769342.250000\n",
      "Epoch: 2950 Test-Accuracy = 0.621817 Test-Top 5 Accuracy = 0.958422 Test-Loss =  4005133.750000\n",
      "Epoch: 2960 Accuracy = 0.664570 Top 5 Accuracy = 0.988001 Loss =  1778581.250000\n",
      "Epoch: 2960 Test-Accuracy = 0.623785 Test-Top 5 Accuracy = 0.960202 Test-Loss =  3992227.000000\n",
      "Epoch: 2970 Accuracy = 0.659956 Top 5 Accuracy = 0.986367 Loss =  1768702.625000\n",
      "Epoch: 2970 Test-Accuracy = 0.619662 Test-Top 5 Accuracy = 0.957532 Test-Loss =  4018618.500000\n",
      "Epoch: 2980 Accuracy = 0.659060 Top 5 Accuracy = 0.985389 Loss =  1771573.250000\n",
      "Epoch: 2980 Test-Accuracy = 0.619428 Test-Top 5 Accuracy = 0.957345 Test-Loss =  4012916.000000\n",
      "Epoch: 2990 Accuracy = 0.652536 Top 5 Accuracy = 0.978004 Loss =  1767169.375000\n",
      "Epoch: 2990 Test-Accuracy = 0.613174 Test-Top 5 Accuracy = 0.949404 Test-Loss =  4021825.000000\n",
      "\n",
      "Optimization Finished!\n",
      "Training Accuracy= 0.664746\n",
      "Training Top 5 Accuracy= 0.988352\n",
      "\n",
      "Testing Accuracy= 0.623668\n",
      "Testing Top 5 Accuracy= 0.959898\n"
     ]
    }
   ],
   "source": [
    "accuracy_summary = [] #Record accuracy values for plot\n",
    "accuracy_top5_summary = [] #Record accuracy values for plot\n",
    "loss_summary = [] #Record cost values for plot\n",
    "\n",
    "test_accuracy_summary = [] #Record accuracy values for plot\n",
    "test_accuracy_top5_summary = [] #Record accuracy values for plot\n",
    "test_loss_summary = [] #Record cost values for plot\n",
    "\n",
    "init = tf.initialize_all_variables()\n",
    "\n",
    "for i in range(training_epochs):  \n",
    "    session.run([optimizer], \n",
    "                feed_dict={features: inputX, \n",
    "                           labels: inputY,\n",
    "                           pkeep: training_dropout})\n",
    "\n",
    "    # Display logs per epoch step\n",
    "    if (i) % display_step == 0:\n",
    "        train_accuracy, train_accuracy_top5, newLoss = session.run([accuracy,accuracy_top5,loss], \n",
    "                                                                   feed_dict={features: inputX, \n",
    "                                                                              labels: inputY,\n",
    "                                                                              pkeep: training_dropout})\n",
    "        print (\"Epoch:\", i,\n",
    "               \"Accuracy =\", \"{:.6f}\".format(train_accuracy), \n",
    "               \"Top 5 Accuracy =\", \"{:.6f}\".format(train_accuracy_top5),\n",
    "               \"Loss = \", \"{:.6f}\".format(newLoss))\n",
    "        accuracy_summary.append(train_accuracy)\n",
    "        accuracy_top5_summary.append(train_accuracy_top5)\n",
    "        loss_summary.append(newLoss)\n",
    "        \n",
    "        test_accuracy,test_accuracy_top5,test_newLoss = session.run([accuracy,accuracy_top5,loss], \n",
    "                                                              feed_dict={features: inputX_test, \n",
    "                                                                         labels: inputY_test,\n",
    "                                                                         pkeep: 1})\n",
    "        print (\"Epoch:\", i,\n",
    "               \"Test-Accuracy =\", \"{:.6f}\".format(test_accuracy), \n",
    "               \"Test-Top 5 Accuracy =\", \"{:.6f}\".format(test_accuracy_top5),\n",
    "               \"Test-Loss = \", \"{:.6f}\".format(test_newLoss))\n",
    "        test_accuracy_summary.append(test_accuracy)\n",
    "        test_accuracy_top5_summary.append(test_accuracy_top5)\n",
    "        test_loss_summary.append(test_newLoss)\n",
    "\n",
    "print()\n",
    "print (\"Optimization Finished!\")\n",
    "training_accuracy, training_top5_accuracy = session.run([accuracy,accuracy_top5], \n",
    "                                feed_dict={features: inputX, labels: inputY, pkeep: training_dropout})\n",
    "print (\"Training Accuracy=\", training_accuracy)\n",
    "print (\"Training Top 5 Accuracy=\", training_top5_accuracy)\n",
    "print()\n",
    "testing_accuracy, testing_top5_accuracy = session.run([accuracy,accuracy_top5], \n",
    "                                                       feed_dict={features: inputX_test, \n",
    "                                                                  labels: inputY_test,\n",
    "                                                                  pkeep: 1})\n",
    "print (\"Testing Accuracy=\", testing_accuracy)\n",
    "print (\"Testing Top 5 Accuracy=\", testing_top5_accuracy)"
   ]
  },
  {
   "cell_type": "code",
   "execution_count": null,
   "metadata": {
    "collapsed": false
   },
   "outputs": [
    {
     "name": "stdout",
     "output_type": "stream",
     "text": [
      "                           precision    recall  f1-score   support\n",
      "\n",
      "   country_destination_AU       0.01      0.04      0.01       110\n",
      "   country_destination_CA       0.02      0.10      0.03       290\n",
      "   country_destination_DE       0.02      0.11      0.03       219\n",
      "   country_destination_ES       0.03      0.17      0.05       456\n",
      "   country_destination_FR       0.06      0.08      0.07       998\n",
      "   country_destination_GB       0.02      0.15      0.04       449\n",
      "   country_destination_IT       0.04      0.18      0.06       565\n",
      "  country_destination_NDF       1.00      1.00      1.00     24984\n",
      "   country_destination_NL       0.01      0.06      0.02       155\n",
      "   country_destination_PT       0.00      0.02      0.01        44\n",
      "   country_destination_US       0.72      0.08      0.15     12427\n",
      "country_destination_other       0.12      0.11      0.12      1994\n",
      "\n",
      "              avg / total       0.80      0.62      0.64     42691\n",
      "\n"
     ]
    }
   ],
   "source": [
    "testing_predictions, testing_labels = session.run([tf.argmax(predictions,1), tf.argmax(labels,1)], \n",
    "                                                  feed_dict={features: inputX_test,\n",
    "                                                             labels: inputY_test,\n",
    "                                                             pkeep: 1})\n",
    "\n",
    "print(classification_report(testing_labels, testing_predictions, target_names=y.columns))"
   ]
  },
  {
   "cell_type": "code",
   "execution_count": null,
   "metadata": {
    "collapsed": false
   },
   "outputs": [
    {
     "data": {
      "image/png": "[encoded data removed]",
      "text/plain": [
       "<matplotlib.figure.Figure at 0x118bbb128>"
      ]
     },
     "metadata": {},
     "output_type": "display_data"
    }
   ],
   "source": [
    "#Plot accuracies and cost summary\n",
    "f, (ax1, ax2, ax3) = plt.subplots(3, 1, sharex=True, figsize=(10,8))\n",
    "\n",
    "ax1.plot(accuracy_summary)\n",
    "ax1.plot(test_accuracy_summary)\n",
    "ax1.set_title('Top 1 Accuracy')\n",
    "\n",
    "ax2.plot(accuracy_top5_summary)\n",
    "ax2.plot(test_accuracy_top5_summary)\n",
    "ax2.set_title('Top 5 Accuracy')\n",
    "\n",
    "ax3.plot(loss_summary)\n",
    "ax3.plot(test_loss_summary)\n",
    "ax3.set_title('Loss')\n",
    "\n",
    "plt.xlabel('Epochs (x10)')\n",
    "plt.show()"
   ]
  },
  {
   "cell_type": "code",
   "execution_count": null,
   "metadata": {
    "collapsed": false
   },
   "outputs": [],
   "source": [
    "# Find the probabilities for each prediction\n",
    "test_final = df_test.as_matrix()\n",
    "final_probabilities = session.run(predictions, feed_dict={features: test_final,\n",
    "                                                          pkeep: 1})"
   ]
  },
  {
   "cell_type": "code",
   "execution_count": null,
   "metadata": {
    "collapsed": false
   },
   "outputs": [
    {
     "data": {
      "text/plain": [
       "array([  7.34245255e-21,   5.02517741e-30,   1.42874395e-25,\n",
       "         2.40796284e-15,   4.88082264e-07,   2.60900578e-07,\n",
       "         1.31230571e-09,   9.99996901e-01,   3.10756943e-27,\n",
       "         3.81869185e-14,   1.90081550e-06,   4.43023225e-07], dtype=float32)"
      ]
     },
     "execution_count": 143,
     "metadata": {},
     "output_type": "execute_result"
    }
   ],
   "source": [
    "# Explore some of the predictions\n",
    "final_probabilities[0]"
   ]
  },
  {
   "cell_type": "code",
   "execution_count": null,
   "metadata": {
    "collapsed": false
   },
   "outputs": [
    {
     "name": "stdout",
     "output_type": "stream",
     "text": [
      "Percent complete: 0.0%\n",
      "Percent complete: 16.1%\n",
      "Percent complete: 32.21%\n",
      "Percent complete: 48.309999999999995%\n",
      "Percent complete: 64.42%\n",
      "Percent complete: 80.52%\n",
      "Percent complete: 96.61999999999999%\n"
     ]
    }
   ],
   "source": [
    "# Encode the labels for the countries\n",
    "le = LabelEncoder()\n",
    "fit_labels = le.fit_transform(train.country_destination) \n",
    "\n",
    "# Get the ids for the test data\n",
    "test_getIDs = pd.read_csv(\"test_users.csv\")\n",
    "testIDs = test_getIDs['id']\n",
    "\n",
    "ids = []  #list of ids\n",
    "countries = []  #list of countries\n",
    "for i in range(len(testIDs)):\n",
    "    # Select the 5 countries with highest probabilities\n",
    "    idx = testIDs[i]\n",
    "    ids += [idx] * 5\n",
    "    countries += le.inverse_transform(np.argsort(final_probabilities[i])[::-1])[:5].tolist()\n",
    "    if i % 10000 == 0:\n",
    "        print (\"Percent complete: {}%\".format(round(i / len(test),4)*100))\n",
    "\n",
    "#Generate submission\n",
    "submission = pd.DataFrame(np.column_stack((ids, countries)), columns=['id', 'country'])\n",
    "submission.to_csv('submission.csv',index=False)"
   ]
  },
  {
   "cell_type": "code",
   "execution_count": null,
   "metadata": {
    "collapsed": false,
    "scrolled": true
   },
   "outputs": [
    {
     "data": {
      "text/html": [
       "<div>\n",
       "<table border=\"1\" class=\"dataframe\">\n",
       "  <thead>\n",
       "    <tr style=\"text-align: right;\">\n",
       "      <th></th>\n",
       "      <th>id</th>\n",
       "      <th>country</th>\n",
       "    </tr>\n",
       "  </thead>\n",
       "  <tbody>\n",
       "    <tr>\n",
       "      <th>0</th>\n",
       "      <td>5uwns89zht</td>\n",
       "      <td>NDF</td>\n",
       "    </tr>\n",
       "    <tr>\n",
       "      <th>1</th>\n",
       "      <td>5uwns89zht</td>\n",
       "      <td>US</td>\n",
       "    </tr>\n",
       "    <tr>\n",
       "      <th>2</th>\n",
       "      <td>5uwns89zht</td>\n",
       "      <td>FR</td>\n",
       "    </tr>\n",
       "    <tr>\n",
       "      <th>3</th>\n",
       "      <td>5uwns89zht</td>\n",
       "      <td>other</td>\n",
       "    </tr>\n",
       "    <tr>\n",
       "      <th>4</th>\n",
       "      <td>5uwns89zht</td>\n",
       "      <td>GB</td>\n",
       "    </tr>\n",
       "    <tr>\n",
       "      <th>5</th>\n",
       "      <td>jtl0dijy2j</td>\n",
       "      <td>NDF</td>\n",
       "    </tr>\n",
       "    <tr>\n",
       "      <th>6</th>\n",
       "      <td>jtl0dijy2j</td>\n",
       "      <td>US</td>\n",
       "    </tr>\n",
       "    <tr>\n",
       "      <th>7</th>\n",
       "      <td>jtl0dijy2j</td>\n",
       "      <td>IT</td>\n",
       "    </tr>\n",
       "    <tr>\n",
       "      <th>8</th>\n",
       "      <td>jtl0dijy2j</td>\n",
       "      <td>other</td>\n",
       "    </tr>\n",
       "    <tr>\n",
       "      <th>9</th>\n",
       "      <td>jtl0dijy2j</td>\n",
       "      <td>FR</td>\n",
       "    </tr>\n",
       "    <tr>\n",
       "      <th>10</th>\n",
       "      <td>xx0ulgorjt</td>\n",
       "      <td>NDF</td>\n",
       "    </tr>\n",
       "    <tr>\n",
       "      <th>11</th>\n",
       "      <td>xx0ulgorjt</td>\n",
       "      <td>FR</td>\n",
       "    </tr>\n",
       "    <tr>\n",
       "      <th>12</th>\n",
       "      <td>xx0ulgorjt</td>\n",
       "      <td>US</td>\n",
       "    </tr>\n",
       "    <tr>\n",
       "      <th>13</th>\n",
       "      <td>xx0ulgorjt</td>\n",
       "      <td>other</td>\n",
       "    </tr>\n",
       "    <tr>\n",
       "      <th>14</th>\n",
       "      <td>xx0ulgorjt</td>\n",
       "      <td>IT</td>\n",
       "    </tr>\n",
       "    <tr>\n",
       "      <th>15</th>\n",
       "      <td>6c6puo6ix0</td>\n",
       "      <td>NDF</td>\n",
       "    </tr>\n",
       "    <tr>\n",
       "      <th>16</th>\n",
       "      <td>6c6puo6ix0</td>\n",
       "      <td>FR</td>\n",
       "    </tr>\n",
       "    <tr>\n",
       "      <th>17</th>\n",
       "      <td>6c6puo6ix0</td>\n",
       "      <td>US</td>\n",
       "    </tr>\n",
       "    <tr>\n",
       "      <th>18</th>\n",
       "      <td>6c6puo6ix0</td>\n",
       "      <td>other</td>\n",
       "    </tr>\n",
       "    <tr>\n",
       "      <th>19</th>\n",
       "      <td>6c6puo6ix0</td>\n",
       "      <td>IT</td>\n",
       "    </tr>\n",
       "    <tr>\n",
       "      <th>20</th>\n",
       "      <td>czqhjk3yfe</td>\n",
       "      <td>NDF</td>\n",
       "    </tr>\n",
       "    <tr>\n",
       "      <th>21</th>\n",
       "      <td>czqhjk3yfe</td>\n",
       "      <td>other</td>\n",
       "    </tr>\n",
       "    <tr>\n",
       "      <th>22</th>\n",
       "      <td>czqhjk3yfe</td>\n",
       "      <td>US</td>\n",
       "    </tr>\n",
       "    <tr>\n",
       "      <th>23</th>\n",
       "      <td>czqhjk3yfe</td>\n",
       "      <td>FR</td>\n",
       "    </tr>\n",
       "    <tr>\n",
       "      <th>24</th>\n",
       "      <td>czqhjk3yfe</td>\n",
       "      <td>IT</td>\n",
       "    </tr>\n",
       "  </tbody>\n",
       "</table>\n",
       "</div>"
      ],
      "text/plain": [
       "            id country\n",
       "0   5uwns89zht     NDF\n",
       "1   5uwns89zht      US\n",
       "2   5uwns89zht      FR\n",
       "3   5uwns89zht   other\n",
       "4   5uwns89zht      GB\n",
       "5   jtl0dijy2j     NDF\n",
       "6   jtl0dijy2j      US\n",
       "7   jtl0dijy2j      IT\n",
       "8   jtl0dijy2j   other\n",
       "9   jtl0dijy2j      FR\n",
       "10  xx0ulgorjt     NDF\n",
       "11  xx0ulgorjt      FR\n",
       "12  xx0ulgorjt      US\n",
       "13  xx0ulgorjt   other\n",
       "14  xx0ulgorjt      IT\n",
       "15  6c6puo6ix0     NDF\n",
       "16  6c6puo6ix0      FR\n",
       "17  6c6puo6ix0      US\n",
       "18  6c6puo6ix0   other\n",
       "19  6c6puo6ix0      IT\n",
       "20  czqhjk3yfe     NDF\n",
       "21  czqhjk3yfe   other\n",
       "22  czqhjk3yfe      US\n",
       "23  czqhjk3yfe      FR\n",
       "24  czqhjk3yfe      IT"
      ]
     },
     "execution_count": 145,
     "metadata": {},
     "output_type": "execute_result"
    }
   ],
   "source": [
    "# Check some of the submissions\n",
    "submission.head(25)"
   ]
  },
  {
   "cell_type": "code",
   "execution_count": null,
   "metadata": {
    "collapsed": false
   },
   "outputs": [
    {
     "data": {
      "text/plain": [
       "US       62096\n",
       "NDF      62074\n",
       "FR       61792\n",
       "other    61527\n",
       "IT       45328\n",
       "GB       15275\n",
       "ES        1363\n",
       "NL         679\n",
       "AU         280\n",
       "DE          60\n",
       "CA           3\n",
       "PT           3\n",
       "Name: country, dtype: int64"
      ]
     },
     "execution_count": 146,
     "metadata": {},
     "output_type": "execute_result"
    }
   ],
   "source": [
    "# Compare the submission's distribution to the training data's distribution.\n",
    "# Given that the data was randomly split, \n",
    "# a more equal distribution should lead to better scores in the Kaggle competition.\n",
    "submission.country.value_counts()"
   ]
  },
  {
   "cell_type": "code",
   "execution_count": null,
   "metadata": {
    "collapsed": false
   },
   "outputs": [
    {
     "data": {
      "text/plain": [
       "NDF      124543\n",
       "US        62376\n",
       "other     10094\n",
       "FR         5023\n",
       "IT         2835\n",
       "GB         2324\n",
       "ES         2249\n",
       "CA         1428\n",
       "DE         1061\n",
       "NL          762\n",
       "AU          539\n",
       "PT          217\n",
       "Name: country_destination, dtype: int64"
      ]
     },
     "execution_count": 147,
     "metadata": {},
     "output_type": "execute_result"
    }
   ],
   "source": [
    "train.country_destination.value_counts()"
   ]
  },
  {
   "cell_type": "markdown",
   "metadata": {},
   "source": [
    "## Summary"
   ]
  },
  {
   "cell_type": "markdown",
   "metadata": {},
   "source": [
    "Based on Kaggle's evaluation method (https://www.kaggle.com/c/airbnb-recruiting-new-user-bookings#evaluation), the neural network scores just under 0.86 when all of the training data is used. The winning submission scored 0.88697 and the sample submission scored 0.68411. Looking at the leaderboard and some kernels, the most common algorithm for the better scores was XGBoost. Given that the purpose of this analyis was to further my knowledge of TensorFlow (in addition to the other aspects of machine learning - i.e. feature engineering, cleaning data, etc.), I do not feel the need to use XGBoost to try to make a better prediction. I am rather pleased with this model on a whole, given its ability to accurately predict which country a user will make his/her first trip in. The 'lazy' prediction method would be to use the top and top 5 most common countries for the predictions. This would equal an accuracy score of 58.35% for the top predictions and 95.98% for the top 5 predictions. For the testing data, my top predictions scored a higher accuracy of 62.37%, as well as for the top 5 predictions, at 95.99%. My predictions are also more useful since they make use of all twelve countries, instead of just the five most common."
   ]
  },
  {
   "cell_type": "code",
   "execution_count": null,
   "metadata": {
    "collapsed": true
   },
   "outputs": [],
   "source": []
  }
 ],
 "metadata": {
  "anaconda-cloud": {},
  "kernelspec": {
   "display_name": "Python [default]",
   "language": "python",
   "name": "python3"
  },
  "language_info": {
   "codemirror_mode": {
    "name": "ipython",
    "version": 3
   },
   "file_extension": ".py",
   "mimetype": "text/x-python",
   "name": "python",
   "nbconvert_exporter": "python",
   "pygments_lexer": "ipython3",
   "version": "3.5.2"
  }
 },
 "nbformat": 4,
 "nbformat_minor": 1
}
